{
 "cells": [
  {
   "cell_type": "code",
   "execution_count": 250,
   "id": "47261c28",
   "metadata": {},
   "outputs": [],
   "source": [
    "import sys\n",
    "sys.path.append('../')\n",
    "from models.experimental import attempt_load\n",
    "from models.yolo import Model,Detect\n",
    "from models.common import Conv,C3,SPPF,Concat\n",
    "import torch.nn as nn\n",
    "import torch\n",
    "import scipy.cluster.hierarchy as hac\n",
    "from sklearn.preprocessing import normalize\n",
    "from utils.general import non_max_suppression,check_img_size, scale_boxes, one_cycle\n",
    "from utils.dataloaders import LoadImages\n",
    "from utils.augmentations import letterbox,augment_hsv,random_perspective\n",
    "\n",
    "from torch.utils.data import Dataset\n",
    "from torchvision.transforms import ToTensor,Lambda\n",
    "from torch.utils.data import DataLoader\n",
    "import torch.optim as optim\n",
    "from torch.optim import lr_scheduler\n",
    "\n",
    "\n",
    "\n",
    "import numpy as np\n",
    "import yaml\n",
    "import copy\n",
    "import cv2\n",
    "import pandas as pd\n",
    "import json\n",
    "from tqdm import tqdm\n",
    "from pathlib import Path\n",
    "from glob import glob\n",
    "import random\n",
    "import os\n",
    "import matplotlib.pyplot as plt\n",
    "%matplotlib inline\n",
    "# !pip3 install --upgrade Pillow"
   ]
  },
  {
   "cell_type": "code",
   "execution_count": 251,
   "id": "befc90f2",
   "metadata": {},
   "outputs": [
    {
     "name": "stderr",
     "output_type": "stream",
     "text": [
      "Fusing layers... \n",
      "YOLOv5s-anchortune-3 summary: 157 layers, 6040633 parameters, 0 gradients, 13.1 GFLOPs\n"
     ]
    }
   ],
   "source": [
    "# runs/train/prune-66-finetune-carpart-add-car-v2-anchor-tune-3-od-od/weights/best.pt\n",
    "# runs/train/carpart-add-car-v2-js/weights/best.pt\n",
    "model  = attempt_load('../runs/train/prune-66-finetune-carpart-add-car-v2-anchor-tune-3-od-od/weights/best.pt')"
   ]
  },
  {
   "cell_type": "code",
   "execution_count": 252,
   "id": "4b5e705c",
   "metadata": {
    "scrolled": false
   },
   "outputs": [
    {
     "data": {
      "text/plain": [
       "DetectionModel(\n",
       "  (model): Sequential(\n",
       "    (0): Conv(\n",
       "      (conv): Conv2d(3, 25, kernel_size=(6, 6), stride=(2, 2), padding=(2, 2))\n",
       "      (act): SiLU(inplace=True)\n",
       "    )\n",
       "    (1): Conv(\n",
       "      (conv): Conv2d(25, 55, kernel_size=(3, 3), stride=(2, 2), padding=(1, 1))\n",
       "      (act): SiLU(inplace=True)\n",
       "    )\n",
       "    (2): C3(\n",
       "      (cv1): Conv(\n",
       "        (conv): Conv2d(55, 24, kernel_size=(1, 1), stride=(1, 1))\n",
       "        (act): SiLU(inplace=True)\n",
       "      )\n",
       "      (cv2): Conv(\n",
       "        (conv): Conv2d(55, 27, kernel_size=(1, 1), stride=(1, 1))\n",
       "        (act): SiLU(inplace=True)\n",
       "      )\n",
       "      (cv3): Conv(\n",
       "        (conv): Conv2d(51, 40, kernel_size=(1, 1), stride=(1, 1))\n",
       "        (act): SiLU(inplace=True)\n",
       "      )\n",
       "      (m): Sequential(\n",
       "        (0): Bottleneck(\n",
       "          (cv1): Conv(\n",
       "            (conv): Conv2d(24, 32, kernel_size=(1, 1), stride=(1, 1))\n",
       "            (act): SiLU(inplace=True)\n",
       "          )\n",
       "          (cv2): Conv(\n",
       "            (conv): Conv2d(32, 24, kernel_size=(3, 3), stride=(1, 1), padding=(1, 1))\n",
       "            (act): SiLU(inplace=True)\n",
       "          )\n",
       "        )\n",
       "      )\n",
       "    )\n",
       "    (3): Conv(\n",
       "      (conv): Conv2d(40, 117, kernel_size=(3, 3), stride=(2, 2), padding=(1, 1))\n",
       "      (act): SiLU(inplace=True)\n",
       "    )\n",
       "    (4): C3(\n",
       "      (cv1): Conv(\n",
       "        (conv): Conv2d(117, 58, kernel_size=(1, 1), stride=(1, 1))\n",
       "        (act): SiLU(inplace=True)\n",
       "      )\n",
       "      (cv2): Conv(\n",
       "        (conv): Conv2d(117, 60, kernel_size=(1, 1), stride=(1, 1))\n",
       "        (act): SiLU(inplace=True)\n",
       "      )\n",
       "      (cv3): Conv(\n",
       "        (conv): Conv2d(118, 110, kernel_size=(1, 1), stride=(1, 1))\n",
       "        (act): SiLU(inplace=True)\n",
       "      )\n",
       "      (m): Sequential(\n",
       "        (0): Bottleneck(\n",
       "          (cv1): Conv(\n",
       "            (conv): Conv2d(58, 64, kernel_size=(1, 1), stride=(1, 1))\n",
       "            (act): SiLU(inplace=True)\n",
       "          )\n",
       "          (cv2): Conv(\n",
       "            (conv): Conv2d(64, 58, kernel_size=(3, 3), stride=(1, 1), padding=(1, 1))\n",
       "            (act): SiLU(inplace=True)\n",
       "          )\n",
       "        )\n",
       "        (1): Bottleneck(\n",
       "          (cv1): Conv(\n",
       "            (conv): Conv2d(58, 64, kernel_size=(1, 1), stride=(1, 1))\n",
       "            (act): SiLU(inplace=True)\n",
       "          )\n",
       "          (cv2): Conv(\n",
       "            (conv): Conv2d(64, 58, kernel_size=(3, 3), stride=(1, 1), padding=(1, 1))\n",
       "            (act): SiLU(inplace=True)\n",
       "          )\n",
       "        )\n",
       "      )\n",
       "    )\n",
       "    (5): Conv(\n",
       "      (conv): Conv2d(110, 255, kernel_size=(3, 3), stride=(2, 2), padding=(1, 1))\n",
       "      (act): SiLU(inplace=True)\n",
       "    )\n",
       "    (6): C3(\n",
       "      (cv1): Conv(\n",
       "        (conv): Conv2d(255, 127, kernel_size=(1, 1), stride=(1, 1))\n",
       "        (act): SiLU(inplace=True)\n",
       "      )\n",
       "      (cv2): Conv(\n",
       "        (conv): Conv2d(255, 127, kernel_size=(1, 1), stride=(1, 1))\n",
       "        (act): SiLU(inplace=True)\n",
       "      )\n",
       "      (cv3): Conv(\n",
       "        (conv): Conv2d(254, 252, kernel_size=(1, 1), stride=(1, 1))\n",
       "        (act): SiLU(inplace=True)\n",
       "      )\n",
       "      (m): Sequential(\n",
       "        (0): Bottleneck(\n",
       "          (cv1): Conv(\n",
       "            (conv): Conv2d(127, 128, kernel_size=(1, 1), stride=(1, 1))\n",
       "            (act): SiLU(inplace=True)\n",
       "          )\n",
       "          (cv2): Conv(\n",
       "            (conv): Conv2d(128, 127, kernel_size=(3, 3), stride=(1, 1), padding=(1, 1))\n",
       "            (act): SiLU(inplace=True)\n",
       "          )\n",
       "        )\n",
       "        (1): Bottleneck(\n",
       "          (cv1): Conv(\n",
       "            (conv): Conv2d(127, 128, kernel_size=(1, 1), stride=(1, 1))\n",
       "            (act): SiLU(inplace=True)\n",
       "          )\n",
       "          (cv2): Conv(\n",
       "            (conv): Conv2d(128, 127, kernel_size=(3, 3), stride=(1, 1), padding=(1, 1))\n",
       "            (act): SiLU(inplace=True)\n",
       "          )\n",
       "        )\n",
       "        (2): Bottleneck(\n",
       "          (cv1): Conv(\n",
       "            (conv): Conv2d(127, 128, kernel_size=(1, 1), stride=(1, 1))\n",
       "            (act): SiLU(inplace=True)\n",
       "          )\n",
       "          (cv2): Conv(\n",
       "            (conv): Conv2d(128, 127, kernel_size=(3, 3), stride=(1, 1), padding=(1, 1))\n",
       "            (act): SiLU(inplace=True)\n",
       "          )\n",
       "        )\n",
       "      )\n",
       "    )\n",
       "    (7): Conv(\n",
       "      (conv): Conv2d(252, 512, kernel_size=(3, 3), stride=(2, 2), padding=(1, 1))\n",
       "      (act): SiLU(inplace=True)\n",
       "    )\n",
       "    (8): C3(\n",
       "      (cv1): Conv(\n",
       "        (conv): Conv2d(512, 254, kernel_size=(1, 1), stride=(1, 1))\n",
       "        (act): SiLU(inplace=True)\n",
       "      )\n",
       "      (cv2): Conv(\n",
       "        (conv): Conv2d(512, 256, kernel_size=(1, 1), stride=(1, 1))\n",
       "        (act): SiLU(inplace=True)\n",
       "      )\n",
       "      (cv3): Conv(\n",
       "        (conv): Conv2d(510, 500, kernel_size=(1, 1), stride=(1, 1))\n",
       "        (act): SiLU(inplace=True)\n",
       "      )\n",
       "      (m): Sequential(\n",
       "        (0): Bottleneck(\n",
       "          (cv1): Conv(\n",
       "            (conv): Conv2d(254, 256, kernel_size=(1, 1), stride=(1, 1))\n",
       "            (act): SiLU(inplace=True)\n",
       "          )\n",
       "          (cv2): Conv(\n",
       "            (conv): Conv2d(256, 254, kernel_size=(3, 3), stride=(1, 1), padding=(1, 1))\n",
       "            (act): SiLU(inplace=True)\n",
       "          )\n",
       "        )\n",
       "      )\n",
       "    )\n",
       "    (9): SPPF(\n",
       "      (cv1): Conv(\n",
       "        (conv): Conv2d(500, 242, kernel_size=(1, 1), stride=(1, 1))\n",
       "        (act): SiLU(inplace=True)\n",
       "      )\n",
       "      (cv2): Conv(\n",
       "        (conv): Conv2d(968, 501, kernel_size=(1, 1), stride=(1, 1))\n",
       "        (act): SiLU(inplace=True)\n",
       "      )\n",
       "      (m): MaxPool2d(kernel_size=5, stride=1, padding=2, dilation=1, ceil_mode=False)\n",
       "    )\n",
       "    (10): Conv(\n",
       "      (conv): Conv2d(501, 251, kernel_size=(1, 1), stride=(1, 1))\n",
       "      (act): SiLU(inplace=True)\n",
       "    )\n",
       "    (11): Upsample(scale_factor=2.0, mode=nearest)\n",
       "    (12): Concat()\n",
       "    (13): C3(\n",
       "      (cv1): Conv(\n",
       "        (conv): Conv2d(503, 128, kernel_size=(1, 1), stride=(1, 1))\n",
       "        (act): SiLU(inplace=True)\n",
       "      )\n",
       "      (cv2): Conv(\n",
       "        (conv): Conv2d(503, 128, kernel_size=(1, 1), stride=(1, 1))\n",
       "        (act): SiLU(inplace=True)\n",
       "      )\n",
       "      (cv3): Conv(\n",
       "        (conv): Conv2d(256, 232, kernel_size=(1, 1), stride=(1, 1))\n",
       "        (act): SiLU(inplace=True)\n",
       "      )\n",
       "      (m): Sequential(\n",
       "        (0): Bottleneck(\n",
       "          (cv1): Conv(\n",
       "            (conv): Conv2d(128, 128, kernel_size=(1, 1), stride=(1, 1))\n",
       "            (act): SiLU(inplace=True)\n",
       "          )\n",
       "          (cv2): Conv(\n",
       "            (conv): Conv2d(128, 128, kernel_size=(3, 3), stride=(1, 1), padding=(1, 1))\n",
       "            (act): SiLU(inplace=True)\n",
       "          )\n",
       "        )\n",
       "      )\n",
       "    )\n",
       "    (14): Conv(\n",
       "      (conv): Conv2d(232, 120, kernel_size=(1, 1), stride=(1, 1))\n",
       "      (act): SiLU(inplace=True)\n",
       "    )\n",
       "    (15): Upsample(scale_factor=2.0, mode=nearest)\n",
       "    (16): Concat()\n",
       "    (17): C3(\n",
       "      (cv1): Conv(\n",
       "        (conv): Conv2d(230, 60, kernel_size=(1, 1), stride=(1, 1))\n",
       "        (act): SiLU(inplace=True)\n",
       "      )\n",
       "      (cv2): Conv(\n",
       "        (conv): Conv2d(230, 62, kernel_size=(1, 1), stride=(1, 1))\n",
       "        (act): SiLU(inplace=True)\n",
       "      )\n",
       "      (cv3): Conv(\n",
       "        (conv): Conv2d(122, 85, kernel_size=(1, 1), stride=(1, 1))\n",
       "        (act): SiLU(inplace=True)\n",
       "      )\n",
       "      (m): Sequential(\n",
       "        (0): Bottleneck(\n",
       "          (cv1): Conv(\n",
       "            (conv): Conv2d(60, 64, kernel_size=(1, 1), stride=(1, 1))\n",
       "            (act): SiLU(inplace=True)\n",
       "          )\n",
       "          (cv2): Conv(\n",
       "            (conv): Conv2d(64, 60, kernel_size=(3, 3), stride=(1, 1), padding=(1, 1))\n",
       "            (act): SiLU(inplace=True)\n",
       "          )\n",
       "        )\n",
       "      )\n",
       "    )\n",
       "    (18): Conv(\n",
       "      (conv): Conv2d(85, 120, kernel_size=(3, 3), stride=(2, 2), padding=(1, 1))\n",
       "      (act): SiLU(inplace=True)\n",
       "    )\n",
       "    (19): Concat()\n",
       "    (20): C3(\n",
       "      (cv1): Conv(\n",
       "        (conv): Conv2d(240, 107, kernel_size=(1, 1), stride=(1, 1))\n",
       "        (act): SiLU(inplace=True)\n",
       "      )\n",
       "      (cv2): Conv(\n",
       "        (conv): Conv2d(240, 113, kernel_size=(1, 1), stride=(1, 1))\n",
       "        (act): SiLU(inplace=True)\n",
       "      )\n",
       "      (cv3): Conv(\n",
       "        (conv): Conv2d(220, 154, kernel_size=(1, 1), stride=(1, 1))\n",
       "        (act): SiLU(inplace=True)\n",
       "      )\n",
       "      (m): Sequential(\n",
       "        (0): Bottleneck(\n",
       "          (cv1): Conv(\n",
       "            (conv): Conv2d(107, 128, kernel_size=(1, 1), stride=(1, 1))\n",
       "            (act): SiLU(inplace=True)\n",
       "          )\n",
       "          (cv2): Conv(\n",
       "            (conv): Conv2d(128, 107, kernel_size=(3, 3), stride=(1, 1), padding=(1, 1))\n",
       "            (act): SiLU(inplace=True)\n",
       "          )\n",
       "        )\n",
       "      )\n",
       "    )\n",
       "    (21): Conv(\n",
       "      (conv): Conv2d(154, 207, kernel_size=(3, 3), stride=(2, 2), padding=(1, 1))\n",
       "      (act): SiLU(inplace=True)\n",
       "    )\n",
       "    (22): Concat()\n",
       "    (23): C3(\n",
       "      (cv1): Conv(\n",
       "        (conv): Conv2d(458, 217, kernel_size=(1, 1), stride=(1, 1))\n",
       "        (act): SiLU(inplace=True)\n",
       "      )\n",
       "      (cv2): Conv(\n",
       "        (conv): Conv2d(458, 224, kernel_size=(1, 1), stride=(1, 1))\n",
       "        (act): SiLU(inplace=True)\n",
       "      )\n",
       "      (cv3): Conv(\n",
       "        (conv): Conv2d(441, 229, kernel_size=(1, 1), stride=(1, 1))\n",
       "        (act): SiLU(inplace=True)\n",
       "      )\n",
       "      (m): Sequential(\n",
       "        (0): Bottleneck(\n",
       "          (cv1): Conv(\n",
       "            (conv): Conv2d(217, 256, kernel_size=(1, 1), stride=(1, 1))\n",
       "            (act): SiLU(inplace=True)\n",
       "          )\n",
       "          (cv2): Conv(\n",
       "            (conv): Conv2d(256, 217, kernel_size=(3, 3), stride=(1, 1), padding=(1, 1))\n",
       "            (act): SiLU(inplace=True)\n",
       "          )\n",
       "        )\n",
       "      )\n",
       "    )\n",
       "    (24): Detect(\n",
       "      (m): ModuleList(\n",
       "        (0): Conv2d(85, 33, kernel_size=(1, 1), stride=(1, 1))\n",
       "        (1): Conv2d(154, 33, kernel_size=(1, 1), stride=(1, 1))\n",
       "        (2): Conv2d(229, 33, kernel_size=(1, 1), stride=(1, 1))\n",
       "      )\n",
       "    )\n",
       "  )\n",
       ")"
      ]
     },
     "execution_count": 252,
     "metadata": {},
     "output_type": "execute_result"
    }
   ],
   "source": [
    "model"
   ]
  },
  {
   "cell_type": "code",
   "execution_count": null,
   "id": "df9a6950",
   "metadata": {},
   "outputs": [],
   "source": []
  },
  {
   "cell_type": "code",
   "execution_count": 223,
   "id": "f62556f7",
   "metadata": {},
   "outputs": [
    {
     "name": "stdout",
     "output_type": "stream",
     "text": [
      "cuda:0\n"
     ]
    }
   ],
   "source": [
    "device = torch.device(\"cuda:0\" if torch.cuda.is_available() else \"cpu\")\n",
    "print(device)"
   ]
  },
  {
   "cell_type": "code",
   "execution_count": 248,
   "id": "1791bcbb",
   "metadata": {},
   "outputs": [],
   "source": [
    "class Classify(nn.Module):\n",
    "    def __init__(self):\n",
    "        super().__init__()\n",
    "        self.conv = nn.Conv2d(229,128,1)\n",
    "        self.act_conv = nn.SiLU() \n",
    "        self.pool = nn.AvgPool2d(2,2)\n",
    "        \n",
    "#         self.bn = nn.Bat\n",
    "        \n",
    "        self.ln1 = nn.Linear(3200,3200)\n",
    "        self.act1 = nn.SiLU()\n",
    "        self.drop1 = nn.Dropout(0.1)\n",
    "        \n",
    "        self.ln2 = nn.Linear(3200,2)\n",
    "        \n",
    "    def forward(self,x):\n",
    "        x = self.act_conv(self.conv(x))\n",
    "        x = self.pool(x)\n",
    "        \n",
    "        x = torch.flatten(x,1)\n",
    "#         print(x.shape)\n",
    "        x = self.drop1(self.act1(self.ln1(x)))\n",
    "        \n",
    "        return self.ln2(x)\n",
    "\n",
    "class Classify_small_23(nn.Module):\n",
    "    def __init__(self):\n",
    "        super().__init__()\n",
    "        self.conv = nn.Conv2d(229,1,1)\n",
    "        self.act_conv = nn.SiLU() \n",
    "        self.pool = nn.AvgPool2d(2,2)\n",
    "        \n",
    "#         self.bn = nn.Bat\n",
    "        \n",
    "        self.ln1 = nn.Linear(25,25)\n",
    "        self.act1 = nn.SiLU()\n",
    "        self.drop1 = nn.Dropout(0.1)\n",
    "        \n",
    "        self.ln2 = nn.Linear(25,2)\n",
    "        \n",
    "    def forward(self,x):\n",
    "        x = self.act_conv(self.conv(x))\n",
    "#         print(x.shape)\n",
    "        x = self.pool(x)\n",
    "#         print('pool : ',x.shape)\n",
    "        \n",
    "        x = torch.flatten(x,1)\n",
    "        x = self.drop1(self.act1(self.ln1(x)))\n",
    "        \n",
    "        return self.ln2(x)\n",
    "\n",
    "class Classify_small_17(nn.Module):\n",
    "    def __init__(self):\n",
    "        super().__init__()\n",
    "        self.conv = nn.Conv2d(85,1,1)\n",
    "        self.act_conv = nn.SiLU() \n",
    "        self.pool = nn.AvgPool2d(2,2)\n",
    "        \n",
    "#         self.bn = nn.Bat\n",
    "        \n",
    "        self.ln1 = nn.Linear(400,400)\n",
    "        self.act1 = nn.SiLU()\n",
    "        self.drop1 = nn.Dropout(0.1)\n",
    "        \n",
    "        self.ln2 = nn.Linear(400,2)\n",
    "        \n",
    "    def forward(self,x):\n",
    "        x = self.act_conv(self.conv(x))\n",
    "#         print(x.shape)\n",
    "        x = self.pool(x)\n",
    "#         print('pool : ',x.shape)\n",
    "        \n",
    "        x = torch.flatten(x,1)\n",
    "        x = self.drop1(self.act1(self.ln1(x)))\n",
    "        \n",
    "        return self.ln2(x)\n",
    "    \n",
    "class Warper_model(nn.Module):\n",
    "    def __init__(self,yolo_model,classify_head):\n",
    "        self.yolo_model = yolo_model\n",
    "        self.classify_head = classify_head\n",
    "        self.hook_data = {}\n",
    "        \n",
    "        def get_hook_data(name):\n",
    "            def hook(model, input, output):\n",
    "                self.hook_data[name] = output.detach()\n",
    "            return hook\n",
    "        self.yolo_model.model[17].cv3.act.register_forward_hook(get_hook_data('17c3act'))\n",
    "        \n",
    "    def forward(self,x):\n",
    "        x = x.float()/255.0\n",
    "        \n",
    "        logit_yolo = self.yolo_model(x)\n",
    "        input_head = self.hook_data['17c3act']\n",
    "        logit = self.classify_head(input_head)\n",
    "        \n",
    "        return logit\n",
    "        \n",
    "\n",
    "class_head = Classify_small_23()"
   ]
  },
  {
   "cell_type": "code",
   "execution_count": 233,
   "id": "2b512712",
   "metadata": {},
   "outputs": [],
   "source": [
    "x= torch.randn(1,3,320,320)"
   ]
  },
  {
   "cell_type": "code",
   "execution_count": 234,
   "id": "1e1dff93",
   "metadata": {},
   "outputs": [
    {
     "name": "stderr",
     "output_type": "stream",
     "text": [
      "Fusing layers... \n",
      "YOLOv5s-anchortune-3 summary: 157 layers, 6040633 parameters, 0 gradients, 13.1 GFLOPs\n"
     ]
    },
    {
     "name": "stdout",
     "output_type": "stream",
     "text": [
      "torch.Size([1, 229, 10, 10])\n"
     ]
    }
   ],
   "source": [
    "model  = attempt_load('../runs/train/prune-66-finetune-carpart-add-car-v2-anchor-tune-3-od-od/weights/best.pt')\n",
    "hook_data = {}\n",
    "def get_hook_data(name):\n",
    "    def hook(model, input, output):\n",
    "        hook_data[name] = output.detach()\n",
    "#         print(hook_data[name].sum())\n",
    "    return hook\n",
    "\n",
    "model.model[23].cv3.register_forward_hook(get_hook_data('17c3act'))\n",
    "\n",
    "out_x = model(x)\n",
    "in_classify = hook_data['17c3act']\n",
    "# print(in_classify.shape)\n",
    "act = nn.SiLU(inplace=True)\n",
    "print(act(in_classify).shape)\n",
    "# print(class_head(in_classify).shape)\n",
    "\n",
    "# tensor(3996.33325)\n",
    "# tensor(3865.61987)"
   ]
  },
  {
   "cell_type": "code",
   "execution_count": 227,
   "id": "978df17d",
   "metadata": {},
   "outputs": [
    {
     "data": {
      "text/plain": [
       "C3(\n",
       "  (cv1): Conv(\n",
       "    (conv): Conv2d(230, 60, kernel_size=(1, 1), stride=(1, 1))\n",
       "    (act): SiLU(inplace=True)\n",
       "  )\n",
       "  (cv2): Conv(\n",
       "    (conv): Conv2d(230, 62, kernel_size=(1, 1), stride=(1, 1))\n",
       "    (act): SiLU(inplace=True)\n",
       "  )\n",
       "  (cv3): Conv(\n",
       "    (conv): Conv2d(122, 85, kernel_size=(1, 1), stride=(1, 1))\n",
       "    (act): SiLU(inplace=True)\n",
       "  )\n",
       "  (m): Sequential(\n",
       "    (0): Bottleneck(\n",
       "      (cv1): Conv(\n",
       "        (conv): Conv2d(60, 64, kernel_size=(1, 1), stride=(1, 1))\n",
       "        (act): SiLU(inplace=True)\n",
       "      )\n",
       "      (cv2): Conv(\n",
       "        (conv): Conv2d(64, 60, kernel_size=(3, 3), stride=(1, 1), padding=(1, 1))\n",
       "        (act): SiLU(inplace=True)\n",
       "      )\n",
       "    )\n",
       "  )\n",
       ")"
      ]
     },
     "execution_count": 227,
     "metadata": {},
     "output_type": "execute_result"
    }
   ],
   "source": [
    "model.model[17]"
   ]
  },
  {
   "cell_type": "code",
   "execution_count": 89,
   "id": "cace8ccf",
   "metadata": {},
   "outputs": [
    {
     "data": {
      "text/plain": [
       "DetectionModel(\n",
       "  (model): Sequential(\n",
       "    (0): Conv(\n",
       "      (conv): Conv2d(3, 25, kernel_size=(6, 6), stride=(2, 2), padding=(2, 2))\n",
       "      (act): SiLU(inplace=True)\n",
       "    )\n",
       "    (1): Conv(\n",
       "      (conv): Conv2d(25, 55, kernel_size=(3, 3), stride=(2, 2), padding=(1, 1))\n",
       "      (act): SiLU(inplace=True)\n",
       "    )\n",
       "    (2): C3(\n",
       "      (cv1): Conv(\n",
       "        (conv): Conv2d(55, 24, kernel_size=(1, 1), stride=(1, 1))\n",
       "        (act): SiLU(inplace=True)\n",
       "      )\n",
       "      (cv2): Conv(\n",
       "        (conv): Conv2d(55, 27, kernel_size=(1, 1), stride=(1, 1))\n",
       "        (act): SiLU(inplace=True)\n",
       "      )\n",
       "      (cv3): Conv(\n",
       "        (conv): Conv2d(51, 40, kernel_size=(1, 1), stride=(1, 1))\n",
       "        (act): SiLU(inplace=True)\n",
       "      )\n",
       "      (m): Sequential(\n",
       "        (0): Bottleneck(\n",
       "          (cv1): Conv(\n",
       "            (conv): Conv2d(24, 32, kernel_size=(1, 1), stride=(1, 1))\n",
       "            (act): SiLU(inplace=True)\n",
       "          )\n",
       "          (cv2): Conv(\n",
       "            (conv): Conv2d(32, 24, kernel_size=(3, 3), stride=(1, 1), padding=(1, 1))\n",
       "            (act): SiLU(inplace=True)\n",
       "          )\n",
       "        )\n",
       "      )\n",
       "    )\n",
       "    (3): Conv(\n",
       "      (conv): Conv2d(40, 117, kernel_size=(3, 3), stride=(2, 2), padding=(1, 1))\n",
       "      (act): SiLU(inplace=True)\n",
       "    )\n",
       "    (4): C3(\n",
       "      (cv1): Conv(\n",
       "        (conv): Conv2d(117, 58, kernel_size=(1, 1), stride=(1, 1))\n",
       "        (act): SiLU(inplace=True)\n",
       "      )\n",
       "      (cv2): Conv(\n",
       "        (conv): Conv2d(117, 60, kernel_size=(1, 1), stride=(1, 1))\n",
       "        (act): SiLU(inplace=True)\n",
       "      )\n",
       "      (cv3): Conv(\n",
       "        (conv): Conv2d(118, 110, kernel_size=(1, 1), stride=(1, 1))\n",
       "        (act): SiLU(inplace=True)\n",
       "      )\n",
       "      (m): Sequential(\n",
       "        (0): Bottleneck(\n",
       "          (cv1): Conv(\n",
       "            (conv): Conv2d(58, 64, kernel_size=(1, 1), stride=(1, 1))\n",
       "            (act): SiLU(inplace=True)\n",
       "          )\n",
       "          (cv2): Conv(\n",
       "            (conv): Conv2d(64, 58, kernel_size=(3, 3), stride=(1, 1), padding=(1, 1))\n",
       "            (act): SiLU(inplace=True)\n",
       "          )\n",
       "        )\n",
       "        (1): Bottleneck(\n",
       "          (cv1): Conv(\n",
       "            (conv): Conv2d(58, 64, kernel_size=(1, 1), stride=(1, 1))\n",
       "            (act): SiLU(inplace=True)\n",
       "          )\n",
       "          (cv2): Conv(\n",
       "            (conv): Conv2d(64, 58, kernel_size=(3, 3), stride=(1, 1), padding=(1, 1))\n",
       "            (act): SiLU(inplace=True)\n",
       "          )\n",
       "        )\n",
       "      )\n",
       "    )\n",
       "    (5): Conv(\n",
       "      (conv): Conv2d(110, 255, kernel_size=(3, 3), stride=(2, 2), padding=(1, 1))\n",
       "      (act): SiLU(inplace=True)\n",
       "    )\n",
       "    (6): C3(\n",
       "      (cv1): Conv(\n",
       "        (conv): Conv2d(255, 127, kernel_size=(1, 1), stride=(1, 1))\n",
       "        (act): SiLU(inplace=True)\n",
       "      )\n",
       "      (cv2): Conv(\n",
       "        (conv): Conv2d(255, 127, kernel_size=(1, 1), stride=(1, 1))\n",
       "        (act): SiLU(inplace=True)\n",
       "      )\n",
       "      (cv3): Conv(\n",
       "        (conv): Conv2d(254, 252, kernel_size=(1, 1), stride=(1, 1))\n",
       "        (act): SiLU(inplace=True)\n",
       "      )\n",
       "      (m): Sequential(\n",
       "        (0): Bottleneck(\n",
       "          (cv1): Conv(\n",
       "            (conv): Conv2d(127, 128, kernel_size=(1, 1), stride=(1, 1))\n",
       "            (act): SiLU(inplace=True)\n",
       "          )\n",
       "          (cv2): Conv(\n",
       "            (conv): Conv2d(128, 127, kernel_size=(3, 3), stride=(1, 1), padding=(1, 1))\n",
       "            (act): SiLU(inplace=True)\n",
       "          )\n",
       "        )\n",
       "        (1): Bottleneck(\n",
       "          (cv1): Conv(\n",
       "            (conv): Conv2d(127, 128, kernel_size=(1, 1), stride=(1, 1))\n",
       "            (act): SiLU(inplace=True)\n",
       "          )\n",
       "          (cv2): Conv(\n",
       "            (conv): Conv2d(128, 127, kernel_size=(3, 3), stride=(1, 1), padding=(1, 1))\n",
       "            (act): SiLU(inplace=True)\n",
       "          )\n",
       "        )\n",
       "        (2): Bottleneck(\n",
       "          (cv1): Conv(\n",
       "            (conv): Conv2d(127, 128, kernel_size=(1, 1), stride=(1, 1))\n",
       "            (act): SiLU(inplace=True)\n",
       "          )\n",
       "          (cv2): Conv(\n",
       "            (conv): Conv2d(128, 127, kernel_size=(3, 3), stride=(1, 1), padding=(1, 1))\n",
       "            (act): SiLU(inplace=True)\n",
       "          )\n",
       "        )\n",
       "      )\n",
       "    )\n",
       "    (7): Conv(\n",
       "      (conv): Conv2d(252, 512, kernel_size=(3, 3), stride=(2, 2), padding=(1, 1))\n",
       "      (act): SiLU(inplace=True)\n",
       "    )\n",
       "    (8): C3(\n",
       "      (cv1): Conv(\n",
       "        (conv): Conv2d(512, 254, kernel_size=(1, 1), stride=(1, 1))\n",
       "        (act): SiLU(inplace=True)\n",
       "      )\n",
       "      (cv2): Conv(\n",
       "        (conv): Conv2d(512, 256, kernel_size=(1, 1), stride=(1, 1))\n",
       "        (act): SiLU(inplace=True)\n",
       "      )\n",
       "      (cv3): Conv(\n",
       "        (conv): Conv2d(510, 500, kernel_size=(1, 1), stride=(1, 1))\n",
       "        (act): SiLU(inplace=True)\n",
       "      )\n",
       "      (m): Sequential(\n",
       "        (0): Bottleneck(\n",
       "          (cv1): Conv(\n",
       "            (conv): Conv2d(254, 256, kernel_size=(1, 1), stride=(1, 1))\n",
       "            (act): SiLU(inplace=True)\n",
       "          )\n",
       "          (cv2): Conv(\n",
       "            (conv): Conv2d(256, 254, kernel_size=(3, 3), stride=(1, 1), padding=(1, 1))\n",
       "            (act): SiLU(inplace=True)\n",
       "          )\n",
       "        )\n",
       "      )\n",
       "    )\n",
       "    (9): SPPF(\n",
       "      (cv1): Conv(\n",
       "        (conv): Conv2d(500, 242, kernel_size=(1, 1), stride=(1, 1))\n",
       "        (act): SiLU(inplace=True)\n",
       "      )\n",
       "      (cv2): Conv(\n",
       "        (conv): Conv2d(968, 501, kernel_size=(1, 1), stride=(1, 1))\n",
       "        (act): SiLU(inplace=True)\n",
       "      )\n",
       "      (m): MaxPool2d(kernel_size=5, stride=1, padding=2, dilation=1, ceil_mode=False)\n",
       "    )\n",
       "    (10): Conv(\n",
       "      (conv): Conv2d(501, 251, kernel_size=(1, 1), stride=(1, 1))\n",
       "      (act): SiLU(inplace=True)\n",
       "    )\n",
       "    (11): Upsample(scale_factor=2.0, mode=nearest)\n",
       "    (12): Concat()\n",
       "    (13): C3(\n",
       "      (cv1): Conv(\n",
       "        (conv): Conv2d(503, 128, kernel_size=(1, 1), stride=(1, 1))\n",
       "        (act): SiLU(inplace=True)\n",
       "      )\n",
       "      (cv2): Conv(\n",
       "        (conv): Conv2d(503, 128, kernel_size=(1, 1), stride=(1, 1))\n",
       "        (act): SiLU(inplace=True)\n",
       "      )\n",
       "      (cv3): Conv(\n",
       "        (conv): Conv2d(256, 232, kernel_size=(1, 1), stride=(1, 1))\n",
       "        (act): SiLU(inplace=True)\n",
       "      )\n",
       "      (m): Sequential(\n",
       "        (0): Bottleneck(\n",
       "          (cv1): Conv(\n",
       "            (conv): Conv2d(128, 128, kernel_size=(1, 1), stride=(1, 1))\n",
       "            (act): SiLU(inplace=True)\n",
       "          )\n",
       "          (cv2): Conv(\n",
       "            (conv): Conv2d(128, 128, kernel_size=(3, 3), stride=(1, 1), padding=(1, 1))\n",
       "            (act): SiLU(inplace=True)\n",
       "          )\n",
       "        )\n",
       "      )\n",
       "    )\n",
       "    (14): Conv(\n",
       "      (conv): Conv2d(232, 120, kernel_size=(1, 1), stride=(1, 1))\n",
       "      (act): SiLU(inplace=True)\n",
       "    )\n",
       "    (15): Upsample(scale_factor=2.0, mode=nearest)\n",
       "    (16): Concat()\n",
       "    (17): C3(\n",
       "      (cv1): Conv(\n",
       "        (conv): Conv2d(230, 60, kernel_size=(1, 1), stride=(1, 1))\n",
       "        (act): SiLU(inplace=True)\n",
       "      )\n",
       "      (cv2): Conv(\n",
       "        (conv): Conv2d(230, 62, kernel_size=(1, 1), stride=(1, 1))\n",
       "        (act): SiLU(inplace=True)\n",
       "      )\n",
       "      (cv3): Conv(\n",
       "        (conv): Conv2d(122, 85, kernel_size=(1, 1), stride=(1, 1))\n",
       "        (act): SiLU(inplace=True)\n",
       "      )\n",
       "      (m): Sequential(\n",
       "        (0): Bottleneck(\n",
       "          (cv1): Conv(\n",
       "            (conv): Conv2d(60, 64, kernel_size=(1, 1), stride=(1, 1))\n",
       "            (act): SiLU(inplace=True)\n",
       "          )\n",
       "          (cv2): Conv(\n",
       "            (conv): Conv2d(64, 60, kernel_size=(3, 3), stride=(1, 1), padding=(1, 1))\n",
       "            (act): SiLU(inplace=True)\n",
       "          )\n",
       "        )\n",
       "      )\n",
       "    )\n",
       "    (18): Conv(\n",
       "      (conv): Conv2d(85, 120, kernel_size=(3, 3), stride=(2, 2), padding=(1, 1))\n",
       "      (act): SiLU(inplace=True)\n",
       "    )\n",
       "    (19): Concat()\n",
       "    (20): C3(\n",
       "      (cv1): Conv(\n",
       "        (conv): Conv2d(240, 107, kernel_size=(1, 1), stride=(1, 1))\n",
       "        (act): SiLU(inplace=True)\n",
       "      )\n",
       "      (cv2): Conv(\n",
       "        (conv): Conv2d(240, 113, kernel_size=(1, 1), stride=(1, 1))\n",
       "        (act): SiLU(inplace=True)\n",
       "      )\n",
       "      (cv3): Conv(\n",
       "        (conv): Conv2d(220, 154, kernel_size=(1, 1), stride=(1, 1))\n",
       "        (act): SiLU(inplace=True)\n",
       "      )\n",
       "      (m): Sequential(\n",
       "        (0): Bottleneck(\n",
       "          (cv1): Conv(\n",
       "            (conv): Conv2d(107, 128, kernel_size=(1, 1), stride=(1, 1))\n",
       "            (act): SiLU(inplace=True)\n",
       "          )\n",
       "          (cv2): Conv(\n",
       "            (conv): Conv2d(128, 107, kernel_size=(3, 3), stride=(1, 1), padding=(1, 1))\n",
       "            (act): SiLU(inplace=True)\n",
       "          )\n",
       "        )\n",
       "      )\n",
       "    )\n",
       "    (21): Conv(\n",
       "      (conv): Conv2d(154, 207, kernel_size=(3, 3), stride=(2, 2), padding=(1, 1))\n",
       "      (act): SiLU(inplace=True)\n",
       "    )\n",
       "    (22): Concat()\n",
       "    (23): C3(\n",
       "      (cv1): Conv(\n",
       "        (conv): Conv2d(458, 217, kernel_size=(1, 1), stride=(1, 1))\n",
       "        (act): SiLU(inplace=True)\n",
       "      )\n",
       "      (cv2): Conv(\n",
       "        (conv): Conv2d(458, 224, kernel_size=(1, 1), stride=(1, 1))\n",
       "        (act): SiLU(inplace=True)\n",
       "      )\n",
       "      (cv3): Conv(\n",
       "        (conv): Conv2d(441, 229, kernel_size=(1, 1), stride=(1, 1))\n",
       "        (act): SiLU(inplace=True)\n",
       "      )\n",
       "      (m): Sequential(\n",
       "        (0): Bottleneck(\n",
       "          (cv1): Conv(\n",
       "            (conv): Conv2d(217, 256, kernel_size=(1, 1), stride=(1, 1))\n",
       "            (act): SiLU(inplace=True)\n",
       "          )\n",
       "          (cv2): Conv(\n",
       "            (conv): Conv2d(256, 217, kernel_size=(3, 3), stride=(1, 1), padding=(1, 1))\n",
       "            (act): SiLU(inplace=True)\n",
       "          )\n",
       "        )\n",
       "      )\n",
       "    )\n",
       "    (24): Detect(\n",
       "      (m): ModuleList(\n",
       "        (0): Conv2d(85, 33, kernel_size=(1, 1), stride=(1, 1))\n",
       "        (1): Conv2d(154, 33, kernel_size=(1, 1), stride=(1, 1))\n",
       "        (2): Conv2d(229, 33, kernel_size=(1, 1), stride=(1, 1))\n",
       "      )\n",
       "    )\n",
       "  )\n",
       ")"
      ]
     },
     "execution_count": 89,
     "metadata": {},
     "output_type": "execute_result"
    }
   ],
   "source": [
    "model"
   ]
  },
  {
   "cell_type": "code",
   "execution_count": 50,
   "id": "43f9b674",
   "metadata": {},
   "outputs": [
    {
     "data": {
      "text/html": [
       "<div>\n",
       "<style scoped>\n",
       "    .dataframe tbody tr th:only-of-type {\n",
       "        vertical-align: middle;\n",
       "    }\n",
       "\n",
       "    .dataframe tbody tr th {\n",
       "        vertical-align: top;\n",
       "    }\n",
       "\n",
       "    .dataframe thead th {\n",
       "        text-align: right;\n",
       "    }\n",
       "</style>\n",
       "<table border=\"1\" class=\"dataframe\">\n",
       "  <thead>\n",
       "    <tr style=\"text-align: right;\">\n",
       "      <th></th>\n",
       "      <th>file_name</th>\n",
       "      <th>label</th>\n",
       "    </tr>\n",
       "  </thead>\n",
       "  <tbody>\n",
       "    <tr>\n",
       "      <th>0</th>\n",
       "      <td>../coco/scratch/non_zoomin/https:__mc-vip.s3-a...</td>\n",
       "      <td>0</td>\n",
       "    </tr>\n",
       "    <tr>\n",
       "      <th>1</th>\n",
       "      <td>../coco/scratch/non_zoomin/https:__mc-vip.s3-a...</td>\n",
       "      <td>0</td>\n",
       "    </tr>\n",
       "    <tr>\n",
       "      <th>2</th>\n",
       "      <td>../coco/scratch/zoomin/https:__mc-vip.s3-ap-so...</td>\n",
       "      <td>1</td>\n",
       "    </tr>\n",
       "    <tr>\n",
       "      <th>3</th>\n",
       "      <td>../coco/scratch/non_zoomin/https:__mc-vip.s3-a...</td>\n",
       "      <td>0</td>\n",
       "    </tr>\n",
       "    <tr>\n",
       "      <th>4</th>\n",
       "      <td>../coco/scratch/zoomin/https:__mc-vip.s3-ap-so...</td>\n",
       "      <td>1</td>\n",
       "    </tr>\n",
       "    <tr>\n",
       "      <th>...</th>\n",
       "      <td>...</td>\n",
       "      <td>...</td>\n",
       "    </tr>\n",
       "    <tr>\n",
       "      <th>7703</th>\n",
       "      <td>../coco/scratch/zoomin/https:__mc-vip.s3-ap-so...</td>\n",
       "      <td>1</td>\n",
       "    </tr>\n",
       "    <tr>\n",
       "      <th>7704</th>\n",
       "      <td>../coco/scratch/zoomin/https:__mc-vip.s3-ap-so...</td>\n",
       "      <td>1</td>\n",
       "    </tr>\n",
       "    <tr>\n",
       "      <th>7705</th>\n",
       "      <td>../coco/scratch/zoomin/https:__mc-vip.s3-ap-so...</td>\n",
       "      <td>1</td>\n",
       "    </tr>\n",
       "    <tr>\n",
       "      <th>7706</th>\n",
       "      <td>../coco/scratch/zoomin/https:__mc-vip.s3-ap-so...</td>\n",
       "      <td>1</td>\n",
       "    </tr>\n",
       "    <tr>\n",
       "      <th>7707</th>\n",
       "      <td>../coco/scratch/zoomin/https:__mc-vip.s3-ap-so...</td>\n",
       "      <td>1</td>\n",
       "    </tr>\n",
       "  </tbody>\n",
       "</table>\n",
       "<p>7708 rows × 2 columns</p>\n",
       "</div>"
      ],
      "text/plain": [
       "                                              file_name  label\n",
       "0     ../coco/scratch/non_zoomin/https:__mc-vip.s3-a...      0\n",
       "1     ../coco/scratch/non_zoomin/https:__mc-vip.s3-a...      0\n",
       "2     ../coco/scratch/zoomin/https:__mc-vip.s3-ap-so...      1\n",
       "3     ../coco/scratch/non_zoomin/https:__mc-vip.s3-a...      0\n",
       "4     ../coco/scratch/zoomin/https:__mc-vip.s3-ap-so...      1\n",
       "...                                                 ...    ...\n",
       "7703  ../coco/scratch/zoomin/https:__mc-vip.s3-ap-so...      1\n",
       "7704  ../coco/scratch/zoomin/https:__mc-vip.s3-ap-so...      1\n",
       "7705  ../coco/scratch/zoomin/https:__mc-vip.s3-ap-so...      1\n",
       "7706  ../coco/scratch/zoomin/https:__mc-vip.s3-ap-so...      1\n",
       "7707  ../coco/scratch/zoomin/https:__mc-vip.s3-ap-so...      1\n",
       "\n",
       "[7708 rows x 2 columns]"
      ]
     },
     "execution_count": 50,
     "metadata": {},
     "output_type": "execute_result"
    }
   ],
   "source": [
    "train = pd.read_csv('train.csv', index_col=0)\n",
    "\n",
    "train"
   ]
  },
  {
   "cell_type": "raw",
   "id": "45e1c124",
   "metadata": {},
   "source": []
  },
  {
   "cell_type": "code",
   "execution_count": 245,
   "id": "199885d4",
   "metadata": {},
   "outputs": [],
   "source": [
    "# data_path = Path('../coco/scratch')\n",
    "# zoomin_files = glob('../coco/scratch/zoomin/*')\n",
    "# non_zoomin_files = glob('../coco/scratch/non_zoomin/*')\n",
    "\n",
    "# labels = [1 for i in range(len(zoomin_files))]+[0 for i in range(len(non_zoomin_files))]\n",
    "# files = zoomin_files+non_zoomin_files\n",
    "\n",
    "# d = {'file_name':files,'label':labels}\n",
    "# df = pd.DataFrame(d)\n",
    "# df= df.sample(frac=1).reset_index(drop=True)\n",
    "# # df.to_csv('zoomin_data.csv')\n",
    "# # print(df)\n",
    "# num = df.shape[0]\n",
    "# train = df.iloc[:int(0.8*num)]\n",
    "# val = df.iloc[int(0.8*num):].reset_index(drop=True)\n",
    "\n",
    "train = pd.read_csv('train.csv', index_col=0)\n",
    "val = pd.read_csv('valid.csv',index_col=0)\n",
    "\n",
    "# print(val)\n",
    "class ZoominDataset(Dataset):\n",
    "    def __init__(self,label_csv,transform,imgsz=320,is_train=True):\n",
    "        self.csv = label_csv\n",
    "        self.img_size = imgsz\n",
    "        self.transform = transform\n",
    "        self.is_train = is_train \n",
    "        \n",
    "    def __len__(self):\n",
    "        return self.csv.shape[0]\n",
    "    \n",
    "    def __getitem__(self,idx):\n",
    "        filename = self.csv.iloc[idx,0]\n",
    "#         print(filename)\n",
    "        im = cv2.imread(filename)\n",
    "\n",
    "        h0, w0 = im.shape[:2]  # orig hw\n",
    "        r = self.img_size / max(h0, w0)  # ratio\n",
    "        if r != 1:  # if sizes are not equal\n",
    "            interp = cv2.INTER_LINEAR \n",
    "            im = cv2.resize(im, (int(w0 * r), int(h0 * r)), interpolation=interp)\n",
    "#         (h0, w0), im.shape[:2]\n",
    "        im,_,_ = letterbox(im,self.img_size,auto=False)\n",
    "        \n",
    "        if self.is_train : \n",
    "            augment_hsv(im,0.015,0.7,0.4)\n",
    "            if random.random() < 0.5 :\n",
    "                im = np.fliplr(im)\n",
    "\n",
    "            if random.random() < 0.1 : \n",
    "                im,_ = random_perspective(im)\n",
    "        \n",
    "#         if self.transform : \n",
    "#             im = self.transform(im.copy())\n",
    "        im = im[:, :, ::-1].transpose(2, 0, 1)  # BGR to RGB, to 3x416x416\n",
    "        im = np.ascontiguousarray(im)\n",
    "            \n",
    "    \n",
    "        label = self.csv.iloc[idx,1]\n",
    "        \n",
    "    \n",
    "        \n",
    "        return torch.from_numpy(im),label"
   ]
  },
  {
   "cell_type": "code",
   "execution_count": 246,
   "id": "41ea7aab",
   "metadata": {},
   "outputs": [],
   "source": [
    "train_dataloader = DataLoader(ZoominDataset(train,ToTensor(),is_train=True),batch_size=16,shuffle=True)\n",
    "val_dataloader = DataLoader(ZoominDataset(val,ToTensor(),is_train=False),batch_size=16,shuffle=False)"
   ]
  },
  {
   "cell_type": "code",
   "execution_count": 237,
   "id": "fe9d9aa5",
   "metadata": {},
   "outputs": [],
   "source": [
    "def train_loop(yolo_model,classify_head,train_loader, val_loader,loss_function,optimizer,scheduler,epochs):\n",
    "    yolo_model.to(device)\n",
    "    classify_head.to(device)\n",
    "    classify_head.train()\n",
    "    \n",
    "    best_acc = 0\n",
    "    best_model = copy.deepcopy(classify_head)\n",
    "    for e in range(epochs):\n",
    "        classify_head.train()\n",
    "        for inp,label in tqdm(train_loader,desc='epoch '+str(e)):\n",
    "            optimizer.zero_grad()\n",
    "            \n",
    "            inp = inp.to(device).float() / 255\n",
    "            label = label.to(device)\n",
    "            \n",
    "            logit_yolo = yolo_model(inp)\n",
    "            input_head = hook_data['17c3act']\n",
    "            logit = classify_head(input_head)\n",
    "            #rint(label,logit)\n",
    "            loss = loss_function(logit,label)\n",
    "#             print(logit.sum(),loss)\n",
    "            \n",
    "            loss.backward()\n",
    "            optimizer.step()\n",
    "            scheduler.step()\n",
    "        acc = validate(yolo_model,classify_head,val_loader)\n",
    "        print('acc : ',acc)\n",
    "        if acc > best_acc:\n",
    "            best_acc = acc\n",
    "            best_model = copy.deepcopy(classify_head)\n",
    "            torch.save(classify_head.state_dict(),'zoomin_model.pth')\n",
    "    \n",
    "    return best_model\n",
    "\n",
    "softmax = nn.Softmax(dim=1)\n",
    "def validate(yolo_model,classify_head,val_loader):\n",
    "    classify_head.eval()\n",
    "    classify_head.to(device)\n",
    "    yolo_model.to(device)\n",
    "    leng = 0\n",
    "    \n",
    "    correct = 0\n",
    "    for inp, label in tqdm(val_loader,desc='val .... '):\n",
    "        inp = inp.to(device).float() / 255\n",
    "#         label = label\n",
    "\n",
    "        logit_yolo = yolo_model(inp)\n",
    "        input_head = hook_data['17c3act']\n",
    "        logit = classify_head(input_head)\n",
    "#         print(logit)\n",
    "\n",
    "        pred = np.argmax(softmax(logit).cpu().detach().numpy(),axis=1)\n",
    "        correct += sum(label.numpy()==pred)\n",
    "        leng += len(pred)\n",
    "#         print(pred,correct)\n",
    "#     print('correct : ',correct)\n",
    "#     print('leng : ',leng)\n",
    "    return correct/leng"
   ]
  },
  {
   "cell_type": "code",
   "execution_count": 239,
   "id": "3d01c3da",
   "metadata": {},
   "outputs": [
    {
     "data": {
      "text/plain": [
       "Classify_small_23(\n",
       "  (conv): Conv2d(229, 1, kernel_size=(1, 1), stride=(1, 1))\n",
       "  (act_conv): SiLU()\n",
       "  (pool): AvgPool2d(kernel_size=2, stride=2, padding=0)\n",
       "  (ln1): Linear(in_features=25, out_features=25, bias=True)\n",
       "  (act1): SiLU()\n",
       "  (drop1): Dropout(p=0.1, inplace=False)\n",
       "  (ln2): Linear(in_features=25, out_features=2, bias=True)\n",
       ")"
      ]
     },
     "execution_count": 239,
     "metadata": {},
     "output_type": "execute_result"
    }
   ],
   "source": [
    "class_head"
   ]
  },
  {
   "cell_type": "code",
   "execution_count": 249,
   "id": "2ace9e36",
   "metadata": {
    "scrolled": true
   },
   "outputs": [
    {
     "name": "stderr",
     "output_type": "stream",
     "text": [
      "epoch 0: 100%|███████████████████████████████████████████████████████████████████████████████████████████████████████████████████████████████| 482/482 [02:14<00:00,  3.57it/s]\n",
      "val .... : 100%|█████████████████████████████████████████████████████████████████████████████████████████████████████████████████████████████| 121/121 [00:33<00:00,  3.65it/s]\n"
     ]
    },
    {
     "name": "stdout",
     "output_type": "stream",
     "text": [
      "acc :  0.9252724442138038\n"
     ]
    },
    {
     "name": "stderr",
     "output_type": "stream",
     "text": [
      "epoch 1: 100%|███████████████████████████████████████████████████████████████████████████████████████████████████████████████████████████████| 482/482 [02:13<00:00,  3.61it/s]\n",
      "val .... : 100%|█████████████████████████████████████████████████████████████████████████████████████████████████████████████████████████████| 121/121 [00:33<00:00,  3.60it/s]\n"
     ]
    },
    {
     "name": "stdout",
     "output_type": "stream",
     "text": [
      "acc :  0.9372080954852102\n"
     ]
    },
    {
     "name": "stderr",
     "output_type": "stream",
     "text": [
      "epoch 2: 100%|███████████████████████████████████████████████████████████████████████████████████████████████████████████████████████████████| 482/482 [02:14<00:00,  3.58it/s]\n",
      "val .... : 100%|█████████████████████████████████████████████████████████████████████████████████████████████████████████████████████████████| 121/121 [00:33<00:00,  3.58it/s]\n"
     ]
    },
    {
     "name": "stdout",
     "output_type": "stream",
     "text": [
      "acc :  0.9475869226777374\n"
     ]
    },
    {
     "name": "stderr",
     "output_type": "stream",
     "text": [
      "epoch 3: 100%|███████████████████████████████████████████████████████████████████████████████████████████████████████████████████████████████| 482/482 [02:14<00:00,  3.58it/s]\n",
      "val .... : 100%|█████████████████████████████████████████████████████████████████████████████████████████████████████████████████████████████| 121/121 [00:34<00:00,  3.56it/s]\n"
     ]
    },
    {
     "name": "stdout",
     "output_type": "stream",
     "text": [
      "acc :  0.9501816294758693\n"
     ]
    },
    {
     "name": "stderr",
     "output_type": "stream",
     "text": [
      "epoch 4: 100%|███████████████████████████████████████████████████████████████████████████████████████████████████████████████████████████████| 482/482 [02:17<00:00,  3.51it/s]\n",
      "val .... : 100%|█████████████████████████████████████████████████████████████████████████████████████████████████████████████████████████████| 121/121 [00:33<00:00,  3.57it/s]\n"
     ]
    },
    {
     "name": "stdout",
     "output_type": "stream",
     "text": [
      "acc :  0.9449922158796056\n"
     ]
    },
    {
     "name": "stderr",
     "output_type": "stream",
     "text": [
      "epoch 5: 100%|███████████████████████████████████████████████████████████████████████████████████████████████████████████████████████████████| 482/482 [02:20<00:00,  3.43it/s]\n",
      "val .... : 100%|█████████████████████████████████████████████████████████████████████████████████████████████████████████████████████████████| 121/121 [00:35<00:00,  3.43it/s]\n"
     ]
    },
    {
     "name": "stdout",
     "output_type": "stream",
     "text": [
      "acc :  0.958484691229891\n"
     ]
    },
    {
     "name": "stderr",
     "output_type": "stream",
     "text": [
      "epoch 6: 100%|███████████████████████████████████████████████████████████████████████████████████████████████████████████████████████████████| 482/482 [02:17<00:00,  3.52it/s]\n",
      "val .... : 100%|█████████████████████████████████████████████████████████████████████████████████████████████████████████████████████████████| 121/121 [00:33<00:00,  3.57it/s]\n"
     ]
    },
    {
     "name": "stdout",
     "output_type": "stream",
     "text": [
      "acc :  0.9595225739491438\n"
     ]
    },
    {
     "name": "stderr",
     "output_type": "stream",
     "text": [
      "epoch 7: 100%|███████████████████████████████████████████████████████████████████████████████████████████████████████████████████████████████| 482/482 [02:16<00:00,  3.53it/s]\n",
      "val .... : 100%|█████████████████████████████████████████████████████████████████████████████████████████████████████████████████████████████| 121/121 [00:36<00:00,  3.34it/s]\n"
     ]
    },
    {
     "name": "stdout",
     "output_type": "stream",
     "text": [
      "acc :  0.956927867151012\n"
     ]
    },
    {
     "name": "stderr",
     "output_type": "stream",
     "text": [
      "epoch 8: 100%|███████████████████████████████████████████████████████████████████████████████████████████████████████████████████████████████| 482/482 [02:15<00:00,  3.56it/s]\n",
      "val .... : 100%|█████████████████████████████████████████████████████████████████████████████████████████████████████████████████████████████| 121/121 [00:33<00:00,  3.62it/s]\n"
     ]
    },
    {
     "name": "stdout",
     "output_type": "stream",
     "text": [
      "acc :  0.956927867151012\n"
     ]
    },
    {
     "name": "stderr",
     "output_type": "stream",
     "text": [
      "epoch 9: 100%|███████████████████████████████████████████████████████████████████████████████████████████████████████████████████████████████| 482/482 [02:16<00:00,  3.54it/s]\n",
      "val .... : 100%|█████████████████████████████████████████████████████████████████████████████████████████████████████████████████████████████| 121/121 [00:32<00:00,  3.68it/s]\n"
     ]
    },
    {
     "name": "stdout",
     "output_type": "stream",
     "text": [
      "acc :  0.9574468085106383\n"
     ]
    },
    {
     "name": "stderr",
     "output_type": "stream",
     "text": [
      "epoch 10: 100%|██████████████████████████████████████████████████████████████████████████████████████████████████████████████████████████████| 482/482 [02:17<00:00,  3.51it/s]\n",
      "val .... : 100%|█████████████████████████████████████████████████████████████████████████████████████████████████████████████████████████████| 121/121 [00:34<00:00,  3.52it/s]\n"
     ]
    },
    {
     "name": "stdout",
     "output_type": "stream",
     "text": [
      "acc :  0.9631551634665283\n"
     ]
    },
    {
     "name": "stderr",
     "output_type": "stream",
     "text": [
      "epoch 11: 100%|██████████████████████████████████████████████████████████████████████████████████████████████████████████████████████████████| 482/482 [02:17<00:00,  3.50it/s]\n",
      "val .... : 100%|█████████████████████████████████████████████████████████████████████████████████████████████████████████████████████████████| 121/121 [00:33<00:00,  3.58it/s]\n"
     ]
    },
    {
     "name": "stdout",
     "output_type": "stream",
     "text": [
      "acc :  0.964193046185781\n"
     ]
    },
    {
     "name": "stderr",
     "output_type": "stream",
     "text": [
      "epoch 12: 100%|██████████████████████████████████████████████████████████████████████████████████████████████████████████████████████████████| 482/482 [02:16<00:00,  3.54it/s]\n",
      "val .... : 100%|█████████████████████████████████████████████████████████████████████████████████████████████████████████████████████████████| 121/121 [00:34<00:00,  3.52it/s]\n"
     ]
    },
    {
     "name": "stdout",
     "output_type": "stream",
     "text": [
      "acc :  0.9667877529839128\n"
     ]
    },
    {
     "name": "stderr",
     "output_type": "stream",
     "text": [
      "epoch 13: 100%|██████████████████████████████████████████████████████████████████████████████████████████████████████████████████████████████| 482/482 [02:19<00:00,  3.45it/s]\n",
      "val .... : 100%|█████████████████████████████████████████████████████████████████████████████████████████████████████████████████████████████| 121/121 [00:34<00:00,  3.56it/s]\n"
     ]
    },
    {
     "name": "stdout",
     "output_type": "stream",
     "text": [
      "acc :  0.9590036325895174\n"
     ]
    },
    {
     "name": "stderr",
     "output_type": "stream",
     "text": [
      "epoch 14: 100%|██████████████████████████████████████████████████████████████████████████████████████████████████████████████████████████████| 482/482 [02:18<00:00,  3.48it/s]\n",
      "val .... : 100%|█████████████████████████████████████████████████████████████████████████████████████████████████████████████████████████████| 121/121 [00:34<00:00,  3.54it/s]\n"
     ]
    },
    {
     "name": "stdout",
     "output_type": "stream",
     "text": [
      "acc :  0.9673066943435392\n"
     ]
    },
    {
     "name": "stderr",
     "output_type": "stream",
     "text": [
      "epoch 15: 100%|██████████████████████████████████████████████████████████████████████████████████████████████████████████████████████████████| 482/482 [02:23<00:00,  3.36it/s]\n",
      "val .... : 100%|█████████████████████████████████████████████████████████████████████████████████████████████████████████████████████████████| 121/121 [00:34<00:00,  3.49it/s]\n"
     ]
    },
    {
     "name": "stdout",
     "output_type": "stream",
     "text": [
      "acc :  0.9693824597820446\n"
     ]
    },
    {
     "name": "stderr",
     "output_type": "stream",
     "text": [
      "epoch 16: 100%|██████████████████████████████████████████████████████████████████████████████████████████████████████████████████████████████| 482/482 [02:19<00:00,  3.46it/s]\n",
      "val .... : 100%|█████████████████████████████████████████████████████████████████████████████████████████████████████████████████████████████| 121/121 [00:34<00:00,  3.54it/s]\n"
     ]
    },
    {
     "name": "stdout",
     "output_type": "stream",
     "text": [
      "acc :  0.9704203425012974\n"
     ]
    },
    {
     "name": "stderr",
     "output_type": "stream",
     "text": [
      "epoch 17: 100%|██████████████████████████████████████████████████████████████████████████████████████████████████████████████████████████████| 482/482 [02:20<00:00,  3.44it/s]\n",
      "val .... : 100%|█████████████████████████████████████████████████████████████████████████████████████████████████████████████████████████████| 121/121 [00:34<00:00,  3.52it/s]\n"
     ]
    },
    {
     "name": "stdout",
     "output_type": "stream",
     "text": [
      "acc :  0.969901401141671\n"
     ]
    },
    {
     "name": "stderr",
     "output_type": "stream",
     "text": [
      "epoch 18: 100%|██████████████████████████████████████████████████████████████████████████████████████████████████████████████████████████████| 482/482 [02:21<00:00,  3.41it/s]\n",
      "val .... : 100%|█████████████████████████████████████████████████████████████████████████████████████████████████████████████████████████████| 121/121 [00:34<00:00,  3.53it/s]\n"
     ]
    },
    {
     "name": "stdout",
     "output_type": "stream",
     "text": [
      "acc :  0.9673066943435392\n"
     ]
    },
    {
     "name": "stderr",
     "output_type": "stream",
     "text": [
      "epoch 19: 100%|██████████████████████████████████████████████████████████████████████████████████████████████████████████████████████████████| 482/482 [02:16<00:00,  3.52it/s]\n",
      "val .... : 100%|█████████████████████████████████████████████████████████████████████████████████████████████████████████████████████████████| 121/121 [00:34<00:00,  3.46it/s]\n"
     ]
    },
    {
     "name": "stdout",
     "output_type": "stream",
     "text": [
      "acc :  0.9652309289050337\n"
     ]
    },
    {
     "name": "stderr",
     "output_type": "stream",
     "text": [
      "epoch 20: 100%|██████████████████████████████████████████████████████████████████████████████████████████████████████████████████████████████| 482/482 [02:18<00:00,  3.47it/s]\n",
      "val .... : 100%|█████████████████████████████████████████████████████████████████████████████████████████████████████████████████████████████| 121/121 [00:34<00:00,  3.53it/s]\n"
     ]
    },
    {
     "name": "stdout",
     "output_type": "stream",
     "text": [
      "acc :  0.9683445770627919\n"
     ]
    },
    {
     "name": "stderr",
     "output_type": "stream",
     "text": [
      "epoch 21: 100%|██████████████████████████████████████████████████████████████████████████████████████████████████████████████████████████████| 482/482 [02:22<00:00,  3.39it/s]\n",
      "val .... : 100%|█████████████████████████████████████████████████████████████████████████████████████████████████████████████████████████████| 121/121 [00:35<00:00,  3.45it/s]\n"
     ]
    },
    {
     "name": "stdout",
     "output_type": "stream",
     "text": [
      "acc :  0.969901401141671\n"
     ]
    },
    {
     "name": "stderr",
     "output_type": "stream",
     "text": [
      "epoch 22: 100%|██████████████████████████████████████████████████████████████████████████████████████████████████████████████████████████████| 482/482 [02:19<00:00,  3.46it/s]\n",
      "val .... : 100%|█████████████████████████████████████████████████████████████████████████████████████████████████████████████████████████████| 121/121 [00:33<00:00,  3.59it/s]\n"
     ]
    },
    {
     "name": "stdout",
     "output_type": "stream",
     "text": [
      "acc :  0.9704203425012974\n"
     ]
    },
    {
     "name": "stderr",
     "output_type": "stream",
     "text": [
      "epoch 23: 100%|██████████████████████████████████████████████████████████████████████████████████████████████████████████████████████████████| 482/482 [02:17<00:00,  3.52it/s]\n",
      "val .... : 100%|█████████████████████████████████████████████████████████████████████████████████████████████████████████████████████████████| 121/121 [00:34<00:00,  3.51it/s]\n"
     ]
    },
    {
     "name": "stdout",
     "output_type": "stream",
     "text": [
      "acc :  0.97145822522055\n"
     ]
    },
    {
     "name": "stderr",
     "output_type": "stream",
     "text": [
      "epoch 24: 100%|██████████████████████████████████████████████████████████████████████████████████████████████████████████████████████████████| 482/482 [02:17<00:00,  3.50it/s]\n",
      "val .... : 100%|█████████████████████████████████████████████████████████████████████████████████████████████████████████████████████████████| 121/121 [00:32<00:00,  3.67it/s]\n"
     ]
    },
    {
     "name": "stdout",
     "output_type": "stream",
     "text": [
      "acc :  0.9626362221069019\n"
     ]
    },
    {
     "name": "stderr",
     "output_type": "stream",
     "text": [
      "epoch 25: 100%|██████████████████████████████████████████████████████████████████████████████████████████████████████████████████████████████| 482/482 [02:18<00:00,  3.49it/s]\n",
      "val .... : 100%|█████████████████████████████████████████████████████████████████████████████████████████████████████████████████████████████| 121/121 [00:34<00:00,  3.55it/s]\n"
     ]
    },
    {
     "name": "stdout",
     "output_type": "stream",
     "text": [
      "acc :  0.9719771665801764\n"
     ]
    },
    {
     "name": "stderr",
     "output_type": "stream",
     "text": [
      "epoch 26: 100%|██████████████████████████████████████████████████████████████████████████████████████████████████████████████████████████████| 482/482 [02:16<00:00,  3.53it/s]\n",
      "val .... : 100%|█████████████████████████████████████████████████████████████████████████████████████████████████████████████████████████████| 121/121 [00:34<00:00,  3.52it/s]\n"
     ]
    },
    {
     "name": "stdout",
     "output_type": "stream",
     "text": [
      "acc :  0.97145822522055\n"
     ]
    },
    {
     "name": "stderr",
     "output_type": "stream",
     "text": [
      "epoch 27: 100%|██████████████████████████████████████████████████████████████████████████████████████████████████████████████████████████████| 482/482 [02:15<00:00,  3.56it/s]\n",
      "val .... : 100%|█████████████████████████████████████████████████████████████████████████████████████████████████████████████████████████████| 121/121 [00:33<00:00,  3.66it/s]\n"
     ]
    },
    {
     "name": "stdout",
     "output_type": "stream",
     "text": [
      "acc :  0.969901401141671\n"
     ]
    },
    {
     "name": "stderr",
     "output_type": "stream",
     "text": [
      "epoch 28: 100%|██████████████████████████████████████████████████████████████████████████████████████████████████████████████████████████████| 482/482 [02:18<00:00,  3.48it/s]\n",
      "val .... : 100%|█████████████████████████████████████████████████████████████████████████████████████████████████████████████████████████████| 121/121 [00:33<00:00,  3.63it/s]\n"
     ]
    },
    {
     "name": "stdout",
     "output_type": "stream",
     "text": [
      "acc :  0.97145822522055\n"
     ]
    },
    {
     "name": "stderr",
     "output_type": "stream",
     "text": [
      "epoch 29: 100%|██████████████████████████████████████████████████████████████████████████████████████████████████████████████████████████████| 482/482 [02:13<00:00,  3.62it/s]\n",
      "val .... : 100%|█████████████████████████████████████████████████████████████████████████████████████████████████████████████████████████████| 121/121 [00:35<00:00,  3.43it/s]\n"
     ]
    },
    {
     "name": "stdout",
     "output_type": "stream",
     "text": [
      "acc :  0.969901401141671\n"
     ]
    },
    {
     "name": "stderr",
     "output_type": "stream",
     "text": [
      "epoch 30: 100%|██████████████████████████████████████████████████████████████████████████████████████████████████████████████████████████████| 482/482 [02:14<00:00,  3.57it/s]\n",
      "val .... : 100%|█████████████████████████████████████████████████████████████████████████████████████████████████████████████████████████████| 121/121 [00:34<00:00,  3.55it/s]\n"
     ]
    },
    {
     "name": "stdout",
     "output_type": "stream",
     "text": [
      "acc :  0.9724961079398028\n"
     ]
    },
    {
     "name": "stderr",
     "output_type": "stream",
     "text": [
      "epoch 31: 100%|██████████████████████████████████████████████████████████████████████████████████████████████████████████████████████████████| 482/482 [02:15<00:00,  3.55it/s]\n",
      "val .... : 100%|█████████████████████████████████████████████████████████████████████████████████████████████████████████████████████████████| 121/121 [00:33<00:00,  3.65it/s]\n"
     ]
    },
    {
     "name": "stdout",
     "output_type": "stream",
     "text": [
      "acc :  0.9719771665801764\n"
     ]
    },
    {
     "name": "stderr",
     "output_type": "stream",
     "text": [
      "epoch 32: 100%|██████████████████████████████████████████████████████████████████████████████████████████████████████████████████████████████| 482/482 [02:15<00:00,  3.56it/s]\n",
      "val .... : 100%|█████████████████████████████████████████████████████████████████████████████████████████████████████████████████████████████| 121/121 [00:33<00:00,  3.66it/s]\n"
     ]
    },
    {
     "name": "stdout",
     "output_type": "stream",
     "text": [
      "acc :  0.97145822522055\n"
     ]
    },
    {
     "name": "stderr",
     "output_type": "stream",
     "text": [
      "epoch 33: 100%|██████████████████████████████████████████████████████████████████████████████████████████████████████████████████████████████| 482/482 [02:15<00:00,  3.56it/s]\n",
      "val .... : 100%|█████████████████████████████████████████████████████████████████████████████████████████████████████████████████████████████| 121/121 [00:33<00:00,  3.61it/s]\n"
     ]
    },
    {
     "name": "stdout",
     "output_type": "stream",
     "text": [
      "acc :  0.9704203425012974\n"
     ]
    },
    {
     "name": "stderr",
     "output_type": "stream",
     "text": [
      "epoch 34: 100%|██████████████████████████████████████████████████████████████████████████████████████████████████████████████████████████████| 482/482 [02:15<00:00,  3.55it/s]\n",
      "val .... : 100%|█████████████████████████████████████████████████████████████████████████████████████████████████████████████████████████████| 121/121 [00:33<00:00,  3.65it/s]\n"
     ]
    },
    {
     "name": "stdout",
     "output_type": "stream",
     "text": [
      "acc :  0.9673066943435392\n"
     ]
    },
    {
     "name": "stderr",
     "output_type": "stream",
     "text": [
      "epoch 35: 100%|██████████████████████████████████████████████████████████████████████████████████████████████████████████████████████████████| 482/482 [02:16<00:00,  3.54it/s]\n",
      "val .... : 100%|█████████████████████████████████████████████████████████████████████████████████████████████████████████████████████████████| 121/121 [00:33<00:00,  3.64it/s]\n"
     ]
    },
    {
     "name": "stdout",
     "output_type": "stream",
     "text": [
      "acc :  0.9724961079398028\n"
     ]
    },
    {
     "name": "stderr",
     "output_type": "stream",
     "text": [
      "epoch 36: 100%|██████████████████████████████████████████████████████████████████████████████████████████████████████████████████████████████| 482/482 [02:14<00:00,  3.60it/s]\n",
      "val .... : 100%|█████████████████████████████████████████████████████████████████████████████████████████████████████████████████████████████| 121/121 [00:33<00:00,  3.64it/s]\n"
     ]
    },
    {
     "name": "stdout",
     "output_type": "stream",
     "text": [
      "acc :  0.97145822522055\n"
     ]
    },
    {
     "name": "stderr",
     "output_type": "stream",
     "text": [
      "epoch 37: 100%|██████████████████████████████████████████████████████████████████████████████████████████████████████████████████████████████| 482/482 [02:15<00:00,  3.57it/s]\n",
      "val .... : 100%|█████████████████████████████████████████████████████████████████████████████████████████████████████████████████████████████| 121/121 [00:33<00:00,  3.66it/s]\n"
     ]
    },
    {
     "name": "stdout",
     "output_type": "stream",
     "text": [
      "acc :  0.9724961079398028\n"
     ]
    },
    {
     "name": "stderr",
     "output_type": "stream",
     "text": [
      "epoch 38: 100%|██████████████████████████████████████████████████████████████████████████████████████████████████████████████████████████████| 482/482 [02:15<00:00,  3.56it/s]\n",
      "val .... : 100%|█████████████████████████████████████████████████████████████████████████████████████████████████████████████████████████████| 121/121 [00:33<00:00,  3.57it/s]\n"
     ]
    },
    {
     "name": "stdout",
     "output_type": "stream",
     "text": [
      "acc :  0.9730150492994292\n"
     ]
    },
    {
     "name": "stderr",
     "output_type": "stream",
     "text": [
      "epoch 39: 100%|██████████████████████████████████████████████████████████████████████████████████████████████████████████████████████████████| 482/482 [02:15<00:00,  3.57it/s]\n",
      "val .... : 100%|█████████████████████████████████████████████████████████████████████████████████████████████████████████████████████████████| 121/121 [00:33<00:00,  3.66it/s]\n"
     ]
    },
    {
     "name": "stdout",
     "output_type": "stream",
     "text": [
      "acc :  0.9719771665801764\n"
     ]
    },
    {
     "name": "stderr",
     "output_type": "stream",
     "text": [
      "epoch 40: 100%|██████████████████████████████████████████████████████████████████████████████████████████████████████████████████████████████| 482/482 [02:14<00:00,  3.58it/s]\n",
      "val .... : 100%|█████████████████████████████████████████████████████████████████████████████████████████████████████████████████████████████| 121/121 [00:32<00:00,  3.67it/s]\n"
     ]
    },
    {
     "name": "stdout",
     "output_type": "stream",
     "text": [
      "acc :  0.9719771665801764\n"
     ]
    },
    {
     "name": "stderr",
     "output_type": "stream",
     "text": [
      "epoch 41: 100%|██████████████████████████████████████████████████████████████████████████████████████████████████████████████████████████████| 482/482 [02:15<00:00,  3.57it/s]\n",
      "val .... : 100%|█████████████████████████████████████████████████████████████████████████████████████████████████████████████████████████████| 121/121 [00:34<00:00,  3.55it/s]\n"
     ]
    },
    {
     "name": "stdout",
     "output_type": "stream",
     "text": [
      "acc :  0.9724961079398028\n"
     ]
    },
    {
     "name": "stderr",
     "output_type": "stream",
     "text": [
      "epoch 42: 100%|██████████████████████████████████████████████████████████████████████████████████████████████████████████████████████████████| 482/482 [02:15<00:00,  3.56it/s]\n",
      "val .... : 100%|█████████████████████████████████████████████████████████████████████████████████████████████████████████████████████████████| 121/121 [00:33<00:00,  3.61it/s]\n"
     ]
    },
    {
     "name": "stdout",
     "output_type": "stream",
     "text": [
      "acc :  0.9709392838609238\n"
     ]
    },
    {
     "name": "stderr",
     "output_type": "stream",
     "text": [
      "epoch 43: 100%|██████████████████████████████████████████████████████████████████████████████████████████████████████████████████████████████| 482/482 [02:16<00:00,  3.54it/s]\n",
      "val .... : 100%|█████████████████████████████████████████████████████████████████████████████████████████████████████████████████████████████| 121/121 [00:33<00:00,  3.56it/s]\n"
     ]
    },
    {
     "name": "stdout",
     "output_type": "stream",
     "text": [
      "acc :  0.9724961079398028\n"
     ]
    },
    {
     "name": "stderr",
     "output_type": "stream",
     "text": [
      "epoch 44: 100%|██████████████████████████████████████████████████████████████████████████████████████████████████████████████████████████████| 482/482 [02:14<00:00,  3.60it/s]\n",
      "val .... : 100%|█████████████████████████████████████████████████████████████████████████████████████████████████████████████████████████████| 121/121 [00:32<00:00,  3.68it/s]\n"
     ]
    },
    {
     "name": "stdout",
     "output_type": "stream",
     "text": [
      "acc :  0.97145822522055\n"
     ]
    },
    {
     "name": "stderr",
     "output_type": "stream",
     "text": [
      "epoch 45: 100%|██████████████████████████████████████████████████████████████████████████████████████████████████████████████████████████████| 482/482 [02:14<00:00,  3.59it/s]\n",
      "val .... : 100%|█████████████████████████████████████████████████████████████████████████████████████████████████████████████████████████████| 121/121 [00:32<00:00,  3.67it/s]\n"
     ]
    },
    {
     "name": "stdout",
     "output_type": "stream",
     "text": [
      "acc :  0.9724961079398028\n"
     ]
    },
    {
     "name": "stderr",
     "output_type": "stream",
     "text": [
      "epoch 46: 100%|██████████████████████████████████████████████████████████████████████████████████████████████████████████████████████████████| 482/482 [02:14<00:00,  3.59it/s]\n",
      "val .... : 100%|█████████████████████████████████████████████████████████████████████████████████████████████████████████████████████████████| 121/121 [00:33<00:00,  3.57it/s]\n"
     ]
    },
    {
     "name": "stdout",
     "output_type": "stream",
     "text": [
      "acc :  0.9735339906590555\n"
     ]
    },
    {
     "name": "stderr",
     "output_type": "stream",
     "text": [
      "epoch 47: 100%|██████████████████████████████████████████████████████████████████████████████████████████████████████████████████████████████| 482/482 [02:14<00:00,  3.58it/s]\n",
      "val .... : 100%|█████████████████████████████████████████████████████████████████████████████████████████████████████████████████████████████| 121/121 [00:33<00:00,  3.67it/s]\n"
     ]
    },
    {
     "name": "stdout",
     "output_type": "stream",
     "text": [
      "acc :  0.9740529320186819\n"
     ]
    },
    {
     "name": "stderr",
     "output_type": "stream",
     "text": [
      "epoch 48: 100%|██████████████████████████████████████████████████████████████████████████████████████████████████████████████████████████████| 482/482 [02:14<00:00,  3.58it/s]\n",
      "val .... : 100%|█████████████████████████████████████████████████████████████████████████████████████████████████████████████████████████████| 121/121 [00:33<00:00,  3.58it/s]\n"
     ]
    },
    {
     "name": "stdout",
     "output_type": "stream",
     "text": [
      "acc :  0.9615983393876492\n"
     ]
    },
    {
     "name": "stderr",
     "output_type": "stream",
     "text": [
      "epoch 49: 100%|██████████████████████████████████████████████████████████████████████████████████████████████████████████████████████████████| 482/482 [02:14<00:00,  3.59it/s]\n",
      "val .... : 100%|█████████████████████████████████████████████████████████████████████████████████████████████████████████████████████████████| 121/121 [00:33<00:00,  3.65it/s]\n"
     ]
    },
    {
     "name": "stdout",
     "output_type": "stream",
     "text": [
      "acc :  0.969901401141671\n"
     ]
    },
    {
     "name": "stderr",
     "output_type": "stream",
     "text": [
      "epoch 50: 100%|██████████████████████████████████████████████████████████████████████████████████████████████████████████████████████████████| 482/482 [02:14<00:00,  3.59it/s]\n",
      "val .... : 100%|█████████████████████████████████████████████████████████████████████████████████████████████████████████████████████████████| 121/121 [00:33<00:00,  3.65it/s]\n"
     ]
    },
    {
     "name": "stdout",
     "output_type": "stream",
     "text": [
      "acc :  0.97145822522055\n"
     ]
    },
    {
     "name": "stderr",
     "output_type": "stream",
     "text": [
      "epoch 51: 100%|██████████████████████████████████████████████████████████████████████████████████████████████████████████████████████████████| 482/482 [02:15<00:00,  3.56it/s]\n",
      "val .... : 100%|█████████████████████████████████████████████████████████████████████████████████████████████████████████████████████████████| 121/121 [00:33<00:00,  3.64it/s]\n"
     ]
    },
    {
     "name": "stdout",
     "output_type": "stream",
     "text": [
      "acc :  0.9735339906590555\n"
     ]
    },
    {
     "name": "stderr",
     "output_type": "stream",
     "text": [
      "epoch 52: 100%|██████████████████████████████████████████████████████████████████████████████████████████████████████████████████████████████| 482/482 [02:13<00:00,  3.62it/s]\n",
      "val .... : 100%|█████████████████████████████████████████████████████████████████████████████████████████████████████████████████████████████| 121/121 [00:33<00:00,  3.63it/s]\n"
     ]
    },
    {
     "name": "stdout",
     "output_type": "stream",
     "text": [
      "acc :  0.9657498702646601\n"
     ]
    },
    {
     "name": "stderr",
     "output_type": "stream",
     "text": [
      "epoch 53: 100%|██████████████████████████████████████████████████████████████████████████████████████████████████████████████████████████████| 482/482 [02:11<00:00,  3.66it/s]\n",
      "val .... : 100%|█████████████████████████████████████████████████████████████████████████████████████████████████████████████████████████████| 121/121 [00:33<00:00,  3.65it/s]\n"
     ]
    },
    {
     "name": "stdout",
     "output_type": "stream",
     "text": [
      "acc :  0.9709392838609238\n"
     ]
    },
    {
     "name": "stderr",
     "output_type": "stream",
     "text": [
      "epoch 54: 100%|██████████████████████████████████████████████████████████████████████████████████████████████████████████████████████████████| 482/482 [02:11<00:00,  3.66it/s]\n",
      "val .... : 100%|█████████████████████████████████████████████████████████████████████████████████████████████████████████████████████████████| 121/121 [00:33<00:00,  3.65it/s]\n"
     ]
    },
    {
     "name": "stdout",
     "output_type": "stream",
     "text": [
      "acc :  0.9719771665801764\n"
     ]
    },
    {
     "name": "stderr",
     "output_type": "stream",
     "text": [
      "epoch 55: 100%|██████████████████████████████████████████████████████████████████████████████████████████████████████████████████████████████| 482/482 [02:09<00:00,  3.71it/s]\n",
      "val .... : 100%|█████████████████████████████████████████████████████████████████████████████████████████████████████████████████████████████| 121/121 [00:32<00:00,  3.72it/s]\n"
     ]
    },
    {
     "name": "stdout",
     "output_type": "stream",
     "text": [
      "acc :  0.9724961079398028\n"
     ]
    },
    {
     "name": "stderr",
     "output_type": "stream",
     "text": [
      "epoch 56: 100%|██████████████████████████████████████████████████████████████████████████████████████████████████████████████████████████████| 482/482 [02:10<00:00,  3.70it/s]\n",
      "val .... : 100%|█████████████████████████████████████████████████████████████████████████████████████████████████████████████████████████████| 121/121 [00:32<00:00,  3.74it/s]\n"
     ]
    },
    {
     "name": "stdout",
     "output_type": "stream",
     "text": [
      "acc :  0.9740529320186819\n"
     ]
    },
    {
     "name": "stderr",
     "output_type": "stream",
     "text": [
      "epoch 57: 100%|██████████████████████████████████████████████████████████████████████████████████████████████████████████████████████████████| 482/482 [02:10<00:00,  3.71it/s]\n",
      "val .... : 100%|█████████████████████████████████████████████████████████████████████████████████████████████████████████████████████████████| 121/121 [00:32<00:00,  3.75it/s]\n"
     ]
    },
    {
     "name": "stdout",
     "output_type": "stream",
     "text": [
      "acc :  0.97145822522055\n"
     ]
    },
    {
     "name": "stderr",
     "output_type": "stream",
     "text": [
      "epoch 58: 100%|██████████████████████████████████████████████████████████████████████████████████████████████████████████████████████████████| 482/482 [02:10<00:00,  3.69it/s]\n",
      "val .... : 100%|█████████████████████████████████████████████████████████████████████████████████████████████████████████████████████████████| 121/121 [00:31<00:00,  3.82it/s]\n"
     ]
    },
    {
     "name": "stdout",
     "output_type": "stream",
     "text": [
      "acc :  0.9750908147379346\n"
     ]
    },
    {
     "name": "stderr",
     "output_type": "stream",
     "text": [
      "epoch 59: 100%|██████████████████████████████████████████████████████████████████████████████████████████████████████████████████████████████| 482/482 [02:11<00:00,  3.67it/s]\n",
      "val .... : 100%|█████████████████████████████████████████████████████████████████████████████████████████████████████████████████████████████| 121/121 [00:32<00:00,  3.72it/s]\n"
     ]
    },
    {
     "name": "stdout",
     "output_type": "stream",
     "text": [
      "acc :  0.97145822522055\n"
     ]
    },
    {
     "name": "stderr",
     "output_type": "stream",
     "text": [
      "epoch 60: 100%|██████████████████████████████████████████████████████████████████████████████████████████████████████████████████████████████| 482/482 [02:11<00:00,  3.68it/s]\n",
      "val .... : 100%|█████████████████████████████████████████████████████████████████████████████████████████████████████████████████████████████| 121/121 [00:32<00:00,  3.76it/s]\n"
     ]
    },
    {
     "name": "stdout",
     "output_type": "stream",
     "text": [
      "acc :  0.9740529320186819\n"
     ]
    },
    {
     "name": "stderr",
     "output_type": "stream",
     "text": [
      "epoch 61: 100%|██████████████████████████████████████████████████████████████████████████████████████████████████████████████████████████████| 482/482 [02:11<00:00,  3.68it/s]\n",
      "val .... : 100%|█████████████████████████████████████████████████████████████████████████████████████████████████████████████████████████████| 121/121 [00:31<00:00,  3.80it/s]\n"
     ]
    },
    {
     "name": "stdout",
     "output_type": "stream",
     "text": [
      "acc :  0.9735339906590555\n"
     ]
    },
    {
     "name": "stderr",
     "output_type": "stream",
     "text": [
      "epoch 62: 100%|██████████████████████████████████████████████████████████████████████████████████████████████████████████████████████████████| 482/482 [02:10<00:00,  3.71it/s]\n",
      "val .... : 100%|█████████████████████████████████████████████████████████████████████████████████████████████████████████████████████████████| 121/121 [00:31<00:00,  3.81it/s]\n"
     ]
    },
    {
     "name": "stdout",
     "output_type": "stream",
     "text": [
      "acc :  0.97145822522055\n"
     ]
    },
    {
     "name": "stderr",
     "output_type": "stream",
     "text": [
      "epoch 63: 100%|██████████████████████████████████████████████████████████████████████████████████████████████████████████████████████████████| 482/482 [02:10<00:00,  3.70it/s]\n",
      "val .... : 100%|█████████████████████████████████████████████████████████████████████████████████████████████████████████████████████████████| 121/121 [00:31<00:00,  3.79it/s]\n"
     ]
    },
    {
     "name": "stdout",
     "output_type": "stream",
     "text": [
      "acc :  0.9719771665801764\n"
     ]
    },
    {
     "name": "stderr",
     "output_type": "stream",
     "text": [
      "epoch 64: 100%|██████████████████████████████████████████████████████████████████████████████████████████████████████████████████████████████| 482/482 [02:10<00:00,  3.70it/s]\n",
      "val .... : 100%|█████████████████████████████████████████████████████████████████████████████████████████████████████████████████████████████| 121/121 [00:32<00:00,  3.75it/s]\n"
     ]
    },
    {
     "name": "stdout",
     "output_type": "stream",
     "text": [
      "acc :  0.9730150492994292\n"
     ]
    },
    {
     "name": "stderr",
     "output_type": "stream",
     "text": [
      "epoch 65: 100%|██████████████████████████████████████████████████████████████████████████████████████████████████████████████████████████████| 482/482 [02:09<00:00,  3.71it/s]\n",
      "val .... : 100%|█████████████████████████████████████████████████████████████████████████████████████████████████████████████████████████████| 121/121 [00:31<00:00,  3.79it/s]\n"
     ]
    },
    {
     "name": "stdout",
     "output_type": "stream",
     "text": [
      "acc :  0.9740529320186819\n"
     ]
    },
    {
     "name": "stderr",
     "output_type": "stream",
     "text": [
      "epoch 66: 100%|██████████████████████████████████████████████████████████████████████████████████████████████████████████████████████████████| 482/482 [02:08<00:00,  3.74it/s]\n",
      "val .... : 100%|█████████████████████████████████████████████████████████████████████████████████████████████████████████████████████████████| 121/121 [00:32<00:00,  3.78it/s]\n"
     ]
    },
    {
     "name": "stdout",
     "output_type": "stream",
     "text": [
      "acc :  0.9730150492994292\n"
     ]
    },
    {
     "name": "stderr",
     "output_type": "stream",
     "text": [
      "epoch 67: 100%|██████████████████████████████████████████████████████████████████████████████████████████████████████████████████████████████| 482/482 [02:09<00:00,  3.73it/s]\n",
      "val .... : 100%|█████████████████████████████████████████████████████████████████████████████████████████████████████████████████████████████| 121/121 [00:32<00:00,  3.72it/s]\n"
     ]
    },
    {
     "name": "stdout",
     "output_type": "stream",
     "text": [
      "acc :  0.9719771665801764\n"
     ]
    },
    {
     "name": "stderr",
     "output_type": "stream",
     "text": [
      "epoch 68: 100%|██████████████████████████████████████████████████████████████████████████████████████████████████████████████████████████████| 482/482 [02:09<00:00,  3.73it/s]\n",
      "val .... : 100%|█████████████████████████████████████████████████████████████████████████████████████████████████████████████████████████████| 121/121 [00:31<00:00,  3.80it/s]\n"
     ]
    },
    {
     "name": "stdout",
     "output_type": "stream",
     "text": [
      "acc :  0.9740529320186819\n"
     ]
    },
    {
     "name": "stderr",
     "output_type": "stream",
     "text": [
      "epoch 69: 100%|██████████████████████████████████████████████████████████████████████████████████████████████████████████████████████████████| 482/482 [02:11<00:00,  3.65it/s]\n",
      "val .... : 100%|█████████████████████████████████████████████████████████████████████████████████████████████████████████████████████████████| 121/121 [00:32<00:00,  3.71it/s]\n"
     ]
    },
    {
     "name": "stdout",
     "output_type": "stream",
     "text": [
      "acc :  0.9730150492994292\n"
     ]
    },
    {
     "name": "stderr",
     "output_type": "stream",
     "text": [
      "epoch 70: 100%|██████████████████████████████████████████████████████████████████████████████████████████████████████████████████████████████| 482/482 [02:10<00:00,  3.69it/s]\n",
      "val .... : 100%|█████████████████████████████████████████████████████████████████████████████████████████████████████████████████████████████| 121/121 [00:31<00:00,  3.81it/s]\n"
     ]
    },
    {
     "name": "stdout",
     "output_type": "stream",
     "text": [
      "acc :  0.9735339906590555\n"
     ]
    },
    {
     "name": "stderr",
     "output_type": "stream",
     "text": [
      "epoch 71: 100%|██████████████████████████████████████████████████████████████████████████████████████████████████████████████████████████████| 482/482 [02:08<00:00,  3.74it/s]\n",
      "val .... : 100%|█████████████████████████████████████████████████████████████████████████████████████████████████████████████████████████████| 121/121 [00:31<00:00,  3.80it/s]\n"
     ]
    },
    {
     "name": "stdout",
     "output_type": "stream",
     "text": [
      "acc :  0.9724961079398028\n"
     ]
    },
    {
     "name": "stderr",
     "output_type": "stream",
     "text": [
      "epoch 72: 100%|██████████████████████████████████████████████████████████████████████████████████████████████████████████████████████████████| 482/482 [02:11<00:00,  3.66it/s]\n",
      "val .... : 100%|█████████████████████████████████████████████████████████████████████████████████████████████████████████████████████████████| 121/121 [00:32<00:00,  3.75it/s]\n"
     ]
    },
    {
     "name": "stdout",
     "output_type": "stream",
     "text": [
      "acc :  0.9730150492994292\n"
     ]
    },
    {
     "name": "stderr",
     "output_type": "stream",
     "text": [
      "epoch 73: 100%|██████████████████████████████████████████████████████████████████████████████████████████████████████████████████████████████| 482/482 [02:08<00:00,  3.74it/s]\n",
      "val .... : 100%|█████████████████████████████████████████████████████████████████████████████████████████████████████████████████████████████| 121/121 [00:31<00:00,  3.81it/s]\n"
     ]
    },
    {
     "name": "stdout",
     "output_type": "stream",
     "text": [
      "acc :  0.9688635184224182\n"
     ]
    },
    {
     "name": "stderr",
     "output_type": "stream",
     "text": [
      "epoch 74: 100%|██████████████████████████████████████████████████████████████████████████████████████████████████████████████████████████████| 482/482 [02:09<00:00,  3.73it/s]\n",
      "val .... : 100%|█████████████████████████████████████████████████████████████████████████████████████████████████████████████████████████████| 121/121 [00:32<00:00,  3.74it/s]\n"
     ]
    },
    {
     "name": "stdout",
     "output_type": "stream",
     "text": [
      "acc :  0.9740529320186819\n"
     ]
    },
    {
     "name": "stderr",
     "output_type": "stream",
     "text": [
      "epoch 75: 100%|██████████████████████████████████████████████████████████████████████████████████████████████████████████████████████████████| 482/482 [02:08<00:00,  3.76it/s]\n",
      "val .... : 100%|█████████████████████████████████████████████████████████████████████████████████████████████████████████████████████████████| 121/121 [00:32<00:00,  3.71it/s]\n"
     ]
    },
    {
     "name": "stdout",
     "output_type": "stream",
     "text": [
      "acc :  0.9745718733783083\n"
     ]
    },
    {
     "name": "stderr",
     "output_type": "stream",
     "text": [
      "epoch 76: 100%|██████████████████████████████████████████████████████████████████████████████████████████████████████████████████████████████| 482/482 [02:10<00:00,  3.71it/s]\n",
      "val .... : 100%|█████████████████████████████████████████████████████████████████████████████████████████████████████████████████████████████| 121/121 [00:33<00:00,  3.65it/s]\n"
     ]
    },
    {
     "name": "stdout",
     "output_type": "stream",
     "text": [
      "acc :  0.9735339906590555\n"
     ]
    },
    {
     "name": "stderr",
     "output_type": "stream",
     "text": [
      "epoch 77: 100%|██████████████████████████████████████████████████████████████████████████████████████████████████████████████████████████████| 482/482 [02:09<00:00,  3.72it/s]\n",
      "val .... : 100%|█████████████████████████████████████████████████████████████████████████████████████████████████████████████████████████████| 121/121 [00:32<00:00,  3.72it/s]\n"
     ]
    },
    {
     "name": "stdout",
     "output_type": "stream",
     "text": [
      "acc :  0.9730150492994292\n"
     ]
    },
    {
     "name": "stderr",
     "output_type": "stream",
     "text": [
      "epoch 78: 100%|██████████████████████████████████████████████████████████████████████████████████████████████████████████████████████████████| 482/482 [02:10<00:00,  3.68it/s]\n",
      "val .... : 100%|█████████████████████████████████████████████████████████████████████████████████████████████████████████████████████████████| 121/121 [00:32<00:00,  3.77it/s]\n"
     ]
    },
    {
     "name": "stdout",
     "output_type": "stream",
     "text": [
      "acc :  0.9745718733783083\n"
     ]
    },
    {
     "name": "stderr",
     "output_type": "stream",
     "text": [
      "epoch 79: 100%|██████████████████████████████████████████████████████████████████████████████████████████████████████████████████████████████| 482/482 [02:10<00:00,  3.71it/s]\n",
      "val .... : 100%|█████████████████████████████████████████████████████████████████████████████████████████████████████████████████████████████| 121/121 [00:32<00:00,  3.78it/s]\n"
     ]
    },
    {
     "name": "stdout",
     "output_type": "stream",
     "text": [
      "acc :  0.9724961079398028\n"
     ]
    },
    {
     "name": "stderr",
     "output_type": "stream",
     "text": [
      "epoch 80: 100%|██████████████████████████████████████████████████████████████████████████████████████████████████████████████████████████████| 482/482 [02:09<00:00,  3.71it/s]\n",
      "val .... : 100%|█████████████████████████████████████████████████████████████████████████████████████████████████████████████████████████████| 121/121 [00:31<00:00,  3.83it/s]\n"
     ]
    },
    {
     "name": "stdout",
     "output_type": "stream",
     "text": [
      "acc :  0.9745718733783083\n"
     ]
    },
    {
     "name": "stderr",
     "output_type": "stream",
     "text": [
      "epoch 81: 100%|██████████████████████████████████████████████████████████████████████████████████████████████████████████████████████████████| 482/482 [02:08<00:00,  3.74it/s]\n",
      "val .... : 100%|█████████████████████████████████████████████████████████████████████████████████████████████████████████████████████████████| 121/121 [00:31<00:00,  3.80it/s]\n"
     ]
    },
    {
     "name": "stdout",
     "output_type": "stream",
     "text": [
      "acc :  0.9740529320186819\n"
     ]
    },
    {
     "name": "stderr",
     "output_type": "stream",
     "text": [
      "epoch 82: 100%|██████████████████████████████████████████████████████████████████████████████████████████████████████████████████████████████| 482/482 [02:09<00:00,  3.74it/s]\n",
      "val .... : 100%|█████████████████████████████████████████████████████████████████████████████████████████████████████████████████████████████| 121/121 [00:32<00:00,  3.72it/s]\n"
     ]
    },
    {
     "name": "stdout",
     "output_type": "stream",
     "text": [
      "acc :  0.9724961079398028\n"
     ]
    },
    {
     "name": "stderr",
     "output_type": "stream",
     "text": [
      "epoch 83: 100%|██████████████████████████████████████████████████████████████████████████████████████████████████████████████████████████████| 482/482 [02:08<00:00,  3.75it/s]\n",
      "val .... : 100%|█████████████████████████████████████████████████████████████████████████████████████████████████████████████████████████████| 121/121 [00:32<00:00,  3.74it/s]\n"
     ]
    },
    {
     "name": "stdout",
     "output_type": "stream",
     "text": [
      "acc :  0.9735339906590555\n"
     ]
    },
    {
     "name": "stderr",
     "output_type": "stream",
     "text": [
      "epoch 84: 100%|██████████████████████████████████████████████████████████████████████████████████████████████████████████████████████████████| 482/482 [02:10<00:00,  3.68it/s]\n",
      "val .... : 100%|█████████████████████████████████████████████████████████████████████████████████████████████████████████████████████████████| 121/121 [00:32<00:00,  3.75it/s]\n"
     ]
    },
    {
     "name": "stdout",
     "output_type": "stream",
     "text": [
      "acc :  0.97145822522055\n"
     ]
    },
    {
     "name": "stderr",
     "output_type": "stream",
     "text": [
      "epoch 85: 100%|██████████████████████████████████████████████████████████████████████████████████████████████████████████████████████████████| 482/482 [02:08<00:00,  3.74it/s]\n",
      "val .... : 100%|█████████████████████████████████████████████████████████████████████████████████████████████████████████████████████████████| 121/121 [00:32<00:00,  3.74it/s]\n"
     ]
    },
    {
     "name": "stdout",
     "output_type": "stream",
     "text": [
      "acc :  0.9761286974571873\n"
     ]
    },
    {
     "name": "stderr",
     "output_type": "stream",
     "text": [
      "epoch 86: 100%|██████████████████████████████████████████████████████████████████████████████████████████████████████████████████████████████| 482/482 [02:08<00:00,  3.75it/s]\n",
      "val .... : 100%|█████████████████████████████████████████████████████████████████████████████████████████████████████████████████████████████| 121/121 [00:32<00:00,  3.78it/s]\n"
     ]
    },
    {
     "name": "stdout",
     "output_type": "stream",
     "text": [
      "acc :  0.9730150492994292\n"
     ]
    },
    {
     "name": "stderr",
     "output_type": "stream",
     "text": [
      "epoch 87: 100%|██████████████████████████████████████████████████████████████████████████████████████████████████████████████████████████████| 482/482 [02:08<00:00,  3.76it/s]\n",
      "val .... : 100%|█████████████████████████████████████████████████████████████████████████████████████████████████████████████████████████████| 121/121 [00:32<00:00,  3.76it/s]\n"
     ]
    },
    {
     "name": "stdout",
     "output_type": "stream",
     "text": [
      "acc :  0.9750908147379346\n"
     ]
    },
    {
     "name": "stderr",
     "output_type": "stream",
     "text": [
      "epoch 88: 100%|██████████████████████████████████████████████████████████████████████████████████████████████████████████████████████████████| 482/482 [02:10<00:00,  3.69it/s]\n",
      "val .... : 100%|█████████████████████████████████████████████████████████████████████████████████████████████████████████████████████████████| 121/121 [00:32<00:00,  3.75it/s]\n"
     ]
    },
    {
     "name": "stdout",
     "output_type": "stream",
     "text": [
      "acc :  0.9740529320186819\n"
     ]
    },
    {
     "name": "stderr",
     "output_type": "stream",
     "text": [
      "epoch 89: 100%|██████████████████████████████████████████████████████████████████████████████████████████████████████████████████████████████| 482/482 [02:09<00:00,  3.73it/s]\n",
      "val .... : 100%|█████████████████████████████████████████████████████████████████████████████████████████████████████████████████████████████| 121/121 [00:31<00:00,  3.79it/s]\n"
     ]
    },
    {
     "name": "stdout",
     "output_type": "stream",
     "text": [
      "acc :  0.9730150492994292\n"
     ]
    },
    {
     "name": "stderr",
     "output_type": "stream",
     "text": [
      "epoch 90: 100%|██████████████████████████████████████████████████████████████████████████████████████████████████████████████████████████████| 482/482 [02:09<00:00,  3.73it/s]\n",
      "val .... : 100%|█████████████████████████████████████████████████████████████████████████████████████████████████████████████████████████████| 121/121 [00:32<00:00,  3.78it/s]\n"
     ]
    },
    {
     "name": "stdout",
     "output_type": "stream",
     "text": [
      "acc :  0.9735339906590555\n"
     ]
    },
    {
     "name": "stderr",
     "output_type": "stream",
     "text": [
      "epoch 91: 100%|██████████████████████████████████████████████████████████████████████████████████████████████████████████████████████████████| 482/482 [02:09<00:00,  3.73it/s]\n",
      "val .... : 100%|█████████████████████████████████████████████████████████████████████████████████████████████████████████████████████████████| 121/121 [00:32<00:00,  3.77it/s]\n"
     ]
    },
    {
     "name": "stdout",
     "output_type": "stream",
     "text": [
      "acc :  0.9745718733783083\n"
     ]
    },
    {
     "name": "stderr",
     "output_type": "stream",
     "text": [
      "epoch 92: 100%|██████████████████████████████████████████████████████████████████████████████████████████████████████████████████████████████| 482/482 [02:09<00:00,  3.73it/s]\n",
      "val .... : 100%|█████████████████████████████████████████████████████████████████████████████████████████████████████████████████████████████| 121/121 [00:31<00:00,  3.79it/s]\n"
     ]
    },
    {
     "name": "stdout",
     "output_type": "stream",
     "text": [
      "acc :  0.9735339906590555\n"
     ]
    },
    {
     "name": "stderr",
     "output_type": "stream",
     "text": [
      "epoch 93: 100%|██████████████████████████████████████████████████████████████████████████████████████████████████████████████████████████████| 482/482 [02:09<00:00,  3.74it/s]\n",
      "val .... : 100%|█████████████████████████████████████████████████████████████████████████████████████████████████████████████████████████████| 121/121 [00:32<00:00,  3.77it/s]\n"
     ]
    },
    {
     "name": "stdout",
     "output_type": "stream",
     "text": [
      "acc :  0.9745718733783083\n"
     ]
    },
    {
     "name": "stderr",
     "output_type": "stream",
     "text": [
      "epoch 94: 100%|██████████████████████████████████████████████████████████████████████████████████████████████████████████████████████████████| 482/482 [02:11<00:00,  3.67it/s]\n",
      "val .... : 100%|█████████████████████████████████████████████████████████████████████████████████████████████████████████████████████████████| 121/121 [00:32<00:00,  3.76it/s]\n"
     ]
    },
    {
     "name": "stdout",
     "output_type": "stream",
     "text": [
      "acc :  0.9745718733783083\n"
     ]
    },
    {
     "name": "stderr",
     "output_type": "stream",
     "text": [
      "epoch 95: 100%|██████████████████████████████████████████████████████████████████████████████████████████████████████████████████████████████| 482/482 [02:08<00:00,  3.74it/s]\n",
      "val .... : 100%|█████████████████████████████████████████████████████████████████████████████████████████████████████████████████████████████| 121/121 [00:31<00:00,  3.81it/s]\n"
     ]
    },
    {
     "name": "stdout",
     "output_type": "stream",
     "text": [
      "acc :  0.9766476388168137\n"
     ]
    },
    {
     "name": "stderr",
     "output_type": "stream",
     "text": [
      "epoch 96: 100%|██████████████████████████████████████████████████████████████████████████████████████████████████████████████████████████████| 482/482 [02:08<00:00,  3.74it/s]\n",
      "val .... : 100%|█████████████████████████████████████████████████████████████████████████████████████████████████████████████████████████████| 121/121 [00:31<00:00,  3.80it/s]\n"
     ]
    },
    {
     "name": "stdout",
     "output_type": "stream",
     "text": [
      "acc :  0.9730150492994292\n"
     ]
    },
    {
     "name": "stderr",
     "output_type": "stream",
     "text": [
      "epoch 97: 100%|██████████████████████████████████████████████████████████████████████████████████████████████████████████████████████████████| 482/482 [02:08<00:00,  3.75it/s]\n",
      "val .... : 100%|█████████████████████████████████████████████████████████████████████████████████████████████████████████████████████████████| 121/121 [00:32<00:00,  3.77it/s]\n"
     ]
    },
    {
     "name": "stdout",
     "output_type": "stream",
     "text": [
      "acc :  0.9761286974571873\n"
     ]
    },
    {
     "name": "stderr",
     "output_type": "stream",
     "text": [
      "epoch 98: 100%|██████████████████████████████████████████████████████████████████████████████████████████████████████████████████████████████| 482/482 [02:09<00:00,  3.73it/s]\n",
      "val .... : 100%|█████████████████████████████████████████████████████████████████████████████████████████████████████████████████████████████| 121/121 [00:31<00:00,  3.87it/s]\n"
     ]
    },
    {
     "name": "stdout",
     "output_type": "stream",
     "text": [
      "acc :  0.9761286974571873\n"
     ]
    },
    {
     "name": "stderr",
     "output_type": "stream",
     "text": [
      "epoch 99: 100%|██████████████████████████████████████████████████████████████████████████████████████████████████████████████████████████████| 482/482 [02:09<00:00,  3.71it/s]\n",
      "val .... : 100%|█████████████████████████████████████████████████████████████████████████████████████████████████████████████████████████████| 121/121 [00:32<00:00,  3.76it/s]\n"
     ]
    },
    {
     "name": "stdout",
     "output_type": "stream",
     "text": [
      "acc :  0.9771665801764401\n"
     ]
    },
    {
     "name": "stderr",
     "output_type": "stream",
     "text": [
      "epoch 100: 100%|█████████████████████████████████████████████████████████████████████████████████████████████████████████████████████████████| 482/482 [02:10<00:00,  3.70it/s]\n",
      "val .... : 100%|█████████████████████████████████████████████████████████████████████████████████████████████████████████████████████████████| 121/121 [00:31<00:00,  3.83it/s]\n"
     ]
    },
    {
     "name": "stdout",
     "output_type": "stream",
     "text": [
      "acc :  0.9750908147379346\n"
     ]
    },
    {
     "name": "stderr",
     "output_type": "stream",
     "text": [
      "epoch 101: 100%|█████████████████████████████████████████████████████████████████████████████████████████████████████████████████████████████| 482/482 [02:08<00:00,  3.74it/s]\n",
      "val .... : 100%|█████████████████████████████████████████████████████████████████████████████████████████████████████████████████████████████| 121/121 [00:31<00:00,  3.79it/s]\n"
     ]
    },
    {
     "name": "stdout",
     "output_type": "stream",
     "text": [
      "acc :  0.9719771665801764\n"
     ]
    },
    {
     "name": "stderr",
     "output_type": "stream",
     "text": [
      "epoch 102: 100%|█████████████████████████████████████████████████████████████████████████████████████████████████████████████████████████████| 482/482 [02:09<00:00,  3.71it/s]\n",
      "val .... : 100%|█████████████████████████████████████████████████████████████████████████████████████████████████████████████████████████████| 121/121 [00:32<00:00,  3.68it/s]\n"
     ]
    },
    {
     "name": "stdout",
     "output_type": "stream",
     "text": [
      "acc :  0.975609756097561\n"
     ]
    },
    {
     "name": "stderr",
     "output_type": "stream",
     "text": [
      "epoch 103: 100%|█████████████████████████████████████████████████████████████████████████████████████████████████████████████████████████████| 482/482 [02:09<00:00,  3.73it/s]\n",
      "val .... : 100%|█████████████████████████████████████████████████████████████████████████████████████████████████████████████████████████████| 121/121 [00:32<00:00,  3.69it/s]\n"
     ]
    },
    {
     "name": "stdout",
     "output_type": "stream",
     "text": [
      "acc :  0.9735339906590555\n"
     ]
    },
    {
     "name": "stderr",
     "output_type": "stream",
     "text": [
      "epoch 104: 100%|█████████████████████████████████████████████████████████████████████████████████████████████████████████████████████████████| 482/482 [02:10<00:00,  3.69it/s]\n",
      "val .... : 100%|█████████████████████████████████████████████████████████████████████████████████████████████████████████████████████████████| 121/121 [00:32<00:00,  3.75it/s]\n"
     ]
    },
    {
     "name": "stdout",
     "output_type": "stream",
     "text": [
      "acc :  0.9750908147379346\n"
     ]
    },
    {
     "name": "stderr",
     "output_type": "stream",
     "text": [
      "epoch 105: 100%|█████████████████████████████████████████████████████████████████████████████████████████████████████████████████████████████| 482/482 [02:10<00:00,  3.70it/s]\n",
      "val .... : 100%|█████████████████████████████████████████████████████████████████████████████████████████████████████████████████████████████| 121/121 [00:31<00:00,  3.86it/s]\n"
     ]
    },
    {
     "name": "stdout",
     "output_type": "stream",
     "text": [
      "acc :  0.975609756097561\n"
     ]
    },
    {
     "name": "stderr",
     "output_type": "stream",
     "text": [
      "epoch 106: 100%|█████████████████████████████████████████████████████████████████████████████████████████████████████████████████████████████| 482/482 [02:11<00:00,  3.67it/s]\n",
      "val .... : 100%|█████████████████████████████████████████████████████████████████████████████████████████████████████████████████████████████| 121/121 [00:32<00:00,  3.78it/s]\n"
     ]
    },
    {
     "name": "stdout",
     "output_type": "stream",
     "text": [
      "acc :  0.9745718733783083\n"
     ]
    },
    {
     "name": "stderr",
     "output_type": "stream",
     "text": [
      "epoch 107: 100%|█████████████████████████████████████████████████████████████████████████████████████████████████████████████████████████████| 482/482 [02:09<00:00,  3.71it/s]\n",
      "val .... : 100%|█████████████████████████████████████████████████████████████████████████████████████████████████████████████████████████████| 121/121 [00:31<00:00,  3.82it/s]\n"
     ]
    },
    {
     "name": "stdout",
     "output_type": "stream",
     "text": [
      "acc :  0.9782044628956927\n"
     ]
    },
    {
     "name": "stderr",
     "output_type": "stream",
     "text": [
      "epoch 108: 100%|█████████████████████████████████████████████████████████████████████████████████████████████████████████████████████████████| 482/482 [02:07<00:00,  3.77it/s]\n",
      "val .... : 100%|█████████████████████████████████████████████████████████████████████████████████████████████████████████████████████████████| 121/121 [00:31<00:00,  3.86it/s]\n"
     ]
    },
    {
     "name": "stdout",
     "output_type": "stream",
     "text": [
      "acc :  0.9750908147379346\n"
     ]
    },
    {
     "name": "stderr",
     "output_type": "stream",
     "text": [
      "epoch 109: 100%|█████████████████████████████████████████████████████████████████████████████████████████████████████████████████████████████| 482/482 [02:10<00:00,  3.69it/s]\n",
      "val .... : 100%|█████████████████████████████████████████████████████████████████████████████████████████████████████████████████████████████| 121/121 [00:32<00:00,  3.76it/s]\n"
     ]
    },
    {
     "name": "stdout",
     "output_type": "stream",
     "text": [
      "acc :  0.9745718733783083\n"
     ]
    },
    {
     "name": "stderr",
     "output_type": "stream",
     "text": [
      "epoch 110: 100%|█████████████████████████████████████████████████████████████████████████████████████████████████████████████████████████████| 482/482 [02:08<00:00,  3.75it/s]\n",
      "val .... : 100%|█████████████████████████████████████████████████████████████████████████████████████████████████████████████████████████████| 121/121 [00:31<00:00,  3.78it/s]\n"
     ]
    },
    {
     "name": "stdout",
     "output_type": "stream",
     "text": [
      "acc :  0.9745718733783083\n"
     ]
    },
    {
     "name": "stderr",
     "output_type": "stream",
     "text": [
      "epoch 111: 100%|█████████████████████████████████████████████████████████████████████████████████████████████████████████████████████████████| 482/482 [02:10<00:00,  3.70it/s]\n",
      "val .... : 100%|█████████████████████████████████████████████████████████████████████████████████████████████████████████████████████████████| 121/121 [00:32<00:00,  3.68it/s]\n"
     ]
    },
    {
     "name": "stdout",
     "output_type": "stream",
     "text": [
      "acc :  0.9735339906590555\n"
     ]
    },
    {
     "name": "stderr",
     "output_type": "stream",
     "text": [
      "epoch 112: 100%|█████████████████████████████████████████████████████████████████████████████████████████████████████████████████████████████| 482/482 [02:10<00:00,  3.68it/s]\n",
      "val .... : 100%|█████████████████████████████████████████████████████████████████████████████████████████████████████████████████████████████| 121/121 [00:32<00:00,  3.73it/s]\n"
     ]
    },
    {
     "name": "stdout",
     "output_type": "stream",
     "text": [
      "acc :  0.9740529320186819\n"
     ]
    },
    {
     "name": "stderr",
     "output_type": "stream",
     "text": [
      "epoch 113: 100%|█████████████████████████████████████████████████████████████████████████████████████████████████████████████████████████████| 482/482 [02:09<00:00,  3.72it/s]\n",
      "val .... : 100%|█████████████████████████████████████████████████████████████████████████████████████████████████████████████████████████████| 121/121 [00:31<00:00,  3.78it/s]\n"
     ]
    },
    {
     "name": "stdout",
     "output_type": "stream",
     "text": [
      "acc :  0.9745718733783083\n"
     ]
    },
    {
     "name": "stderr",
     "output_type": "stream",
     "text": [
      "epoch 114: 100%|█████████████████████████████████████████████████████████████████████████████████████████████████████████████████████████████| 482/482 [02:11<00:00,  3.68it/s]\n",
      "val .... : 100%|█████████████████████████████████████████████████████████████████████████████████████████████████████████████████████████████| 121/121 [00:31<00:00,  3.79it/s]\n"
     ]
    },
    {
     "name": "stdout",
     "output_type": "stream",
     "text": [
      "acc :  0.9766476388168137\n"
     ]
    },
    {
     "name": "stderr",
     "output_type": "stream",
     "text": [
      "epoch 115: 100%|█████████████████████████████████████████████████████████████████████████████████████████████████████████████████████████████| 482/482 [02:08<00:00,  3.74it/s]\n",
      "val .... : 100%|█████████████████████████████████████████████████████████████████████████████████████████████████████████████████████████████| 121/121 [00:32<00:00,  3.76it/s]\n"
     ]
    },
    {
     "name": "stdout",
     "output_type": "stream",
     "text": [
      "acc :  0.9740529320186819\n"
     ]
    },
    {
     "name": "stderr",
     "output_type": "stream",
     "text": [
      "epoch 116: 100%|█████████████████████████████████████████████████████████████████████████████████████████████████████████████████████████████| 482/482 [02:11<00:00,  3.66it/s]\n",
      "val .... : 100%|█████████████████████████████████████████████████████████████████████████████████████████████████████████████████████████████| 121/121 [00:31<00:00,  3.81it/s]\n"
     ]
    },
    {
     "name": "stdout",
     "output_type": "stream",
     "text": [
      "acc :  0.975609756097561\n"
     ]
    },
    {
     "name": "stderr",
     "output_type": "stream",
     "text": [
      "epoch 117: 100%|█████████████████████████████████████████████████████████████████████████████████████████████████████████████████████████████| 482/482 [02:10<00:00,  3.68it/s]\n",
      "val .... : 100%|█████████████████████████████████████████████████████████████████████████████████████████████████████████████████████████████| 121/121 [00:32<00:00,  3.76it/s]\n"
     ]
    },
    {
     "name": "stdout",
     "output_type": "stream",
     "text": [
      "acc :  0.9740529320186819\n"
     ]
    },
    {
     "name": "stderr",
     "output_type": "stream",
     "text": [
      "epoch 118: 100%|█████████████████████████████████████████████████████████████████████████████████████████████████████████████████████████████| 482/482 [02:09<00:00,  3.72it/s]\n",
      "val .... : 100%|█████████████████████████████████████████████████████████████████████████████████████████████████████████████████████████████| 121/121 [00:32<00:00,  3.73it/s]\n"
     ]
    },
    {
     "name": "stdout",
     "output_type": "stream",
     "text": [
      "acc :  0.9750908147379346\n"
     ]
    },
    {
     "name": "stderr",
     "output_type": "stream",
     "text": [
      "epoch 119: 100%|█████████████████████████████████████████████████████████████████████████████████████████████████████████████████████████████| 482/482 [02:10<00:00,  3.70it/s]\n",
      "val .... : 100%|█████████████████████████████████████████████████████████████████████████████████████████████████████████████████████████████| 121/121 [00:32<00:00,  3.77it/s]\n"
     ]
    },
    {
     "name": "stdout",
     "output_type": "stream",
     "text": [
      "acc :  0.9750908147379346\n"
     ]
    },
    {
     "name": "stderr",
     "output_type": "stream",
     "text": [
      "epoch 120: 100%|█████████████████████████████████████████████████████████████████████████████████████████████████████████████████████████████| 482/482 [02:10<00:00,  3.71it/s]\n",
      "val .... : 100%|█████████████████████████████████████████████████████████████████████████████████████████████████████████████████████████████| 121/121 [00:33<00:00,  3.63it/s]\n"
     ]
    },
    {
     "name": "stdout",
     "output_type": "stream",
     "text": [
      "acc :  0.9761286974571873\n"
     ]
    },
    {
     "name": "stderr",
     "output_type": "stream",
     "text": [
      "epoch 121: 100%|█████████████████████████████████████████████████████████████████████████████████████████████████████████████████████████████| 482/482 [02:10<00:00,  3.71it/s]\n",
      "val .... : 100%|█████████████████████████████████████████████████████████████████████████████████████████████████████████████████████████████| 121/121 [00:32<00:00,  3.70it/s]\n"
     ]
    },
    {
     "name": "stdout",
     "output_type": "stream",
     "text": [
      "acc :  0.9761286974571873\n"
     ]
    },
    {
     "name": "stderr",
     "output_type": "stream",
     "text": [
      "epoch 122: 100%|█████████████████████████████████████████████████████████████████████████████████████████████████████████████████████████████| 482/482 [02:10<00:00,  3.71it/s]\n",
      "val .... : 100%|█████████████████████████████████████████████████████████████████████████████████████████████████████████████████████████████| 121/121 [00:32<00:00,  3.73it/s]\n"
     ]
    },
    {
     "name": "stdout",
     "output_type": "stream",
     "text": [
      "acc :  0.9766476388168137\n"
     ]
    },
    {
     "name": "stderr",
     "output_type": "stream",
     "text": [
      "epoch 123: 100%|█████████████████████████████████████████████████████████████████████████████████████████████████████████████████████████████| 482/482 [02:10<00:00,  3.69it/s]\n",
      "val .... : 100%|█████████████████████████████████████████████████████████████████████████████████████████████████████████████████████████████| 121/121 [00:32<00:00,  3.75it/s]\n"
     ]
    },
    {
     "name": "stdout",
     "output_type": "stream",
     "text": [
      "acc :  0.9771665801764401\n"
     ]
    },
    {
     "name": "stderr",
     "output_type": "stream",
     "text": [
      "epoch 124: 100%|█████████████████████████████████████████████████████████████████████████████████████████████████████████████████████████████| 482/482 [02:09<00:00,  3.72it/s]\n",
      "val .... : 100%|█████████████████████████████████████████████████████████████████████████████████████████████████████████████████████████████| 121/121 [00:32<00:00,  3.77it/s]\n"
     ]
    },
    {
     "name": "stdout",
     "output_type": "stream",
     "text": [
      "acc :  0.9761286974571873\n"
     ]
    },
    {
     "name": "stderr",
     "output_type": "stream",
     "text": [
      "epoch 125: 100%|█████████████████████████████████████████████████████████████████████████████████████████████████████████████████████████████| 482/482 [02:09<00:00,  3.73it/s]\n",
      "val .... : 100%|█████████████████████████████████████████████████████████████████████████████████████████████████████████████████████████████| 121/121 [00:32<00:00,  3.77it/s]\n"
     ]
    },
    {
     "name": "stdout",
     "output_type": "stream",
     "text": [
      "acc :  0.9766476388168137\n"
     ]
    },
    {
     "name": "stderr",
     "output_type": "stream",
     "text": [
      "epoch 126: 100%|█████████████████████████████████████████████████████████████████████████████████████████████████████████████████████████████| 482/482 [02:09<00:00,  3.74it/s]\n",
      "val .... : 100%|█████████████████████████████████████████████████████████████████████████████████████████████████████████████████████████████| 121/121 [00:32<00:00,  3.78it/s]\n"
     ]
    },
    {
     "name": "stdout",
     "output_type": "stream",
     "text": [
      "acc :  0.9735339906590555\n"
     ]
    },
    {
     "name": "stderr",
     "output_type": "stream",
     "text": [
      "epoch 127: 100%|█████████████████████████████████████████████████████████████████████████████████████████████████████████████████████████████| 482/482 [02:08<00:00,  3.74it/s]\n",
      "val .... : 100%|█████████████████████████████████████████████████████████████████████████████████████████████████████████████████████████████| 121/121 [00:31<00:00,  3.90it/s]\n"
     ]
    },
    {
     "name": "stdout",
     "output_type": "stream",
     "text": [
      "acc :  0.9761286974571873\n"
     ]
    },
    {
     "name": "stderr",
     "output_type": "stream",
     "text": [
      "epoch 128: 100%|█████████████████████████████████████████████████████████████████████████████████████████████████████████████████████████████| 482/482 [02:09<00:00,  3.71it/s]\n",
      "val .... : 100%|█████████████████████████████████████████████████████████████████████████████████████████████████████████████████████████████| 121/121 [00:31<00:00,  3.80it/s]\n"
     ]
    },
    {
     "name": "stdout",
     "output_type": "stream",
     "text": [
      "acc :  0.9787234042553191\n"
     ]
    },
    {
     "name": "stderr",
     "output_type": "stream",
     "text": [
      "epoch 129: 100%|█████████████████████████████████████████████████████████████████████████████████████████████████████████████████████████████| 482/482 [02:09<00:00,  3.71it/s]\n",
      "val .... : 100%|█████████████████████████████████████████████████████████████████████████████████████████████████████████████████████████████| 121/121 [00:31<00:00,  3.78it/s]\n"
     ]
    },
    {
     "name": "stdout",
     "output_type": "stream",
     "text": [
      "acc :  0.9782044628956927\n"
     ]
    },
    {
     "name": "stderr",
     "output_type": "stream",
     "text": [
      "epoch 130: 100%|█████████████████████████████████████████████████████████████████████████████████████████████████████████████████████████████| 482/482 [02:08<00:00,  3.75it/s]\n",
      "val .... : 100%|█████████████████████████████████████████████████████████████████████████████████████████████████████████████████████████████| 121/121 [00:32<00:00,  3.76it/s]\n"
     ]
    },
    {
     "name": "stdout",
     "output_type": "stream",
     "text": [
      "acc :  0.9724961079398028\n"
     ]
    },
    {
     "name": "stderr",
     "output_type": "stream",
     "text": [
      "epoch 131: 100%|█████████████████████████████████████████████████████████████████████████████████████████████████████████████████████████████| 482/482 [02:09<00:00,  3.71it/s]\n",
      "val .... : 100%|█████████████████████████████████████████████████████████████████████████████████████████████████████████████████████████████| 121/121 [00:32<00:00,  3.72it/s]\n"
     ]
    },
    {
     "name": "stdout",
     "output_type": "stream",
     "text": [
      "acc :  0.9766476388168137\n"
     ]
    },
    {
     "name": "stderr",
     "output_type": "stream",
     "text": [
      "epoch 132: 100%|█████████████████████████████████████████████████████████████████████████████████████████████████████████████████████████████| 482/482 [02:11<00:00,  3.68it/s]\n",
      "val .... : 100%|█████████████████████████████████████████████████████████████████████████████████████████████████████████████████████████████| 121/121 [00:32<00:00,  3.75it/s]\n"
     ]
    },
    {
     "name": "stdout",
     "output_type": "stream",
     "text": [
      "acc :  0.9771665801764401\n"
     ]
    },
    {
     "name": "stderr",
     "output_type": "stream",
     "text": [
      "epoch 133: 100%|█████████████████████████████████████████████████████████████████████████████████████████████████████████████████████████████| 482/482 [02:10<00:00,  3.70it/s]\n",
      "val .... : 100%|█████████████████████████████████████████████████████████████████████████████████████████████████████████████████████████████| 121/121 [00:32<00:00,  3.70it/s]\n"
     ]
    },
    {
     "name": "stdout",
     "output_type": "stream",
     "text": [
      "acc :  0.9745718733783083\n"
     ]
    },
    {
     "name": "stderr",
     "output_type": "stream",
     "text": [
      "epoch 134: 100%|█████████████████████████████████████████████████████████████████████████████████████████████████████████████████████████████| 482/482 [02:08<00:00,  3.76it/s]\n",
      "val .... : 100%|█████████████████████████████████████████████████████████████████████████████████████████████████████████████████████████████| 121/121 [00:31<00:00,  3.86it/s]\n"
     ]
    },
    {
     "name": "stdout",
     "output_type": "stream",
     "text": [
      "acc :  0.9787234042553191\n"
     ]
    },
    {
     "name": "stderr",
     "output_type": "stream",
     "text": [
      "epoch 135: 100%|█████████████████████████████████████████████████████████████████████████████████████████████████████████████████████████████| 482/482 [02:08<00:00,  3.75it/s]\n",
      "val .... : 100%|█████████████████████████████████████████████████████████████████████████████████████████████████████████████████████████████| 121/121 [00:32<00:00,  3.77it/s]\n"
     ]
    },
    {
     "name": "stdout",
     "output_type": "stream",
     "text": [
      "acc :  0.9745718733783083\n"
     ]
    },
    {
     "name": "stderr",
     "output_type": "stream",
     "text": [
      "epoch 136: 100%|█████████████████████████████████████████████████████████████████████████████████████████████████████████████████████████████| 482/482 [02:09<00:00,  3.71it/s]\n",
      "val .... : 100%|█████████████████████████████████████████████████████████████████████████████████████████████████████████████████████████████| 121/121 [00:32<00:00,  3.73it/s]\n"
     ]
    },
    {
     "name": "stdout",
     "output_type": "stream",
     "text": [
      "acc :  0.975609756097561\n"
     ]
    },
    {
     "name": "stderr",
     "output_type": "stream",
     "text": [
      "epoch 137: 100%|█████████████████████████████████████████████████████████████████████████████████████████████████████████████████████████████| 482/482 [02:11<00:00,  3.67it/s]\n",
      "val .... : 100%|█████████████████████████████████████████████████████████████████████████████████████████████████████████████████████████████| 121/121 [00:32<00:00,  3.75it/s]\n"
     ]
    },
    {
     "name": "stdout",
     "output_type": "stream",
     "text": [
      "acc :  0.9730150492994292\n"
     ]
    },
    {
     "name": "stderr",
     "output_type": "stream",
     "text": [
      "epoch 138: 100%|█████████████████████████████████████████████████████████████████████████████████████████████████████████████████████████████| 482/482 [02:10<00:00,  3.68it/s]\n",
      "val .... : 100%|█████████████████████████████████████████████████████████████████████████████████████████████████████████████████████████████| 121/121 [00:31<00:00,  3.81it/s]\n"
     ]
    },
    {
     "name": "stdout",
     "output_type": "stream",
     "text": [
      "acc :  0.9776855215360665\n"
     ]
    },
    {
     "name": "stderr",
     "output_type": "stream",
     "text": [
      "epoch 139: 100%|█████████████████████████████████████████████████████████████████████████████████████████████████████████████████████████████| 482/482 [02:10<00:00,  3.70it/s]\n",
      "val .... : 100%|█████████████████████████████████████████████████████████████████████████████████████████████████████████████████████████████| 121/121 [00:32<00:00,  3.76it/s]\n"
     ]
    },
    {
     "name": "stdout",
     "output_type": "stream",
     "text": [
      "acc :  0.9750908147379346\n"
     ]
    },
    {
     "name": "stderr",
     "output_type": "stream",
     "text": [
      "epoch 140: 100%|█████████████████████████████████████████████████████████████████████████████████████████████████████████████████████████████| 482/482 [02:10<00:00,  3.70it/s]\n",
      "val .... : 100%|█████████████████████████████████████████████████████████████████████████████████████████████████████████████████████████████| 121/121 [00:31<00:00,  3.86it/s]\n"
     ]
    },
    {
     "name": "stdout",
     "output_type": "stream",
     "text": [
      "acc :  0.9761286974571873\n"
     ]
    },
    {
     "name": "stderr",
     "output_type": "stream",
     "text": [
      "epoch 141: 100%|█████████████████████████████████████████████████████████████████████████████████████████████████████████████████████████████| 482/482 [02:10<00:00,  3.70it/s]\n",
      "val .... : 100%|█████████████████████████████████████████████████████████████████████████████████████████████████████████████████████████████| 121/121 [00:32<00:00,  3.75it/s]\n"
     ]
    },
    {
     "name": "stdout",
     "output_type": "stream",
     "text": [
      "acc :  0.9735339906590555\n"
     ]
    },
    {
     "name": "stderr",
     "output_type": "stream",
     "text": [
      "epoch 142: 100%|█████████████████████████████████████████████████████████████████████████████████████████████████████████████████████████████| 482/482 [02:09<00:00,  3.73it/s]\n",
      "val .... : 100%|█████████████████████████████████████████████████████████████████████████████████████████████████████████████████████████████| 121/121 [00:31<00:00,  3.83it/s]\n"
     ]
    },
    {
     "name": "stdout",
     "output_type": "stream",
     "text": [
      "acc :  0.9766476388168137\n"
     ]
    },
    {
     "name": "stderr",
     "output_type": "stream",
     "text": [
      "epoch 143: 100%|█████████████████████████████████████████████████████████████████████████████████████████████████████████████████████████████| 482/482 [02:09<00:00,  3.73it/s]\n",
      "val .... : 100%|█████████████████████████████████████████████████████████████████████████████████████████████████████████████████████████████| 121/121 [00:32<00:00,  3.76it/s]\n"
     ]
    },
    {
     "name": "stdout",
     "output_type": "stream",
     "text": [
      "acc :  0.9771665801764401\n"
     ]
    },
    {
     "name": "stderr",
     "output_type": "stream",
     "text": [
      "epoch 144: 100%|█████████████████████████████████████████████████████████████████████████████████████████████████████████████████████████████| 482/482 [02:08<00:00,  3.74it/s]\n",
      "val .... : 100%|█████████████████████████████████████████████████████████████████████████████████████████████████████████████████████████████| 121/121 [00:32<00:00,  3.76it/s]\n"
     ]
    },
    {
     "name": "stdout",
     "output_type": "stream",
     "text": [
      "acc :  0.9761286974571873\n"
     ]
    },
    {
     "name": "stderr",
     "output_type": "stream",
     "text": [
      "epoch 145: 100%|█████████████████████████████████████████████████████████████████████████████████████████████████████████████████████████████| 482/482 [02:08<00:00,  3.75it/s]\n",
      "val .... : 100%|█████████████████████████████████████████████████████████████████████████████████████████████████████████████████████████████| 121/121 [00:32<00:00,  3.78it/s]\n"
     ]
    },
    {
     "name": "stdout",
     "output_type": "stream",
     "text": [
      "acc :  0.9766476388168137\n"
     ]
    },
    {
     "name": "stderr",
     "output_type": "stream",
     "text": [
      "epoch 146: 100%|█████████████████████████████████████████████████████████████████████████████████████████████████████████████████████████████| 482/482 [02:10<00:00,  3.70it/s]\n",
      "val .... : 100%|█████████████████████████████████████████████████████████████████████████████████████████████████████████████████████████████| 121/121 [00:32<00:00,  3.69it/s]\n"
     ]
    },
    {
     "name": "stdout",
     "output_type": "stream",
     "text": [
      "acc :  0.9787234042553191\n"
     ]
    },
    {
     "name": "stderr",
     "output_type": "stream",
     "text": [
      "epoch 147: 100%|█████████████████████████████████████████████████████████████████████████████████████████████████████████████████████████████| 482/482 [02:09<00:00,  3.72it/s]\n",
      "val .... : 100%|█████████████████████████████████████████████████████████████████████████████████████████████████████████████████████████████| 121/121 [00:32<00:00,  3.77it/s]\n"
     ]
    },
    {
     "name": "stdout",
     "output_type": "stream",
     "text": [
      "acc :  0.9766476388168137\n"
     ]
    },
    {
     "name": "stderr",
     "output_type": "stream",
     "text": [
      "epoch 148: 100%|█████████████████████████████████████████████████████████████████████████████████████████████████████████████████████████████| 482/482 [02:08<00:00,  3.74it/s]\n",
      "val .... : 100%|█████████████████████████████████████████████████████████████████████████████████████████████████████████████████████████████| 121/121 [00:31<00:00,  3.82it/s]\n"
     ]
    },
    {
     "name": "stdout",
     "output_type": "stream",
     "text": [
      "acc :  0.9771665801764401\n"
     ]
    },
    {
     "name": "stderr",
     "output_type": "stream",
     "text": [
      "epoch 149: 100%|█████████████████████████████████████████████████████████████████████████████████████████████████████████████████████████████| 482/482 [02:08<00:00,  3.75it/s]\n",
      "val .... : 100%|█████████████████████████████████████████████████████████████████████████████████████████████████████████████████████████████| 121/121 [00:31<00:00,  3.78it/s]\n"
     ]
    },
    {
     "name": "stdout",
     "output_type": "stream",
     "text": [
      "acc :  0.9771665801764401\n"
     ]
    },
    {
     "name": "stderr",
     "output_type": "stream",
     "text": [
      "epoch 150: 100%|█████████████████████████████████████████████████████████████████████████████████████████████████████████████████████████████| 482/482 [02:09<00:00,  3.72it/s]\n",
      "val .... : 100%|█████████████████████████████████████████████████████████████████████████████████████████████████████████████████████████████| 121/121 [00:31<00:00,  3.83it/s]\n"
     ]
    },
    {
     "name": "stdout",
     "output_type": "stream",
     "text": [
      "acc :  0.9766476388168137\n"
     ]
    },
    {
     "name": "stderr",
     "output_type": "stream",
     "text": [
      "epoch 151: 100%|█████████████████████████████████████████████████████████████████████████████████████████████████████████████████████████████| 482/482 [02:07<00:00,  3.77it/s]\n",
      "val .... : 100%|█████████████████████████████████████████████████████████████████████████████████████████████████████████████████████████████| 121/121 [00:31<00:00,  3.82it/s]\n"
     ]
    },
    {
     "name": "stdout",
     "output_type": "stream",
     "text": [
      "acc :  0.9745718733783083\n"
     ]
    },
    {
     "name": "stderr",
     "output_type": "stream",
     "text": [
      "epoch 152: 100%|█████████████████████████████████████████████████████████████████████████████████████████████████████████████████████████████| 482/482 [02:10<00:00,  3.71it/s]\n",
      "val .... : 100%|█████████████████████████████████████████████████████████████████████████████████████████████████████████████████████████████| 121/121 [00:31<00:00,  3.81it/s]\n"
     ]
    },
    {
     "name": "stdout",
     "output_type": "stream",
     "text": [
      "acc :  0.9776855215360665\n"
     ]
    },
    {
     "name": "stderr",
     "output_type": "stream",
     "text": [
      "epoch 153: 100%|█████████████████████████████████████████████████████████████████████████████████████████████████████████████████████████████| 482/482 [02:10<00:00,  3.70it/s]\n",
      "val .... : 100%|█████████████████████████████████████████████████████████████████████████████████████████████████████████████████████████████| 121/121 [00:32<00:00,  3.77it/s]\n"
     ]
    },
    {
     "name": "stdout",
     "output_type": "stream",
     "text": [
      "acc :  0.9771665801764401\n"
     ]
    },
    {
     "name": "stderr",
     "output_type": "stream",
     "text": [
      "epoch 154: 100%|█████████████████████████████████████████████████████████████████████████████████████████████████████████████████████████████| 482/482 [02:08<00:00,  3.74it/s]\n",
      "val .... : 100%|█████████████████████████████████████████████████████████████████████████████████████████████████████████████████████████████| 121/121 [00:32<00:00,  3.75it/s]\n"
     ]
    },
    {
     "name": "stdout",
     "output_type": "stream",
     "text": [
      "acc :  0.9750908147379346\n"
     ]
    },
    {
     "name": "stderr",
     "output_type": "stream",
     "text": [
      "epoch 155: 100%|█████████████████████████████████████████████████████████████████████████████████████████████████████████████████████████████| 482/482 [02:11<00:00,  3.67it/s]\n",
      "val .... : 100%|█████████████████████████████████████████████████████████████████████████████████████████████████████████████████████████████| 121/121 [00:32<00:00,  3.78it/s]\n"
     ]
    },
    {
     "name": "stdout",
     "output_type": "stream",
     "text": [
      "acc :  0.9787234042553191\n"
     ]
    },
    {
     "name": "stderr",
     "output_type": "stream",
     "text": [
      "epoch 156: 100%|█████████████████████████████████████████████████████████████████████████████████████████████████████████████████████████████| 482/482 [02:09<00:00,  3.72it/s]\n",
      "val .... : 100%|█████████████████████████████████████████████████████████████████████████████████████████████████████████████████████████████| 121/121 [00:31<00:00,  3.80it/s]\n"
     ]
    },
    {
     "name": "stdout",
     "output_type": "stream",
     "text": [
      "acc :  0.975609756097561\n"
     ]
    },
    {
     "name": "stderr",
     "output_type": "stream",
     "text": [
      "epoch 157: 100%|█████████████████████████████████████████████████████████████████████████████████████████████████████████████████████████████| 482/482 [02:09<00:00,  3.72it/s]\n",
      "val .... : 100%|█████████████████████████████████████████████████████████████████████████████████████████████████████████████████████████████| 121/121 [00:32<00:00,  3.69it/s]\n"
     ]
    },
    {
     "name": "stdout",
     "output_type": "stream",
     "text": [
      "acc :  0.9761286974571873\n"
     ]
    },
    {
     "name": "stderr",
     "output_type": "stream",
     "text": [
      "epoch 158: 100%|█████████████████████████████████████████████████████████████████████████████████████████████████████████████████████████████| 482/482 [02:08<00:00,  3.76it/s]\n",
      "val .... : 100%|█████████████████████████████████████████████████████████████████████████████████████████████████████████████████████████████| 121/121 [00:31<00:00,  3.83it/s]\n"
     ]
    },
    {
     "name": "stdout",
     "output_type": "stream",
     "text": [
      "acc :  0.9771665801764401\n"
     ]
    },
    {
     "name": "stderr",
     "output_type": "stream",
     "text": [
      "epoch 159: 100%|█████████████████████████████████████████████████████████████████████████████████████████████████████████████████████████████| 482/482 [02:08<00:00,  3.75it/s]\n",
      "val .... : 100%|█████████████████████████████████████████████████████████████████████████████████████████████████████████████████████████████| 121/121 [00:32<00:00,  3.75it/s]\n"
     ]
    },
    {
     "name": "stdout",
     "output_type": "stream",
     "text": [
      "acc :  0.9761286974571873\n"
     ]
    },
    {
     "name": "stderr",
     "output_type": "stream",
     "text": [
      "epoch 160: 100%|█████████████████████████████████████████████████████████████████████████████████████████████████████████████████████████████| 482/482 [02:08<00:00,  3.74it/s]\n",
      "val .... : 100%|█████████████████████████████████████████████████████████████████████████████████████████████████████████████████████████████| 121/121 [00:31<00:00,  3.84it/s]\n"
     ]
    },
    {
     "name": "stdout",
     "output_type": "stream",
     "text": [
      "acc :  0.9776855215360665\n"
     ]
    },
    {
     "name": "stderr",
     "output_type": "stream",
     "text": [
      "epoch 161: 100%|█████████████████████████████████████████████████████████████████████████████████████████████████████████████████████████████| 482/482 [02:08<00:00,  3.76it/s]\n",
      "val .... : 100%|█████████████████████████████████████████████████████████████████████████████████████████████████████████████████████████████| 121/121 [00:32<00:00,  3.72it/s]\n"
     ]
    },
    {
     "name": "stdout",
     "output_type": "stream",
     "text": [
      "acc :  0.9776855215360665\n"
     ]
    },
    {
     "name": "stderr",
     "output_type": "stream",
     "text": [
      "epoch 162: 100%|█████████████████████████████████████████████████████████████████████████████████████████████████████████████████████████████| 482/482 [02:09<00:00,  3.71it/s]\n",
      "val .... : 100%|█████████████████████████████████████████████████████████████████████████████████████████████████████████████████████████████| 121/121 [00:32<00:00,  3.70it/s]\n"
     ]
    },
    {
     "name": "stdout",
     "output_type": "stream",
     "text": [
      "acc :  0.9782044628956927\n"
     ]
    },
    {
     "name": "stderr",
     "output_type": "stream",
     "text": [
      "epoch 163: 100%|█████████████████████████████████████████████████████████████████████████████████████████████████████████████████████████████| 482/482 [02:09<00:00,  3.72it/s]\n",
      "val .... : 100%|█████████████████████████████████████████████████████████████████████████████████████████████████████████████████████████████| 121/121 [00:32<00:00,  3.77it/s]\n"
     ]
    },
    {
     "name": "stdout",
     "output_type": "stream",
     "text": [
      "acc :  0.975609756097561\n"
     ]
    },
    {
     "name": "stderr",
     "output_type": "stream",
     "text": [
      "epoch 164: 100%|█████████████████████████████████████████████████████████████████████████████████████████████████████████████████████████████| 482/482 [02:11<00:00,  3.67it/s]\n",
      "val .... : 100%|█████████████████████████████████████████████████████████████████████████████████████████████████████████████████████████████| 121/121 [00:31<00:00,  3.79it/s]\n"
     ]
    },
    {
     "name": "stdout",
     "output_type": "stream",
     "text": [
      "acc :  0.9792423456149455\n"
     ]
    },
    {
     "name": "stderr",
     "output_type": "stream",
     "text": [
      "epoch 165: 100%|█████████████████████████████████████████████████████████████████████████████████████████████████████████████████████████████| 482/482 [02:09<00:00,  3.72it/s]\n",
      "val .... : 100%|█████████████████████████████████████████████████████████████████████████████████████████████████████████████████████████████| 121/121 [00:32<00:00,  3.76it/s]\n"
     ]
    },
    {
     "name": "stdout",
     "output_type": "stream",
     "text": [
      "acc :  0.9776855215360665\n"
     ]
    },
    {
     "name": "stderr",
     "output_type": "stream",
     "text": [
      "epoch 166: 100%|█████████████████████████████████████████████████████████████████████████████████████████████████████████████████████████████| 482/482 [02:11<00:00,  3.67it/s]\n",
      "val .... : 100%|█████████████████████████████████████████████████████████████████████████████████████████████████████████████████████████████| 121/121 [00:32<00:00,  3.75it/s]\n"
     ]
    },
    {
     "name": "stdout",
     "output_type": "stream",
     "text": [
      "acc :  0.9704203425012974\n"
     ]
    },
    {
     "name": "stderr",
     "output_type": "stream",
     "text": [
      "epoch 167: 100%|█████████████████████████████████████████████████████████████████████████████████████████████████████████████████████████████| 482/482 [02:10<00:00,  3.71it/s]\n",
      "val .... : 100%|█████████████████████████████████████████████████████████████████████████████████████████████████████████████████████████████| 121/121 [00:31<00:00,  3.84it/s]\n"
     ]
    },
    {
     "name": "stdout",
     "output_type": "stream",
     "text": [
      "acc :  0.9771665801764401\n"
     ]
    },
    {
     "name": "stderr",
     "output_type": "stream",
     "text": [
      "epoch 168: 100%|█████████████████████████████████████████████████████████████████████████████████████████████████████████████████████████████| 482/482 [02:10<00:00,  3.69it/s]\n",
      "val .... : 100%|█████████████████████████████████████████████████████████████████████████████████████████████████████████████████████████████| 121/121 [00:32<00:00,  3.76it/s]\n"
     ]
    },
    {
     "name": "stdout",
     "output_type": "stream",
     "text": [
      "acc :  0.9745718733783083\n"
     ]
    },
    {
     "name": "stderr",
     "output_type": "stream",
     "text": [
      "epoch 169: 100%|█████████████████████████████████████████████████████████████████████████████████████████████████████████████████████████████| 482/482 [02:09<00:00,  3.71it/s]\n",
      "val .... : 100%|█████████████████████████████████████████████████████████████████████████████████████████████████████████████████████████████| 121/121 [00:32<00:00,  3.68it/s]\n"
     ]
    },
    {
     "name": "stdout",
     "output_type": "stream",
     "text": [
      "acc :  0.9787234042553191\n"
     ]
    },
    {
     "name": "stderr",
     "output_type": "stream",
     "text": [
      "epoch 170: 100%|█████████████████████████████████████████████████████████████████████████████████████████████████████████████████████████████| 482/482 [02:10<00:00,  3.69it/s]\n",
      "val .... : 100%|█████████████████████████████████████████████████████████████████████████████████████████████████████████████████████████████| 121/121 [00:32<00:00,  3.72it/s]\n"
     ]
    },
    {
     "name": "stdout",
     "output_type": "stream",
     "text": [
      "acc :  0.9750908147379346\n"
     ]
    },
    {
     "name": "stderr",
     "output_type": "stream",
     "text": [
      "epoch 171: 100%|█████████████████████████████████████████████████████████████████████████████████████████████████████████████████████████████| 482/482 [02:09<00:00,  3.73it/s]\n",
      "val .... : 100%|█████████████████████████████████████████████████████████████████████████████████████████████████████████████████████████████| 121/121 [00:32<00:00,  3.68it/s]\n"
     ]
    },
    {
     "name": "stdout",
     "output_type": "stream",
     "text": [
      "acc :  0.9761286974571873\n"
     ]
    },
    {
     "name": "stderr",
     "output_type": "stream",
     "text": [
      "epoch 172: 100%|█████████████████████████████████████████████████████████████████████████████████████████████████████████████████████████████| 482/482 [02:11<00:00,  3.65it/s]\n",
      "val .... : 100%|█████████████████████████████████████████████████████████████████████████████████████████████████████████████████████████████| 121/121 [00:32<00:00,  3.75it/s]\n"
     ]
    },
    {
     "name": "stdout",
     "output_type": "stream",
     "text": [
      "acc :  0.9761286974571873\n"
     ]
    },
    {
     "name": "stderr",
     "output_type": "stream",
     "text": [
      "epoch 173: 100%|█████████████████████████████████████████████████████████████████████████████████████████████████████████████████████████████| 482/482 [02:10<00:00,  3.68it/s]\n",
      "val .... : 100%|█████████████████████████████████████████████████████████████████████████████████████████████████████████████████████████████| 121/121 [00:31<00:00,  3.84it/s]\n"
     ]
    },
    {
     "name": "stdout",
     "output_type": "stream",
     "text": [
      "acc :  0.9782044628956927\n"
     ]
    },
    {
     "name": "stderr",
     "output_type": "stream",
     "text": [
      "epoch 174: 100%|█████████████████████████████████████████████████████████████████████████████████████████████████████████████████████████████| 482/482 [02:09<00:00,  3.71it/s]\n",
      "val .... : 100%|█████████████████████████████████████████████████████████████████████████████████████████████████████████████████████████████| 121/121 [00:32<00:00,  3.73it/s]\n"
     ]
    },
    {
     "name": "stdout",
     "output_type": "stream",
     "text": [
      "acc :  0.9776855215360665\n"
     ]
    },
    {
     "name": "stderr",
     "output_type": "stream",
     "text": [
      "epoch 175: 100%|█████████████████████████████████████████████████████████████████████████████████████████████████████████████████████████████| 482/482 [02:09<00:00,  3.73it/s]\n",
      "val .... : 100%|█████████████████████████████████████████████████████████████████████████████████████████████████████████████████████████████| 121/121 [00:31<00:00,  3.80it/s]\n"
     ]
    },
    {
     "name": "stdout",
     "output_type": "stream",
     "text": [
      "acc :  0.9719771665801764\n"
     ]
    },
    {
     "name": "stderr",
     "output_type": "stream",
     "text": [
      "epoch 176: 100%|█████████████████████████████████████████████████████████████████████████████████████████████████████████████████████████████| 482/482 [02:10<00:00,  3.70it/s]\n",
      "val .... : 100%|█████████████████████████████████████████████████████████████████████████████████████████████████████████████████████████████| 121/121 [00:32<00:00,  3.68it/s]\n"
     ]
    },
    {
     "name": "stdout",
     "output_type": "stream",
     "text": [
      "acc :  0.975609756097561\n"
     ]
    },
    {
     "name": "stderr",
     "output_type": "stream",
     "text": [
      "epoch 177: 100%|█████████████████████████████████████████████████████████████████████████████████████████████████████████████████████████████| 482/482 [02:10<00:00,  3.71it/s]\n",
      "val .... : 100%|█████████████████████████████████████████████████████████████████████████████████████████████████████████████████████████████| 121/121 [00:33<00:00,  3.61it/s]\n"
     ]
    },
    {
     "name": "stdout",
     "output_type": "stream",
     "text": [
      "acc :  0.9782044628956927\n"
     ]
    },
    {
     "name": "stderr",
     "output_type": "stream",
     "text": [
      "epoch 178: 100%|█████████████████████████████████████████████████████████████████████████████████████████████████████████████████████████████| 482/482 [02:11<00:00,  3.68it/s]\n",
      "val .... : 100%|█████████████████████████████████████████████████████████████████████████████████████████████████████████████████████████████| 121/121 [00:31<00:00,  3.83it/s]\n"
     ]
    },
    {
     "name": "stdout",
     "output_type": "stream",
     "text": [
      "acc :  0.9792423456149455\n"
     ]
    },
    {
     "name": "stderr",
     "output_type": "stream",
     "text": [
      "epoch 179: 100%|█████████████████████████████████████████████████████████████████████████████████████████████████████████████████████████████| 482/482 [02:10<00:00,  3.69it/s]\n",
      "val .... : 100%|█████████████████████████████████████████████████████████████████████████████████████████████████████████████████████████████| 121/121 [00:32<00:00,  3.76it/s]\n"
     ]
    },
    {
     "name": "stdout",
     "output_type": "stream",
     "text": [
      "acc :  0.9776855215360665\n"
     ]
    },
    {
     "name": "stderr",
     "output_type": "stream",
     "text": [
      "epoch 180: 100%|█████████████████████████████████████████████████████████████████████████████████████████████████████████████████████████████| 482/482 [02:10<00:00,  3.69it/s]\n",
      "val .... : 100%|█████████████████████████████████████████████████████████████████████████████████████████████████████████████████████████████| 121/121 [00:31<00:00,  3.78it/s]\n"
     ]
    },
    {
     "name": "stdout",
     "output_type": "stream",
     "text": [
      "acc :  0.9761286974571873\n"
     ]
    },
    {
     "name": "stderr",
     "output_type": "stream",
     "text": [
      "epoch 181: 100%|█████████████████████████████████████████████████████████████████████████████████████████████████████████████████████████████| 482/482 [02:11<00:00,  3.67it/s]\n",
      "val .... : 100%|█████████████████████████████████████████████████████████████████████████████████████████████████████████████████████████████| 121/121 [00:32<00:00,  3.73it/s]\n"
     ]
    },
    {
     "name": "stdout",
     "output_type": "stream",
     "text": [
      "acc :  0.9792423456149455\n"
     ]
    },
    {
     "name": "stderr",
     "output_type": "stream",
     "text": [
      "epoch 182: 100%|█████████████████████████████████████████████████████████████████████████████████████████████████████████████████████████████| 482/482 [02:10<00:00,  3.70it/s]\n",
      "val .... : 100%|█████████████████████████████████████████████████████████████████████████████████████████████████████████████████████████████| 121/121 [00:32<00:00,  3.67it/s]\n"
     ]
    },
    {
     "name": "stdout",
     "output_type": "stream",
     "text": [
      "acc :  0.9787234042553191\n"
     ]
    },
    {
     "name": "stderr",
     "output_type": "stream",
     "text": [
      "epoch 183: 100%|█████████████████████████████████████████████████████████████████████████████████████████████████████████████████████████████| 482/482 [02:09<00:00,  3.71it/s]\n",
      "val .... : 100%|█████████████████████████████████████████████████████████████████████████████████████████████████████████████████████████████| 121/121 [00:32<00:00,  3.72it/s]\n"
     ]
    },
    {
     "name": "stdout",
     "output_type": "stream",
     "text": [
      "acc :  0.9771665801764401\n"
     ]
    },
    {
     "name": "stderr",
     "output_type": "stream",
     "text": [
      "epoch 184: 100%|█████████████████████████████████████████████████████████████████████████████████████████████████████████████████████████████| 482/482 [02:09<00:00,  3.73it/s]\n",
      "val .... : 100%|█████████████████████████████████████████████████████████████████████████████████████████████████████████████████████████████| 121/121 [00:32<00:00,  3.75it/s]\n"
     ]
    },
    {
     "name": "stdout",
     "output_type": "stream",
     "text": [
      "acc :  0.9782044628956927\n"
     ]
    },
    {
     "name": "stderr",
     "output_type": "stream",
     "text": [
      "epoch 185: 100%|█████████████████████████████████████████████████████████████████████████████████████████████████████████████████████████████| 482/482 [02:11<00:00,  3.67it/s]\n",
      "val .... : 100%|█████████████████████████████████████████████████████████████████████████████████████████████████████████████████████████████| 121/121 [00:31<00:00,  3.80it/s]\n"
     ]
    },
    {
     "name": "stdout",
     "output_type": "stream",
     "text": [
      "acc :  0.9802802283341983\n"
     ]
    },
    {
     "name": "stderr",
     "output_type": "stream",
     "text": [
      "epoch 186: 100%|█████████████████████████████████████████████████████████████████████████████████████████████████████████████████████████████| 482/482 [02:09<00:00,  3.71it/s]\n",
      "val .... : 100%|█████████████████████████████████████████████████████████████████████████████████████████████████████████████████████████████| 121/121 [00:31<00:00,  3.79it/s]\n"
     ]
    },
    {
     "name": "stdout",
     "output_type": "stream",
     "text": [
      "acc :  0.9797612869745719\n"
     ]
    },
    {
     "name": "stderr",
     "output_type": "stream",
     "text": [
      "epoch 187: 100%|█████████████████████████████████████████████████████████████████████████████████████████████████████████████████████████████| 482/482 [02:10<00:00,  3.69it/s]\n",
      "val .... : 100%|█████████████████████████████████████████████████████████████████████████████████████████████████████████████████████████████| 121/121 [00:32<00:00,  3.76it/s]\n"
     ]
    },
    {
     "name": "stdout",
     "output_type": "stream",
     "text": [
      "acc :  0.9782044628956927\n"
     ]
    },
    {
     "name": "stderr",
     "output_type": "stream",
     "text": [
      "epoch 188: 100%|█████████████████████████████████████████████████████████████████████████████████████████████████████████████████████████████| 482/482 [02:11<00:00,  3.66it/s]\n",
      "val .... : 100%|█████████████████████████████████████████████████████████████████████████████████████████████████████████████████████████████| 121/121 [00:31<00:00,  3.78it/s]\n"
     ]
    },
    {
     "name": "stdout",
     "output_type": "stream",
     "text": [
      "acc :  0.9792423456149455\n"
     ]
    },
    {
     "name": "stderr",
     "output_type": "stream",
     "text": [
      "epoch 189: 100%|█████████████████████████████████████████████████████████████████████████████████████████████████████████████████████████████| 482/482 [02:11<00:00,  3.67it/s]\n",
      "val .... : 100%|█████████████████████████████████████████████████████████████████████████████████████████████████████████████████████████████| 121/121 [00:32<00:00,  3.70it/s]\n"
     ]
    },
    {
     "name": "stdout",
     "output_type": "stream",
     "text": [
      "acc :  0.9771665801764401\n"
     ]
    },
    {
     "name": "stderr",
     "output_type": "stream",
     "text": [
      "epoch 190: 100%|█████████████████████████████████████████████████████████████████████████████████████████████████████████████████████████████| 482/482 [02:09<00:00,  3.72it/s]\n",
      "val .... : 100%|█████████████████████████████████████████████████████████████████████████████████████████████████████████████████████████████| 121/121 [00:31<00:00,  3.80it/s]\n"
     ]
    },
    {
     "name": "stdout",
     "output_type": "stream",
     "text": [
      "acc :  0.9782044628956927\n"
     ]
    },
    {
     "name": "stderr",
     "output_type": "stream",
     "text": [
      "epoch 191: 100%|█████████████████████████████████████████████████████████████████████████████████████████████████████████████████████████████| 482/482 [02:10<00:00,  3.69it/s]\n",
      "val .... : 100%|█████████████████████████████████████████████████████████████████████████████████████████████████████████████████████████████| 121/121 [00:33<00:00,  3.58it/s]\n"
     ]
    },
    {
     "name": "stdout",
     "output_type": "stream",
     "text": [
      "acc :  0.9776855215360665\n"
     ]
    },
    {
     "name": "stderr",
     "output_type": "stream",
     "text": [
      "epoch 192: 100%|█████████████████████████████████████████████████████████████████████████████████████████████████████████████████████████████| 482/482 [02:10<00:00,  3.70it/s]\n",
      "val .... : 100%|█████████████████████████████████████████████████████████████████████████████████████████████████████████████████████████████| 121/121 [00:32<00:00,  3.77it/s]\n"
     ]
    },
    {
     "name": "stdout",
     "output_type": "stream",
     "text": [
      "acc :  0.9787234042553191\n"
     ]
    },
    {
     "name": "stderr",
     "output_type": "stream",
     "text": [
      "epoch 193: 100%|█████████████████████████████████████████████████████████████████████████████████████████████████████████████████████████████| 482/482 [02:09<00:00,  3.72it/s]\n",
      "val .... : 100%|█████████████████████████████████████████████████████████████████████████████████████████████████████████████████████████████| 121/121 [00:32<00:00,  3.76it/s]\n"
     ]
    },
    {
     "name": "stdout",
     "output_type": "stream",
     "text": [
      "acc :  0.9776855215360665\n"
     ]
    },
    {
     "name": "stderr",
     "output_type": "stream",
     "text": [
      "epoch 194: 100%|█████████████████████████████████████████████████████████████████████████████████████████████████████████████████████████████| 482/482 [02:09<00:00,  3.71it/s]\n",
      "val .... : 100%|█████████████████████████████████████████████████████████████████████████████████████████████████████████████████████████████| 121/121 [00:32<00:00,  3.76it/s]\n"
     ]
    },
    {
     "name": "stdout",
     "output_type": "stream",
     "text": [
      "acc :  0.9766476388168137\n"
     ]
    },
    {
     "name": "stderr",
     "output_type": "stream",
     "text": [
      "epoch 195: 100%|█████████████████████████████████████████████████████████████████████████████████████████████████████████████████████████████| 482/482 [02:09<00:00,  3.73it/s]\n",
      "val .... : 100%|█████████████████████████████████████████████████████████████████████████████████████████████████████████████████████████████| 121/121 [00:32<00:00,  3.78it/s]\n"
     ]
    },
    {
     "name": "stdout",
     "output_type": "stream",
     "text": [
      "acc :  0.9766476388168137\n"
     ]
    },
    {
     "name": "stderr",
     "output_type": "stream",
     "text": [
      "epoch 196: 100%|█████████████████████████████████████████████████████████████████████████████████████████████████████████████████████████████| 482/482 [02:10<00:00,  3.68it/s]\n",
      "val .... : 100%|█████████████████████████████████████████████████████████████████████████████████████████████████████████████████████████████| 121/121 [00:31<00:00,  3.82it/s]\n"
     ]
    },
    {
     "name": "stdout",
     "output_type": "stream",
     "text": [
      "acc :  0.9761286974571873\n"
     ]
    },
    {
     "name": "stderr",
     "output_type": "stream",
     "text": [
      "epoch 197: 100%|█████████████████████████████████████████████████████████████████████████████████████████████████████████████████████████████| 482/482 [02:10<00:00,  3.70it/s]\n",
      "val .... : 100%|█████████████████████████████████████████████████████████████████████████████████████████████████████████████████████████████| 121/121 [00:32<00:00,  3.76it/s]\n"
     ]
    },
    {
     "name": "stdout",
     "output_type": "stream",
     "text": [
      "acc :  0.9782044628956927\n"
     ]
    },
    {
     "name": "stderr",
     "output_type": "stream",
     "text": [
      "epoch 198: 100%|█████████████████████████████████████████████████████████████████████████████████████████████████████████████████████████████| 482/482 [02:11<00:00,  3.67it/s]\n",
      "val .... : 100%|█████████████████████████████████████████████████████████████████████████████████████████████████████████████████████████████| 121/121 [00:31<00:00,  3.82it/s]\n"
     ]
    },
    {
     "name": "stdout",
     "output_type": "stream",
     "text": [
      "acc :  0.9792423456149455\n"
     ]
    },
    {
     "name": "stderr",
     "output_type": "stream",
     "text": [
      "epoch 199: 100%|█████████████████████████████████████████████████████████████████████████████████████████████████████████████████████████████| 482/482 [02:10<00:00,  3.69it/s]\n",
      "val .... : 100%|█████████████████████████████████████████████████████████████████████████████████████████████████████████████████████████████| 121/121 [00:31<00:00,  3.81it/s]"
     ]
    },
    {
     "name": "stdout",
     "output_type": "stream",
     "text": [
      "acc :  0.9792423456149455\n"
     ]
    },
    {
     "name": "stderr",
     "output_type": "stream",
     "text": [
      "\n"
     ]
    }
   ],
   "source": [
    "epochs = 200\n",
    "class_head.to(device)\n",
    "class_head.train()\n",
    "model.to(device)\n",
    "\n",
    "criterion = nn.CrossEntropyLoss()\n",
    "optimizer_ft = optim.SGD(class_head.parameters(), lr=0.001, momentum=0.9)\n",
    "\n",
    "lf = one_cycle(1, 0.1, epochs)\n",
    "scheduler = lr_scheduler.LambdaLR(optimizer_ft, lr_lambda=lf)\n",
    "# for k, v in class_head.named_parameters():\n",
    "#     print(v.requires_grad)\n",
    "# load pretrain \n",
    "# checkpoint = torch.load('zoomin_model_exp1.pth')\n",
    "# class_head.load_state_dict(checkpoint)\n",
    "\n",
    "best_model = train_loop(model,class_head,train_dataloader,val_dataloader,criterion,optimizer_ft,scheduler,epochs)"
   ]
  },
  {
   "cell_type": "code",
   "execution_count": 107,
   "id": "d19398d2",
   "metadata": {},
   "outputs": [
    {
     "name": "stderr",
     "output_type": "stream",
     "text": [
      "val .... :   1%|█                                                                                                                              | 2/241 [00:00<00:27,  8.58it/s]"
     ]
    },
    {
     "name": "stdout",
     "output_type": "stream",
     "text": [
      "torch.Size([8, 1, 10, 10])\n",
      "tensor([[ 1.61971, -1.84860],\n",
      "        [ 2.45281, -2.68875],\n",
      "        [-1.47191,  1.62443],\n",
      "        [ 0.28240, -0.32831],\n",
      "        [ 1.07322, -1.25128],\n",
      "        [ 0.40979, -0.46806],\n",
      "        [ 0.85750, -1.05445],\n",
      "        [-2.03759,  2.12274]], device='cuda:0', grad_fn=<AddmmBackward>)\n",
      "[0 0 1 0 0 0 0 1] 7\n",
      "torch.Size([8, 1, 10, 10])\n",
      "tensor([[-0.34342,  0.14321],\n",
      "        [-0.67565,  0.61796],\n",
      "        [-0.33949,  0.26472],\n",
      "        [-4.83991,  5.26159],\n",
      "        [-2.80397,  2.90802],\n",
      "        [ 1.28354, -1.47561],\n",
      "        [ 0.03832, -0.08999],\n",
      "        [ 1.69920, -1.86193]], device='cuda:0', grad_fn=<AddmmBackward>)\n",
      "[1 1 1 1 1 0 0 0] 12\n",
      "torch.Size([8, 1, 10, 10])\n",
      "tensor([[ 1.34415, -1.51400],\n",
      "        [ 1.78466, -2.03559],\n",
      "        [-0.71248,  0.73051],\n",
      "        [ 1.52727, -1.76691],\n",
      "        [ 2.15048, -2.31535],\n",
      "        [-1.46733,  1.29128],\n",
      "        [-2.04313,  2.16505],\n",
      "        [ 0.80577, -0.92140]], device='cuda:0', grad_fn=<AddmmBackward>)\n",
      "[0 0 1 0 0 1 1 0] 19\n"
     ]
    },
    {
     "name": "stderr",
     "output_type": "stream",
     "text": [
      "val .... :   2%|██▋                                                                                                                            | 5/241 [00:00<00:34,  6.83it/s]"
     ]
    },
    {
     "name": "stdout",
     "output_type": "stream",
     "text": [
      "torch.Size([8, 1, 10, 10])\n",
      "tensor([[-1.28463,  1.28989],\n",
      "        [ 1.33211, -1.56546],\n",
      "        [ 0.45618, -0.47310],\n",
      "        [ 1.81030, -2.07255],\n",
      "        [-3.94656,  4.35268],\n",
      "        [-4.53003,  4.17150],\n",
      "        [-0.14088, -0.04730],\n",
      "        [ 0.11760, -0.33938]], device='cuda:0', grad_fn=<AddmmBackward>)\n",
      "[1 0 0 0 1 1 1 0] 26\n",
      "torch.Size([8, 1, 10, 10])\n",
      "tensor([[ 1.57793, -1.79610],\n",
      "        [-5.11788,  5.25977],\n",
      "        [-0.93992,  0.76414],\n",
      "        [-3.05511,  3.43978],\n",
      "        [-1.91762,  1.97874],\n",
      "        [ 0.53733, -0.69960],\n",
      "        [-2.41574,  2.61770],\n",
      "        [ 0.65165, -0.75949]], device='cuda:0', grad_fn=<AddmmBackward>)\n",
      "[0 1 1 1 1 0 1 0] 33\n"
     ]
    },
    {
     "name": "stderr",
     "output_type": "stream",
     "text": [
      "\r",
      "val .... :   2%|███▏                                                                                                                           | 6/241 [00:00<00:37,  6.23it/s]"
     ]
    },
    {
     "name": "stdout",
     "output_type": "stream",
     "text": [
      "torch.Size([8, 1, 10, 10])\n",
      "tensor([[-1.60059,  1.50122],\n",
      "        [ 0.69569, -0.83031],\n",
      "        [ 0.22653, -0.47762],\n",
      "        [-1.15533,  1.05215],\n",
      "        [ 0.73467, -0.96726],\n",
      "        [ 1.84320, -2.08329],\n",
      "        [ 1.22669, -1.44792],\n",
      "        [-0.15163,  0.18764]], device='cuda:0', grad_fn=<AddmmBackward>)\n",
      "[1 0 0 1 0 0 0 1] 39\n"
     ]
    },
    {
     "name": "stderr",
     "output_type": "stream",
     "text": [
      "\r",
      "val .... :   3%|███▋                                                                                                                           | 7/241 [00:01<00:44,  5.31it/s]"
     ]
    },
    {
     "name": "stdout",
     "output_type": "stream",
     "text": [
      "torch.Size([8, 1, 10, 10])\n",
      "tensor([[ 1.75374, -1.89285],\n",
      "        [-0.32660,  0.11225],\n",
      "        [ 1.61146, -1.83165],\n",
      "        [ 0.40885, -0.62365],\n",
      "        [-2.92294,  2.94413],\n",
      "        [ 0.54314, -0.79750],\n",
      "        [-1.14347,  1.09215],\n",
      "        [ 1.71069, -1.92280]], device='cuda:0', grad_fn=<AddmmBackward>)\n",
      "[0 1 0 0 1 0 1 0] 46\n"
     ]
    },
    {
     "name": "stderr",
     "output_type": "stream",
     "text": [
      "val .... :   4%|████▋                                                                                                                          | 9/241 [00:01<00:42,  5.43it/s]"
     ]
    },
    {
     "name": "stdout",
     "output_type": "stream",
     "text": [
      "torch.Size([8, 1, 10, 10])\n",
      "tensor([[-1.64512,  1.63826],\n",
      "        [-2.01770,  2.17253],\n",
      "        [-1.05842,  1.01549],\n",
      "        [-2.31822,  2.53595],\n",
      "        [-1.14461,  1.03504],\n",
      "        [ 0.05835, -0.20659],\n",
      "        [ 1.54706, -1.79500],\n",
      "        [ 0.74446, -0.88477]], device='cuda:0', grad_fn=<AddmmBackward>)\n",
      "[1 1 1 1 1 0 0 0] 53\n",
      "torch.Size([8, 1, 10, 10])\n",
      "tensor([[ 1.57660, -1.75021],\n",
      "        [ 1.96151, -2.18227],\n",
      "        [-2.53702,  2.48105],\n",
      "        [ 0.51007, -0.80400],\n",
      "        [-1.05392,  1.11719],\n",
      "        [-1.66866,  1.73529],\n",
      "        [ 1.28306, -1.54324],\n",
      "        [ 2.10054, -2.28955]], device='cuda:0', grad_fn=<AddmmBackward>)\n",
      "[0 0 1 0 1 1 0 0] 61\n"
     ]
    },
    {
     "name": "stderr",
     "output_type": "stream",
     "text": [
      "\r",
      "val .... :   4%|█████▏                                                                                                                        | 10/241 [00:01<00:43,  5.31it/s]"
     ]
    },
    {
     "name": "stdout",
     "output_type": "stream",
     "text": [
      "torch.Size([8, 1, 10, 10])\n",
      "tensor([[ 1.62674, -1.80292],\n",
      "        [ 0.63180, -0.68836],\n",
      "        [-3.41284,  3.80794],\n",
      "        [-0.89640,  0.91447],\n",
      "        [-0.05432, -0.13579],\n",
      "        [-0.67232,  0.50154],\n",
      "        [ 0.56999, -0.78546],\n",
      "        [ 1.02734, -1.22925]], device='cuda:0', grad_fn=<AddmmBackward>)\n",
      "[0 0 1 1 0 1 0 0] 67\n",
      "torch.Size([8, 1, 10, 10])\n",
      "tensor([[-1.71259,  1.86313],\n",
      "        [ 1.16404, -1.29156],\n",
      "        [ 1.60745, -1.83088],\n",
      "        [-2.01232,  2.40439],\n",
      "        [ 0.66655, -0.87892],\n",
      "        [ 0.00500, -0.13065],\n",
      "        [-1.95124,  1.96475],\n",
      "        [-1.30505,  1.42704]], device='cuda:0', grad_fn=<AddmmBackward>)\n",
      "[1 0 0 1 0 0 1 1] 75\n"
     ]
    },
    {
     "name": "stderr",
     "output_type": "stream",
     "text": [
      "\r",
      "val .... :   5%|██████▎                                                                                                                       | 12/241 [00:02<00:41,  5.56it/s]"
     ]
    },
    {
     "name": "stdout",
     "output_type": "stream",
     "text": [
      "torch.Size([8, 1, 10, 10])\n",
      "tensor([[-2.09084,  2.43756],\n",
      "        [-1.39265,  1.43892],\n",
      "        [ 0.59683, -0.84455],\n",
      "        [-0.89671,  0.92578],\n",
      "        [-0.11177, -0.03797],\n",
      "        [-1.58819,  1.84065],\n",
      "        [-1.00440,  0.88667],\n",
      "        [-3.33659,  3.59729]], device='cuda:0', grad_fn=<AddmmBackward>)\n",
      "[1 1 0 1 1 1 1 1] 82\n",
      "torch.Size([8, 1, 10, 10])\n",
      "tensor([[-1.44637,  1.40243],\n",
      "        [-1.72802,  1.52284],\n",
      "        [-0.08837,  0.02758],\n",
      "        [ 0.20730, -0.40025],\n",
      "        [-1.35798,  1.49738],\n",
      "        [ 0.35810, -0.54588],\n",
      "        [-0.49481,  0.25915],\n",
      "        [ 0.07153, -0.26099]], device='cuda:0', grad_fn=<AddmmBackward>)\n",
      "[1 1 1 0 1 0 1 0] 87\n"
     ]
    },
    {
     "name": "stderr",
     "output_type": "stream",
     "text": [
      "\r",
      "val .... :   6%|███████▎                                                                                                                      | 14/241 [00:02<00:35,  6.37it/s]"
     ]
    },
    {
     "name": "stdout",
     "output_type": "stream",
     "text": [
      "torch.Size([8, 1, 10, 10])\n",
      "tensor([[ 0.56009, -0.81203],\n",
      "        [ 1.46967, -1.69986],\n",
      "        [ 1.75488, -1.99795],\n",
      "        [-0.74733,  0.72906],\n",
      "        [ 0.38838, -0.65771],\n",
      "        [ 0.37461, -0.54466],\n",
      "        [-2.80838,  2.96920],\n",
      "        [ 1.41943, -1.57603]], device='cuda:0', grad_fn=<AddmmBackward>)\n",
      "[0 0 0 1 0 0 1 0] 95\n"
     ]
    },
    {
     "name": "stderr",
     "output_type": "stream",
     "text": [
      "val .... :   7%|████████▎                                                                                                                     | 16/241 [00:02<00:34,  6.45it/s]"
     ]
    },
    {
     "name": "stdout",
     "output_type": "stream",
     "text": [
      "torch.Size([8, 1, 10, 10])\n",
      "tensor([[-0.74902,  0.64224],\n",
      "        [ 1.06161, -1.26147],\n",
      "        [ 0.92088, -1.10369],\n",
      "        [ 1.00877, -1.22836],\n",
      "        [-0.54476,  0.17352],\n",
      "        [-2.03479,  2.11251],\n",
      "        [-1.18056,  1.05861],\n",
      "        [ 0.97476, -1.14923]], device='cuda:0', grad_fn=<AddmmBackward>)\n",
      "[1 0 0 0 1 1 1 0] 102\n",
      "torch.Size([8, 1, 10, 10])\n",
      "tensor([[ 0.89870, -0.74773],\n",
      "        [ 1.16317, -1.36333],\n",
      "        [-1.38225,  1.25468],\n",
      "        [-3.84382,  3.91617],\n",
      "        [ 0.87275, -0.86821],\n",
      "        [ 0.21397, -0.29683],\n",
      "        [ 0.70198, -0.99026],\n",
      "        [-0.83318,  0.75899]], device='cuda:0', grad_fn=<AddmmBackward>)\n",
      "[0 0 1 1 0 0 0 1] 109\n"
     ]
    },
    {
     "name": "stderr",
     "output_type": "stream",
     "text": [
      "\r",
      "val .... :   7%|████████▉                                                                                                                     | 17/241 [00:02<00:40,  5.60it/s]"
     ]
    },
    {
     "name": "stdout",
     "output_type": "stream",
     "text": [
      "torch.Size([8, 1, 10, 10])\n",
      "tensor([[-0.20651,  0.16698],\n",
      "        [-1.17609,  1.09345],\n",
      "        [ 1.82379, -2.05106],\n",
      "        [ 0.09059, -0.19425],\n",
      "        [-0.57833,  0.36597],\n",
      "        [ 0.93935, -1.01845],\n",
      "        [ 1.62882, -1.93538],\n",
      "        [ 0.44741, -0.58063]], device='cuda:0', grad_fn=<AddmmBackward>)\n",
      "[1 1 0 0 1 0 0 0] 115\n"
     ]
    },
    {
     "name": "stderr",
     "output_type": "stream",
     "text": [
      "val .... :   8%|█████████▉                                                                                                                    | 19/241 [00:03<00:39,  5.68it/s]"
     ]
    },
    {
     "name": "stdout",
     "output_type": "stream",
     "text": [
      "torch.Size([8, 1, 10, 10])\n",
      "tensor([[ 0.65427, -0.87248],\n",
      "        [ 1.87587, -1.99919],\n",
      "        [ 0.95007, -1.13106],\n",
      "        [-1.44082,  1.50249],\n",
      "        [ 1.44435, -1.61456],\n",
      "        [-3.15061,  3.65132],\n",
      "        [ 1.19282, -1.38752],\n",
      "        [-1.45695,  1.30414]], device='cuda:0', grad_fn=<AddmmBackward>)\n",
      "[0 0 0 1 0 1 0 1] 122\n",
      "torch.Size([8, 1, 10, 10])\n",
      "tensor([[ 1.09469, -1.31767],\n",
      "        [-0.51717,  0.27591],\n",
      "        [-1.74561,  1.64860],\n",
      "        [ 0.78851, -1.03755],\n",
      "        [ 0.99486, -1.24537],\n",
      "        [ 0.15091, -0.01336],\n",
      "        [ 0.36636, -0.44553],\n",
      "        [ 0.43334, -0.54060]], device='cuda:0', grad_fn=<AddmmBackward>)\n",
      "[0 1 1 0 0 0 0 0] 129\n"
     ]
    },
    {
     "name": "stderr",
     "output_type": "stream",
     "text": [
      "val .... :   9%|███████████▌                                                                                                                  | 22/241 [00:03<00:31,  6.96it/s]"
     ]
    },
    {
     "name": "stdout",
     "output_type": "stream",
     "text": [
      "torch.Size([8, 1, 10, 10])\n",
      "tensor([[ 0.49328, -0.67992],\n",
      "        [ 1.85518, -2.20042],\n",
      "        [ 0.62420, -0.77570],\n",
      "        [ 2.16507, -2.38498],\n",
      "        [ 0.64594, -0.86874],\n",
      "        [ 1.65594, -1.77737],\n",
      "        [ 0.69687, -0.92893],\n",
      "        [-2.34635,  2.57167]], device='cuda:0', grad_fn=<AddmmBackward>)\n",
      "[0 0 0 0 0 0 0 1] 136\n",
      "torch.Size([8, 1, 10, 10])\n",
      "tensor([[-2.00084,  2.08562],\n",
      "        [-1.63419,  1.64360],\n",
      "        [-2.84596,  3.10313],\n",
      "        [-2.24058,  2.22610],\n",
      "        [ 0.25473, -0.32606],\n",
      "        [ 0.82325, -1.02285],\n",
      "        [ 0.62009, -0.74796],\n",
      "        [-3.53129,  3.75698]], device='cuda:0', grad_fn=<AddmmBackward>)\n",
      "[1 1 1 1 0 0 0 1] 144\n",
      "torch.Size([8, 1, 10, 10])\n",
      "tensor([[ 0.95387, -0.99906],\n",
      "        [-2.12416,  2.38568],\n",
      "        [-1.55831,  1.41968],\n",
      "        [ 1.76204, -1.98855],\n",
      "        [ 1.49725, -1.66622],\n",
      "        [ 0.05950, -0.13481],\n",
      "        [ 0.65226, -0.76822],\n",
      "        [ 0.42482, -0.42199]], device='cuda:0', grad_fn=<AddmmBackward>)\n",
      "[0 1 1 0 0 0 0 0] 152\n"
     ]
    },
    {
     "name": "stderr",
     "output_type": "stream",
     "text": [
      "val .... :  10%|█████████████                                                                                                                 | 25/241 [00:03<00:26,  8.07it/s]"
     ]
    },
    {
     "name": "stdout",
     "output_type": "stream",
     "text": [
      "torch.Size([8, 1, 10, 10])\n",
      "tensor([[-0.51506,  0.39098],\n",
      "        [ 1.44042, -1.65078],\n",
      "        [ 0.50670, -0.63136],\n",
      "        [-1.38811,  1.59420],\n",
      "        [ 1.98663, -2.19390],\n",
      "        [ 2.11092, -2.28132],\n",
      "        [ 1.27228, -1.35030],\n",
      "        [ 0.44362, -0.60953]], device='cuda:0', grad_fn=<AddmmBackward>)\n",
      "[1 0 0 1 0 0 0 0] 158\n",
      "torch.Size([8, 1, 10, 10])\n",
      "tensor([[ 0.24649, -0.43556],\n",
      "        [ 1.55889, -1.69670],\n",
      "        [-1.20989,  1.11214],\n",
      "        [-0.31132,  0.49876],\n",
      "        [-1.24036,  1.15391],\n",
      "        [ 2.57132, -2.82184],\n",
      "        [-2.55446,  2.75101],\n",
      "        [-1.72048,  1.99464]], device='cuda:0', grad_fn=<AddmmBackward>)\n",
      "[0 0 1 1 1 0 1 1] 166\n",
      "torch.Size([8, 1, 10, 10])\n",
      "tensor([[ 0.43583, -0.56229],\n",
      "        [-1.08977,  1.06688],\n",
      "        [-1.13653,  1.07153],\n",
      "        [-1.31195,  1.33390],\n",
      "        [-3.33090,  3.70126],\n",
      "        [ 0.49811, -0.49720],\n",
      "        [-1.32532,  1.24264],\n",
      "        [-1.21215,  1.18921]], device='cuda:0', grad_fn=<AddmmBackward>)\n",
      "[0 1 1 1 1 0 1 1] 174\n"
     ]
    },
    {
     "name": "stderr",
     "output_type": "stream",
     "text": [
      "val .... :  12%|██████████████▋                                                                                                               | 28/241 [00:04<00:26,  7.92it/s]"
     ]
    },
    {
     "name": "stdout",
     "output_type": "stream",
     "text": [
      "torch.Size([8, 1, 10, 10])\n",
      "tensor([[ 1.04029, -1.07078],\n",
      "        [-3.44345,  3.95843],\n",
      "        [ 1.19287, -1.40223],\n",
      "        [-1.09627,  1.09534],\n",
      "        [-0.65170,  0.48854],\n",
      "        [ 0.28864, -0.32834],\n",
      "        [ 0.05731, -0.25799],\n",
      "        [ 0.66613, -0.91277]], device='cuda:0', grad_fn=<AddmmBackward>)\n",
      "[0 1 0 1 1 0 0 0] 178\n",
      "torch.Size([8, 1, 10, 10])\n",
      "tensor([[ 0.59309, -0.77662],\n",
      "        [-2.52916,  2.46588],\n",
      "        [ 2.01810, -2.14265],\n",
      "        [ 0.51007, -0.80400],\n",
      "        [-0.77064,  0.73721],\n",
      "        [ 0.26968, -0.49017],\n",
      "        [ 1.89511, -2.07524],\n",
      "        [-1.99433,  2.20984]], device='cuda:0', grad_fn=<AddmmBackward>)\n",
      "[0 1 0 0 1 0 0 1] 186\n",
      "torch.Size([8, 1, 10, 10])\n",
      "tensor([[-1.49958,  1.61223],\n",
      "        [ 2.05499, -2.18796],\n",
      "        [ 0.54567, -0.70545],\n",
      "        [-1.23467,  1.48575],\n",
      "        [ 1.28561, -1.43831],\n",
      "        [-1.52232,  1.62986],\n",
      "        [ 1.24138, -1.46836],\n",
      "        [-1.56731,  1.81902]], device='cuda:0', grad_fn=<AddmmBackward>)\n",
      "[1 0 0 1 0 1 0 1] 193\n"
     ]
    },
    {
     "name": "stderr",
     "output_type": "stream",
     "text": [
      "val .... :  13%|████████████████▏                                                                                                             | 31/241 [00:04<00:23,  9.13it/s]"
     ]
    },
    {
     "name": "stdout",
     "output_type": "stream",
     "text": [
      "torch.Size([8, 1, 10, 10])\n",
      "tensor([[-0.24281,  0.12219],\n",
      "        [ 1.47754, -1.68709],\n",
      "        [-2.07730,  2.30115],\n",
      "        [-2.49634,  2.59250],\n",
      "        [ 0.91546, -1.14194],\n",
      "        [ 1.63373, -1.85430],\n",
      "        [ 0.54174, -0.72267],\n",
      "        [-1.58665,  1.60905]], device='cuda:0', grad_fn=<AddmmBackward>)\n",
      "[1 0 1 1 0 0 0 1] 201\n",
      "torch.Size([8, 1, 10, 10])\n",
      "tensor([[-1.19399,  1.30203],\n",
      "        [-0.66524,  0.75046],\n",
      "        [ 1.73561, -2.04116],\n",
      "        [ 0.90962, -1.09338],\n",
      "        [-0.83871,  0.68974],\n",
      "        [ 1.72317, -1.82122],\n",
      "        [-2.81701,  3.10923],\n",
      "        [-2.29559,  1.94932]], device='cuda:0', grad_fn=<AddmmBackward>)\n",
      "[1 1 0 0 1 0 1 1] 209\n",
      "torch.Size([8, 1, 10, 10])\n",
      "tensor([[-1.02359,  1.17478],\n",
      "        [-0.17304,  0.28304],\n",
      "        [-3.06573,  3.32492],\n",
      "        [ 0.67834, -0.82185],\n",
      "        [-2.36129,  2.83762],\n",
      "        [ 0.43407, -0.59042],\n",
      "        [-1.74985,  1.86575],\n",
      "        [-1.33976,  1.07348]], device='cuda:0', grad_fn=<AddmmBackward>)\n",
      "[1 1 1 0 1 0 1 1] 216\n",
      "torch.Size([8, 1, 10, 10])\n",
      "tensor([[ 0.91750, -1.08724],\n",
      "        [-2.42234,  2.66753],\n",
      "        [ 0.77256, -0.90553],\n",
      "        [-0.29857,  0.31716],\n",
      "        [ 0.45173, -0.70063],\n",
      "        [-2.31445,  2.44760],\n",
      "        [ 1.35885, -1.62457],\n",
      "        [ 0.47328, -0.42004]], device='cuda:0', grad_fn=<AddmmBackward>)\n",
      "[0 1 0 1 0 1 0 0] 221\n"
     ]
    },
    {
     "name": "stderr",
     "output_type": "stream",
     "text": [
      "\r",
      "val .... :  14%|█████████████████▎                                                                                                            | 33/241 [00:04<00:19, 10.58it/s]"
     ]
    },
    {
     "name": "stdout",
     "output_type": "stream",
     "text": [
      "torch.Size([8, 1, 10, 10])\n",
      "tensor([[ 0.46656, -0.80176],\n",
      "        [ 1.27807, -1.38254],\n",
      "        [-1.16664,  1.13309],\n",
      "        [-2.40362,  2.58491],\n",
      "        [ 1.32064, -1.50475],\n",
      "        [ 0.10973, -0.21202],\n",
      "        [ 1.40060, -1.55559],\n",
      "        [-3.80027,  4.20723]], device='cuda:0', grad_fn=<AddmmBackward>)\n",
      "[0 0 1 1 0 0 0 1] 229\n"
     ]
    },
    {
     "name": "stderr",
     "output_type": "stream",
     "text": [
      "\r",
      "val .... :  15%|██████████████████▎                                                                                                           | 35/241 [00:05<00:25,  7.97it/s]"
     ]
    },
    {
     "name": "stdout",
     "output_type": "stream",
     "text": [
      "torch.Size([8, 1, 10, 10])\n",
      "tensor([[-0.93418,  0.85350],\n",
      "        [ 0.45635, -0.63370],\n",
      "        [ 0.05596, -0.27162],\n",
      "        [ 0.19449, -0.42284],\n",
      "        [-0.26784,  0.16910],\n",
      "        [ 1.08151, -1.08935],\n",
      "        [-2.55439,  2.39988],\n",
      "        [-3.31312,  3.56324]], device='cuda:0', grad_fn=<AddmmBackward>)\n",
      "[1 0 0 0 1 0 1 1] 235\n",
      "torch.Size([8, 1, 10, 10])\n",
      "tensor([[ 0.64143, -0.80806],\n",
      "        [ 1.07261, -1.38058],\n",
      "        [-2.23844,  2.17229],\n",
      "        [ 0.04663,  0.04377],\n",
      "        [-0.36447,  0.18010],\n",
      "        [-1.45193,  1.48781],\n",
      "        [ 2.12578, -2.26400],\n",
      "        [ 1.40058, -1.59284]], device='cuda:0', grad_fn=<AddmmBackward>)\n",
      "[0 0 1 0 1 1 0 0] 243\n",
      "torch.Size([8, 1, 10, 10])\n",
      "tensor([[-0.91657,  0.73559],\n",
      "        [ 1.36460, -1.61308],\n",
      "        [ 1.05882, -1.19238],\n",
      "        [-2.05064,  2.28308],\n",
      "        [-2.26309,  2.43803],\n",
      "        [ 1.63267, -1.74146],\n",
      "        [-1.96586,  1.95256],\n",
      "        [ 0.66661, -0.81418]], device='cuda:0', grad_fn=<AddmmBackward>)\n",
      "[1 0 0 1 1 0 1 0] 251\n"
     ]
    },
    {
     "name": "stderr",
     "output_type": "stream",
     "text": [
      "val .... :  16%|███████████████████▊                                                                                                          | 38/241 [00:05<00:26,  7.77it/s]"
     ]
    },
    {
     "name": "stdout",
     "output_type": "stream",
     "text": [
      "torch.Size([8, 1, 10, 10])\n",
      "tensor([[-2.40688,  2.61144],\n",
      "        [-1.95986,  2.13735],\n",
      "        [-1.14228,  0.95719],\n",
      "        [ 1.80292, -2.04193],\n",
      "        [ 1.24469, -1.42850],\n",
      "        [ 0.96965, -1.08730],\n",
      "        [ 1.31876, -1.49174],\n",
      "        [ 1.00111, -1.19934]], device='cuda:0', grad_fn=<AddmmBackward>)\n",
      "[1 1 1 0 0 0 0 0] 259\n",
      "torch.Size([8, 1, 10, 10])\n",
      "tensor([[ 1.30041, -1.50535],\n",
      "        [-1.99619,  2.11619],\n",
      "        [-1.07811,  1.01067],\n",
      "        [-1.30024,  1.24698],\n",
      "        [ 1.20591, -1.38194],\n",
      "        [-0.68510,  0.69641],\n",
      "        [-0.40616,  0.27633],\n",
      "        [-0.38080,  0.30697]], device='cuda:0', grad_fn=<AddmmBackward>)\n",
      "[0 1 1 1 0 1 1 1] 266\n"
     ]
    },
    {
     "name": "stderr",
     "output_type": "stream",
     "text": [
      "\r",
      "val .... :  16%|████████████████████▍                                                                                                         | 39/241 [00:05<00:28,  7.08it/s]"
     ]
    },
    {
     "name": "stdout",
     "output_type": "stream",
     "text": [
      "torch.Size([8, 1, 10, 10])\n",
      "tensor([[ 1.51789, -1.78179],\n",
      "        [ 0.63019, -0.66979],\n",
      "        [-3.49651,  3.38179],\n",
      "        [ 0.63998, -0.74583],\n",
      "        [-2.50643,  2.75756],\n",
      "        [ 0.73101, -0.90563],\n",
      "        [ 1.89004, -2.15654],\n",
      "        [ 1.99396, -2.21495]], device='cuda:0', grad_fn=<AddmmBackward>)\n",
      "[0 0 1 0 1 0 0 0] 273\n"
     ]
    },
    {
     "name": "stderr",
     "output_type": "stream",
     "text": [
      "\r",
      "val .... :  17%|████████████████████▉                                                                                                         | 40/241 [00:06<00:36,  5.45it/s]"
     ]
    },
    {
     "name": "stdout",
     "output_type": "stream",
     "text": [
      "torch.Size([8, 1, 10, 10])\n",
      "tensor([[ 0.93365, -1.08107],\n",
      "        [ 1.55462, -1.64718],\n",
      "        [-2.84799,  2.67816],\n",
      "        [-0.45399,  0.32900],\n",
      "        [-0.92241,  0.92895],\n",
      "        [ 1.08019, -1.28139],\n",
      "        [ 0.63257, -0.57626],\n",
      "        [-0.12296,  0.19691]], device='cuda:0', grad_fn=<AddmmBackward>)\n",
      "[0 0 1 1 1 0 0 1] 279\n",
      "torch.Size([8, 1, 10, 10])\n",
      "tensor([[-1.23448,  1.16680],\n",
      "        [-1.12924,  1.10690],\n",
      "        [ 0.85434, -0.97339],\n",
      "        [-3.78299,  4.17202],\n",
      "        [ 0.79693, -1.02683],\n",
      "        [-1.14440,  0.85325],\n",
      "        [-2.25518,  2.39952],\n",
      "        [-1.07557,  0.96489]], device='cuda:0', grad_fn=<AddmmBackward>)\n",
      "[1 1 0 1 0 1 1 1] 285\n"
     ]
    },
    {
     "name": "stderr",
     "output_type": "stream",
     "text": [
      "val .... :  18%|██████████████████████▍                                                                                                       | 43/241 [00:06<00:33,  5.99it/s]"
     ]
    },
    {
     "name": "stdout",
     "output_type": "stream",
     "text": [
      "torch.Size([8, 1, 10, 10])\n",
      "tensor([[ 1.36428, -1.62383],\n",
      "        [ 0.91708, -1.07810],\n",
      "        [-1.99619,  2.23348],\n",
      "        [ 0.78783, -0.85078],\n",
      "        [-0.46269,  0.12794],\n",
      "        [ 0.44632, -0.55519],\n",
      "        [-2.72003,  3.09485],\n",
      "        [-0.61321,  0.53128]], device='cuda:0', grad_fn=<AddmmBackward>)\n",
      "[0 0 1 0 1 0 1 1] 290\n",
      "torch.Size([8, 1, 10, 10])\n",
      "tensor([[-2.04519,  2.00146],\n",
      "        [-2.28284,  2.50413],\n",
      "        [ 0.46100, -0.61951],\n",
      "        [-3.79422,  4.22182],\n",
      "        [ 1.68022, -1.89166],\n",
      "        [ 1.26283, -1.35644],\n",
      "        [ 2.00407, -2.02861],\n",
      "        [ 0.09601, -0.11677]], device='cuda:0', grad_fn=<AddmmBackward>)\n",
      "[1 1 0 1 0 0 0 0] 296\n"
     ]
    },
    {
     "name": "stderr",
     "output_type": "stream",
     "text": [
      "\r",
      "val .... :  19%|███████████████████████▌                                                                                                      | 45/241 [00:06<00:25,  7.68it/s]"
     ]
    },
    {
     "name": "stdout",
     "output_type": "stream",
     "text": [
      "torch.Size([8, 1, 10, 10])\n",
      "tensor([[ 0.02439, -0.02975],\n",
      "        [-1.95332,  2.08111],\n",
      "        [ 2.25689, -2.49881],\n",
      "        [ 1.43615, -1.63788],\n",
      "        [-3.87378,  4.32339],\n",
      "        [ 0.69805, -0.97993],\n",
      "        [ 0.73746, -0.88696],\n",
      "        [-2.55787,  2.89260]], device='cuda:0', grad_fn=<AddmmBackward>)\n",
      "[0 1 0 0 1 0 0 1] 303\n",
      "torch.Size([8, 1, 10, 10])\n",
      "tensor([[ 0.83670, -0.97068],\n",
      "        [-3.03419,  3.20863],\n",
      "        [-1.42013,  1.69213],\n",
      "        [ 1.18487, -1.18446],\n",
      "        [-1.15544,  1.14001],\n",
      "        [-3.93466,  4.09244],\n",
      "        [ 0.04439, -0.13711],\n",
      "        [ 2.35438, -2.54773]], device='cuda:0', grad_fn=<AddmmBackward>)\n",
      "[0 1 1 0 1 1 0 0] 311\n",
      "torch.Size([8, 1, 10, 10])\n",
      "tensor([[-0.71289,  0.69003],\n",
      "        [-3.17480,  3.38352],\n",
      "        [ 1.32021, -1.55821],\n",
      "        [ 0.16928, -0.35706],\n",
      "        [ 1.44062, -1.51986],\n",
      "        [-1.58002,  1.60477],\n",
      "        [-3.38953,  3.70064],\n",
      "        [ 0.61485, -0.87885]], device='cuda:0', grad_fn=<AddmmBackward>)\n",
      "[1 1 0 0 0 1 1 0] 317\n"
     ]
    },
    {
     "name": "stderr",
     "output_type": "stream",
     "text": [
      "val .... :  20%|█████████████████████████                                                                                                     | 48/241 [00:07<00:27,  7.10it/s]"
     ]
    },
    {
     "name": "stdout",
     "output_type": "stream",
     "text": [
      "torch.Size([8, 1, 10, 10])\n",
      "tensor([[ 1.09501, -1.27582],\n",
      "        [-0.89201,  0.75869],\n",
      "        [-1.12432,  0.95817],\n",
      "        [-0.51177,  0.50509],\n",
      "        [ 0.59827, -0.63328],\n",
      "        [ 0.91147, -1.09640],\n",
      "        [ 0.06458, -0.07235],\n",
      "        [ 1.00794, -1.26657]], device='cuda:0', grad_fn=<AddmmBackward>)\n",
      "[0 1 1 1 0 0 0 0] 324\n",
      "torch.Size([8, 1, 10, 10])\n",
      "tensor([[-0.02893, -0.18099],\n",
      "        [-1.42898,  1.38338],\n",
      "        [ 0.00334, -0.14334],\n",
      "        [ 1.72671, -2.03075],\n",
      "        [ 0.87807, -1.02315],\n",
      "        [-0.57723,  0.58484],\n",
      "        [-1.24781,  1.35211],\n",
      "        [ 0.82024, -0.95020]], device='cuda:0', grad_fn=<AddmmBackward>)\n",
      "[0 1 0 0 0 1 1 0] 332\n",
      "torch.Size([8, 1, 10, 10])\n",
      "tensor([[-1.23621,  1.17884],\n",
      "        [-2.76560,  3.02260],\n",
      "        [-2.09264,  2.22253],\n",
      "        [ 0.52294, -0.67994],\n",
      "        [-3.64906,  4.22642],\n",
      "        [-0.67031,  0.77230],\n",
      "        [-1.53682,  1.51477],\n",
      "        [ 1.03494, -1.26496]], device='cuda:0', grad_fn=<AddmmBackward>)\n",
      "[1 1 1 0 1 1 1 0] 340\n"
     ]
    },
    {
     "name": "stderr",
     "output_type": "stream",
     "text": [
      "val .... :  21%|██████████████████████████▋                                                                                                   | 51/241 [00:07<00:21,  8.64it/s]"
     ]
    },
    {
     "name": "stdout",
     "output_type": "stream",
     "text": [
      "torch.Size([8, 1, 10, 10])\n",
      "tensor([[-0.45910,  0.36930],\n",
      "        [-1.74016,  2.08666],\n",
      "        [ 1.47544, -1.63625],\n",
      "        [ 0.42959, -0.60892],\n",
      "        [-1.65433,  1.75187],\n",
      "        [ 0.51423, -0.72902],\n",
      "        [ 0.95414, -1.19255],\n",
      "        [-1.51531,  1.70921]], device='cuda:0', grad_fn=<AddmmBackward>)\n",
      "[1 1 0 0 1 0 0 1] 348\n",
      "torch.Size([8, 1, 10, 10])\n",
      "tensor([[ 0.74471, -0.94918],\n",
      "        [ 0.96081, -1.16055],\n",
      "        [ 0.96250, -0.98904],\n",
      "        [ 0.93008, -1.18804],\n",
      "        [-0.39298,  0.13463],\n",
      "        [ 1.64937, -1.90112],\n",
      "        [-0.15317,  0.01583],\n",
      "        [ 0.72974, -0.92745]], device='cuda:0', grad_fn=<AddmmBackward>)\n",
      "[0 0 0 0 1 0 1 0] 356\n"
     ]
    },
    {
     "name": "stderr",
     "output_type": "stream",
     "text": [
      "\r",
      "val .... :  22%|███████████████████████████▏                                                                                                  | 52/241 [00:07<00:21,  8.83it/s]"
     ]
    },
    {
     "name": "stdout",
     "output_type": "stream",
     "text": [
      "torch.Size([8, 1, 10, 10])\n",
      "tensor([[ 2.70361, -2.96302],\n",
      "        [-2.51259,  2.61959],\n",
      "        [-2.89519,  3.06003],\n",
      "        [-0.80770,  0.66966],\n",
      "        [ 0.78539, -1.02502],\n",
      "        [-2.07483,  1.91703],\n",
      "        [-0.42498,  0.28644],\n",
      "        [-0.09643, -0.09803]], device='cuda:0', grad_fn=<AddmmBackward>)\n",
      "[0 1 1 1 0 1 1 0] 362\n"
     ]
    },
    {
     "name": "stderr",
     "output_type": "stream",
     "text": [
      "val .... :  22%|████████████████████████████▏                                                                                                 | 54/241 [00:08<00:30,  6.10it/s]"
     ]
    },
    {
     "name": "stdout",
     "output_type": "stream",
     "text": [
      "torch.Size([8, 1, 10, 10])\n",
      "tensor([[ 1.60730, -1.80305],\n",
      "        [ 1.74357, -1.93652],\n",
      "        [ 2.09028, -2.35901],\n",
      "        [ 0.03027, -0.17758],\n",
      "        [-3.21217,  3.34743],\n",
      "        [ 1.52617, -1.78383],\n",
      "        [ 0.43900, -0.61644],\n",
      "        [ 0.80435, -1.05619]], device='cuda:0', grad_fn=<AddmmBackward>)\n",
      "[0 0 0 0 1 0 0 0] 369\n",
      "torch.Size([8, 1, 10, 10])\n",
      "tensor([[ 1.49228, -1.63459],\n",
      "        [ 1.22432, -1.35295],\n",
      "        [-0.96274,  1.02504],\n",
      "        [ 0.85957, -1.03639],\n",
      "        [ 1.84782, -2.04047],\n",
      "        [ 1.32317, -1.56664],\n",
      "        [-0.52849,  0.56226],\n",
      "        [-0.23459,  0.05837]], device='cuda:0', grad_fn=<AddmmBackward>)\n",
      "[0 0 1 0 0 0 1 1] 374\n"
     ]
    },
    {
     "name": "stderr",
     "output_type": "stream",
     "text": [
      "\r",
      "val .... :  23%|████████████████████████████▊                                                                                                 | 55/241 [00:08<00:28,  6.59it/s]"
     ]
    },
    {
     "name": "stdout",
     "output_type": "stream",
     "text": [
      "torch.Size([8, 1, 10, 10])\n",
      "tensor([[ 1.40263, -1.60620],\n",
      "        [-0.77509,  0.92286],\n",
      "        [ 0.92680, -0.98573],\n",
      "        [-0.29218,  0.22924],\n",
      "        [ 1.12031, -1.32009],\n",
      "        [-2.56791,  2.75641],\n",
      "        [-1.18577,  1.08415],\n",
      "        [-0.60054,  0.43671]], device='cuda:0', grad_fn=<AddmmBackward>)\n",
      "[0 1 0 1 0 1 1 1] 381\n"
     ]
    },
    {
     "name": "stderr",
     "output_type": "stream",
     "text": [
      "\r",
      "val .... :  23%|█████████████████████████████▎                                                                                                | 56/241 [00:08<00:30,  6.02it/s]"
     ]
    },
    {
     "name": "stdout",
     "output_type": "stream",
     "text": [
      "torch.Size([8, 1, 10, 10])\n",
      "tensor([[ 1.12623, -1.29047],\n",
      "        [ 0.69010, -0.74315],\n",
      "        [-4.00585,  4.46472],\n",
      "        [ 1.57055, -1.77879],\n",
      "        [ 1.26727, -1.55786],\n",
      "        [ 0.85119, -1.07636],\n",
      "        [ 2.17411, -2.44777],\n",
      "        [ 0.81650, -1.01018]], device='cuda:0', grad_fn=<AddmmBackward>)\n",
      "[0 0 1 0 0 0 0 0] 389\n"
     ]
    },
    {
     "name": "stderr",
     "output_type": "stream",
     "text": [
      "val .... :  24%|██████████████████████████████▎                                                                                               | 58/241 [00:08<00:29,  6.23it/s]"
     ]
    },
    {
     "name": "stdout",
     "output_type": "stream",
     "text": [
      "torch.Size([8, 1, 10, 10])\n",
      "tensor([[ 0.59193, -0.65580],\n",
      "        [ 1.82607, -1.97109],\n",
      "        [ 0.51007, -0.80400],\n",
      "        [-1.89180,  2.09611],\n",
      "        [ 1.41745, -1.57606],\n",
      "        [-1.08343,  1.18690],\n",
      "        [ 0.31300, -0.54371],\n",
      "        [-0.63748,  0.64804]], device='cuda:0', grad_fn=<AddmmBackward>)\n",
      "[0 0 0 1 0 1 0 1] 395\n",
      "torch.Size([8, 1, 10, 10])\n",
      "tensor([[-0.53120,  0.53428],\n",
      "        [ 0.66841, -0.91864],\n",
      "        [-3.74103,  4.22263],\n",
      "        [-3.69475,  3.25890],\n",
      "        [ 1.94964, -2.22123],\n",
      "        [ 0.50433, -0.72413],\n",
      "        [-1.82578,  1.92809],\n",
      "        [ 2.32133, -2.54918]], device='cuda:0', grad_fn=<AddmmBackward>)\n",
      "[1 0 1 1 0 0 1 0] 403\n"
     ]
    },
    {
     "name": "stderr",
     "output_type": "stream",
     "text": [
      "val .... :  25%|███████████████████████████████▎                                                                                              | 60/241 [00:09<00:29,  6.13it/s]"
     ]
    },
    {
     "name": "stdout",
     "output_type": "stream",
     "text": [
      "torch.Size([8, 1, 10, 10])\n",
      "tensor([[ 1.11266, -1.04102],\n",
      "        [ 1.06896, -1.28663],\n",
      "        [-2.75093,  2.84804],\n",
      "        [ 1.76373, -1.96581],\n",
      "        [-3.70977,  4.13627],\n",
      "        [ 0.49980, -0.75079],\n",
      "        [-1.33212,  1.49039],\n",
      "        [ 0.01730, -0.21026]], device='cuda:0', grad_fn=<AddmmBackward>)\n",
      "[0 0 1 0 1 0 1 0] 410\n",
      "torch.Size([8, 1, 10, 10])\n",
      "tensor([[ 0.57477, -0.71038],\n",
      "        [ 1.66047, -1.86577],\n",
      "        [ 1.17898, -1.32452],\n",
      "        [-2.09001,  2.48455],\n",
      "        [ 0.91812, -1.04741],\n",
      "        [-2.86416,  2.89104],\n",
      "        [-0.35373,  0.31186],\n",
      "        [-1.64121,  1.38492]], device='cuda:0', grad_fn=<AddmmBackward>)\n",
      "[0 0 0 1 0 1 1 1] 418\n"
     ]
    },
    {
     "name": "stderr",
     "output_type": "stream",
     "text": [
      "\r",
      "val .... :  26%|████████████████████████████████▍                                                                                             | 62/241 [00:09<00:22,  7.97it/s]"
     ]
    },
    {
     "name": "stdout",
     "output_type": "stream",
     "text": [
      "torch.Size([8, 1, 10, 10])\n",
      "tensor([[ 0.92303, -1.19253],\n",
      "        [ 0.55957, -0.65553],\n",
      "        [-0.31799,  0.20815],\n",
      "        [-0.88585,  0.52081],\n",
      "        [ 0.13811, -0.38637],\n",
      "        [ 0.60158, -0.82567],\n",
      "        [ 0.02868, -0.13103],\n",
      "        [-2.66092,  2.61608]], device='cuda:0', grad_fn=<AddmmBackward>)\n",
      "[0 0 1 1 0 0 0 1] 425\n",
      "torch.Size([8, 1, 10, 10])\n",
      "tensor([[ 2.17682, -2.45676],\n",
      "        [ 1.24807, -1.43627],\n",
      "        [ 0.41001, -0.42354],\n",
      "        [ 0.24413, -0.45563],\n",
      "        [-0.90227,  0.87977],\n",
      "        [ 0.12760, -0.22017],\n",
      "        [-0.26016,  0.18919],\n",
      "        [-2.53799,  2.91621]], device='cuda:0', grad_fn=<AddmmBackward>)\n",
      "[0 0 0 0 1 0 1 1] 431\n"
     ]
    },
    {
     "name": "stderr",
     "output_type": "stream",
     "text": [
      "val .... :  27%|█████████████████████████████████▍                                                                                            | 64/241 [00:09<00:23,  7.61it/s]"
     ]
    },
    {
     "name": "stdout",
     "output_type": "stream",
     "text": [
      "torch.Size([8, 1, 10, 10])\n",
      "tensor([[ 0.47462, -0.75755],\n",
      "        [ 1.04239, -1.20478],\n",
      "        [-0.59169,  0.42899],\n",
      "        [-3.01620,  2.90554],\n",
      "        [-0.06634, -0.09464],\n",
      "        [-4.76674,  5.08955],\n",
      "        [ 1.47949, -1.72600],\n",
      "        [-2.63337,  2.81902]], device='cuda:0', grad_fn=<AddmmBackward>)\n",
      "[0 0 1 1 0 1 0 1] 438\n",
      "torch.Size([8, 1, 10, 10])\n",
      "tensor([[-1.29421,  1.31211],\n",
      "        [ 1.71043, -1.96354],\n",
      "        [-1.86447,  1.73894],\n",
      "        [-3.68847,  3.96651],\n",
      "        [ 1.17622, -1.43103],\n",
      "        [-2.81608,  3.04584],\n",
      "        [ 0.79461, -0.94865],\n",
      "        [-1.25872,  1.38852]], device='cuda:0', grad_fn=<AddmmBackward>)\n",
      "[1 0 1 1 0 1 0 1] 446\n"
     ]
    },
    {
     "name": "stderr",
     "output_type": "stream",
     "text": [
      "val .... :  28%|███████████████████████████████████                                                                                           | 67/241 [00:09<00:21,  7.91it/s]"
     ]
    },
    {
     "name": "stdout",
     "output_type": "stream",
     "text": [
      "torch.Size([8, 1, 10, 10])\n",
      "tensor([[ 0.40448, -0.47725],\n",
      "        [ 1.40591, -1.53102],\n",
      "        [ 0.84219, -1.03578],\n",
      "        [ 2.12806, -2.39900],\n",
      "        [ 1.40037, -1.62336],\n",
      "        [ 0.12363, -0.33804],\n",
      "        [ 0.57652, -0.82769],\n",
      "        [-0.95757,  1.01446]], device='cuda:0', grad_fn=<AddmmBackward>)\n",
      "[0 0 0 0 0 0 0 1] 453\n",
      "torch.Size([8, 1, 10, 10])\n",
      "tensor([[-1.68937,  1.58568],\n",
      "        [-1.67016,  1.67723],\n",
      "        [-1.75113,  1.58897],\n",
      "        [-1.03932,  1.02682],\n",
      "        [-1.42803,  1.35102],\n",
      "        [-2.57186,  3.02238],\n",
      "        [-0.79822,  0.90040],\n",
      "        [-1.20567,  1.09980]], device='cuda:0', grad_fn=<AddmmBackward>)\n",
      "[1 1 1 1 1 1 1 1] 461\n",
      "torch.Size([8, 1, 10, 10])\n",
      "tensor([[-0.19868,  0.43996],\n",
      "        [ 1.40140, -1.54142],\n",
      "        [ 1.01394, -1.24774],\n",
      "        [ 0.76422, -0.97045],\n",
      "        [ 0.62569, -0.91554],\n",
      "        [-1.28716,  1.27599],\n",
      "        [-2.59200,  2.79361],\n",
      "        [-2.85785,  3.07687]], device='cuda:0', grad_fn=<AddmmBackward>)\n",
      "[1 0 0 0 0 1 1 1] 467\n"
     ]
    },
    {
     "name": "stderr",
     "output_type": "stream",
     "text": [
      "\r",
      "val .... :  29%|████████████████████████████████████                                                                                          | 69/241 [00:10<00:20,  8.44it/s]"
     ]
    },
    {
     "name": "stdout",
     "output_type": "stream",
     "text": [
      "torch.Size([8, 1, 10, 10])\n",
      "tensor([[-1.14152,  1.00716],\n",
      "        [ 0.14899, -0.32575],\n",
      "        [ 1.76376, -2.02266],\n",
      "        [-0.52270,  0.32658],\n",
      "        [-1.99616,  1.80174],\n",
      "        [ 0.76293, -1.00284],\n",
      "        [-7.75803,  7.11124],\n",
      "        [-1.72451,  1.76890]], device='cuda:0', grad_fn=<AddmmBackward>)\n",
      "[1 0 0 1 1 0 1 1] 474\n",
      "torch.Size([8, 1, 10, 10])\n",
      "tensor([[-0.13184,  0.09403],\n",
      "        [ 0.44629, -0.50309],\n",
      "        [ 1.67398, -1.74183],\n",
      "        [-0.51932,  0.36635],\n",
      "        [-0.71629,  0.59071],\n",
      "        [ 0.48688, -0.57691],\n",
      "        [ 0.85086, -1.06825],\n",
      "        [-0.63657,  0.35517]], device='cuda:0', grad_fn=<AddmmBackward>)\n",
      "[1 0 0 1 1 0 0 1] 482\n"
     ]
    },
    {
     "name": "stderr",
     "output_type": "stream",
     "text": [
      "val .... :  30%|█████████████████████████████████████▋                                                                                        | 72/241 [00:10<00:19,  8.71it/s]"
     ]
    },
    {
     "name": "stdout",
     "output_type": "stream",
     "text": [
      "torch.Size([8, 1, 10, 10])\n",
      "tensor([[-0.19812,  0.02055],\n",
      "        [-1.21721,  1.20366],\n",
      "        [ 0.60343, -0.92189],\n",
      "        [-0.12100, -0.02000],\n",
      "        [-1.20512,  1.26727],\n",
      "        [-1.96494,  2.19291],\n",
      "        [ 1.12807, -1.37150],\n",
      "        [ 1.27955, -1.47556]], device='cuda:0', grad_fn=<AddmmBackward>)\n",
      "[1 1 0 1 1 1 0 0] 489\n",
      "torch.Size([8, 1, 10, 10])\n",
      "tensor([[-2.14598,  2.39154],\n",
      "        [-2.58275,  2.52933],\n",
      "        [-0.81913,  0.75915],\n",
      "        [-0.20936, -0.07506],\n",
      "        [-1.69983,  1.69817],\n",
      "        [ 0.79883, -1.03177],\n",
      "        [ 1.29686, -1.43458],\n",
      "        [ 1.31171, -1.46886]], device='cuda:0', grad_fn=<AddmmBackward>)\n",
      "[1 1 1 1 1 0 0 0] 497\n",
      "torch.Size([8, 1, 10, 10])\n",
      "tensor([[-0.91985,  0.91549],\n",
      "        [-1.70475,  1.83621],\n",
      "        [-0.65348,  0.51925],\n",
      "        [ 0.75468, -0.82155],\n",
      "        [ 1.38177, -1.60081],\n",
      "        [ 1.26755, -1.50571],\n",
      "        [ 1.87091, -2.10795],\n",
      "        [-0.95289,  0.91058]], device='cuda:0', grad_fn=<AddmmBackward>)\n",
      "[1 1 1 0 0 0 0 1] 504\n"
     ]
    },
    {
     "name": "stderr",
     "output_type": "stream",
     "text": [
      "val .... :  31%|██████████████████████████████████████▋                                                                                       | 74/241 [00:10<00:19,  8.71it/s]"
     ]
    },
    {
     "name": "stdout",
     "output_type": "stream",
     "text": [
      "torch.Size([8, 1, 10, 10])\n",
      "tensor([[ 0.16862, -0.40078],\n",
      "        [ 1.01750, -1.17443],\n",
      "        [ 1.66909, -1.89485],\n",
      "        [-1.26584,  1.17419],\n",
      "        [ 0.57510, -0.78015],\n",
      "        [-3.13448,  3.29214],\n",
      "        [ 1.62671, -1.85030],\n",
      "        [ 0.64833, -0.90433]], device='cuda:0', grad_fn=<AddmmBackward>)\n",
      "[0 0 0 1 0 1 0 0] 510\n",
      "torch.Size([8, 1, 10, 10])\n",
      "tensor([[-2.64556,  2.98825],\n",
      "        [-1.21231,  1.26687],\n",
      "        [ 0.58882, -0.74536],\n",
      "        [-1.83124,  1.68511],\n",
      "        [-0.85956,  0.56721],\n",
      "        [-2.69816,  2.99428],\n",
      "        [ 2.44759, -2.69386],\n",
      "        [-1.32238,  0.87018]], device='cuda:0', grad_fn=<AddmmBackward>)\n",
      "[1 1 0 1 1 1 0 1] 518\n"
     ]
    },
    {
     "name": "stderr",
     "output_type": "stream",
     "text": [
      "val .... :  32%|███████████████████████████████████████▋                                                                                      | 76/241 [00:11<00:33,  4.90it/s]"
     ]
    },
    {
     "name": "stdout",
     "output_type": "stream",
     "text": [
      "torch.Size([8, 1, 10, 10])\n",
      "tensor([[-1.72998,  1.56897],\n",
      "        [ 1.18503, -1.29326],\n",
      "        [-2.04559,  2.37645],\n",
      "        [-2.19075,  2.18919],\n",
      "        [-0.90662,  0.87665],\n",
      "        [-1.74063,  1.88830],\n",
      "        [ 0.88433, -1.05753],\n",
      "        [-0.29530,  0.01537]], device='cuda:0', grad_fn=<AddmmBackward>)\n",
      "[1 0 1 1 1 1 0 1] 524\n",
      "torch.Size([8, 1, 10, 10])\n",
      "tensor([[-1.39350,  1.50013],\n",
      "        [-1.47308,  1.55205],\n",
      "        [-2.67760,  2.63301],\n",
      "        [-1.29358,  1.10325],\n",
      "        [ 0.37549, -0.52323],\n",
      "        [ 0.44903, -0.59302],\n",
      "        [-3.33270,  3.48058],\n",
      "        [-1.25835,  1.36173]], device='cuda:0', grad_fn=<AddmmBackward>)\n",
      "[1 1 1 1 0 0 1 1] 532\n"
     ]
    },
    {
     "name": "stderr",
     "output_type": "stream",
     "text": [
      "val .... :  32%|████████████████████████████████████████▊                                                                                     | 78/241 [00:11<00:28,  5.81it/s]"
     ]
    },
    {
     "name": "stdout",
     "output_type": "stream",
     "text": [
      "torch.Size([8, 1, 10, 10])\n",
      "tensor([[ 1.46506, -1.77356],\n",
      "        [-1.61536,  1.70793],\n",
      "        [ 2.16048, -2.41030],\n",
      "        [ 1.74915, -1.99155],\n",
      "        [-3.04126,  3.16870],\n",
      "        [-2.82379,  2.97578],\n",
      "        [-2.53626,  2.62743],\n",
      "        [ 0.27338, -0.36994]], device='cuda:0', grad_fn=<AddmmBackward>)\n",
      "[0 1 0 0 1 1 1 0] 539\n",
      "torch.Size([8, 1, 10, 10])\n",
      "tensor([[-0.51197,  0.52897],\n",
      "        [ 0.43137, -0.60920],\n",
      "        [-2.59768,  2.70685],\n",
      "        [ 1.10968, -1.27192],\n",
      "        [ 1.45772, -1.64531],\n",
      "        [ 1.21358, -1.46919],\n",
      "        [ 0.83480, -0.99281],\n",
      "        [-1.44700,  1.63515]], device='cuda:0', grad_fn=<AddmmBackward>)\n",
      "[1 0 1 0 0 0 0 1] 546\n"
     ]
    },
    {
     "name": "stderr",
     "output_type": "stream",
     "text": [
      "\r",
      "val .... :  33%|█████████████████████████████████████████▎                                                                                    | 79/241 [00:12<00:43,  3.76it/s]"
     ]
    },
    {
     "name": "stdout",
     "output_type": "stream",
     "text": [
      "torch.Size([8, 1, 10, 10])\n",
      "tensor([[ 0.88980, -1.04472],\n",
      "        [ 1.60856, -1.66208],\n",
      "        [-0.20973,  0.12483],\n",
      "        [ 0.28051, -0.50142],\n",
      "        [ 0.36288, -0.45544],\n",
      "        [ 0.44343, -0.65892],\n",
      "        [ 1.88926, -2.10009],\n",
      "        [ 0.51253, -0.75785]], device='cuda:0', grad_fn=<AddmmBackward>)\n",
      "[0 0 1 0 0 0 0 0] 554\n"
     ]
    },
    {
     "name": "stderr",
     "output_type": "stream",
     "text": [
      "\r",
      "val .... :  33%|█████████████████████████████████████████▊                                                                                    | 80/241 [00:12<00:41,  3.86it/s]"
     ]
    },
    {
     "name": "stdout",
     "output_type": "stream",
     "text": [
      "torch.Size([8, 1, 10, 10])\n",
      "tensor([[ 1.70854, -1.84014],\n",
      "        [-2.06281,  2.14690],\n",
      "        [-4.65225,  4.87113],\n",
      "        [-0.02829, -0.10453],\n",
      "        [-2.90152,  3.24321],\n",
      "        [ 0.81028, -0.94843],\n",
      "        [-1.08392,  1.06732],\n",
      "        [ 0.52031, -0.50079]], device='cuda:0', grad_fn=<AddmmBackward>)\n",
      "[0 1 1 0 1 0 1 0] 560\n"
     ]
    },
    {
     "name": "stderr",
     "output_type": "stream",
     "text": [
      "val .... :  34%|██████████████████████████████████████████▊                                                                                   | 82/241 [00:12<00:35,  4.52it/s]"
     ]
    },
    {
     "name": "stdout",
     "output_type": "stream",
     "text": [
      "torch.Size([8, 1, 10, 10])\n",
      "tensor([[-0.57752,  0.55005],\n",
      "        [ 1.31879, -1.44159],\n",
      "        [ 1.93647, -2.06144],\n",
      "        [ 1.12371, -1.38009],\n",
      "        [ 1.16284, -1.38985],\n",
      "        [ 0.72734, -0.94465],\n",
      "        [-0.03704, -0.26456],\n",
      "        [ 1.09944, -1.34807]], device='cuda:0', grad_fn=<AddmmBackward>)\n",
      "[1 0 0 0 0 0 0 0] 567\n",
      "torch.Size([8, 1, 10, 10])\n",
      "tensor([[ 0.75093, -0.78494],\n",
      "        [-2.45298,  2.60400],\n",
      "        [-0.59916,  0.90619],\n",
      "        [ 1.51019, -1.78530],\n",
      "        [ 0.26487, -0.59255],\n",
      "        [-0.83005,  0.55259],\n",
      "        [ 0.03975, -0.06425],\n",
      "        [-3.16911,  3.42373]], device='cuda:0', grad_fn=<AddmmBackward>)\n",
      "[0 1 1 0 0 1 0 1] 573\n"
     ]
    },
    {
     "name": "stderr",
     "output_type": "stream",
     "text": [
      "\r",
      "val .... :  34%|███████████████████████████████████████████▍                                                                                  | 83/241 [00:12<00:32,  4.85it/s]"
     ]
    },
    {
     "name": "stdout",
     "output_type": "stream",
     "text": [
      "torch.Size([8, 1, 10, 10])\n",
      "tensor([[-1.24008,  1.25773],\n",
      "        [-2.29767,  2.40346],\n",
      "        [-3.62546,  4.04800],\n",
      "        [ 0.89384, -1.07140],\n",
      "        [ 0.79271, -0.90162],\n",
      "        [ 1.19428, -1.45729],\n",
      "        [ 1.33839, -1.54215],\n",
      "        [ 1.47128, -1.70606]], device='cuda:0', grad_fn=<AddmmBackward>)\n",
      "[1 1 1 0 0 0 0 0] 579\n",
      "torch.Size([8, 1, 10, 10])\n",
      "tensor([[-3.83300,  3.57463],\n",
      "        [ 0.80808, -1.05645],\n",
      "        [ 0.19405, -0.35636],\n",
      "        [ 0.87633, -1.02547],\n",
      "        [ 0.68485, -0.95262],\n",
      "        [-1.64309,  1.85848],\n",
      "        [-1.47528,  1.23839],\n",
      "        [-0.42068,  0.24656]], device='cuda:0', grad_fn=<AddmmBackward>)\n",
      "[1 0 0 0 0 1 1 1] 586\n"
     ]
    },
    {
     "name": "stderr",
     "output_type": "stream",
     "text": [
      "val .... :  36%|█████████████████████████████████████████████▍                                                                                | 87/241 [00:13<00:19,  7.78it/s]"
     ]
    },
    {
     "name": "stdout",
     "output_type": "stream",
     "text": [
      "torch.Size([8, 1, 10, 10])\n",
      "tensor([[-1.97145,  2.01562],\n",
      "        [ 1.35046, -1.60160],\n",
      "        [ 1.13716, -1.28379],\n",
      "        [-0.53577,  0.38613],\n",
      "        [-3.35657,  3.54265],\n",
      "        [-1.36012,  1.35540],\n",
      "        [-0.26054,  0.19515],\n",
      "        [ 1.09363, -1.28896]], device='cuda:0', grad_fn=<AddmmBackward>)\n",
      "[1 0 0 1 1 1 1 0] 594\n",
      "torch.Size([8, 1, 10, 10])\n",
      "tensor([[-1.46184,  1.22503],\n",
      "        [-1.93858,  1.90602],\n",
      "        [ 2.02594, -2.07700],\n",
      "        [-3.85777,  4.35827],\n",
      "        [ 0.11724, -0.29981],\n",
      "        [-0.40289,  0.35200],\n",
      "        [-2.34677,  2.56049],\n",
      "        [ 1.46530, -1.60152]], device='cuda:0', grad_fn=<AddmmBackward>)\n",
      "[1 1 0 1 0 1 1 0] 601\n",
      "torch.Size([8, 1, 10, 10])\n",
      "tensor([[-1.58519,  1.76707],\n",
      "        [ 0.15632, -0.24672],\n",
      "        [ 0.79066, -0.96193],\n",
      "        [ 0.33783, -0.61710],\n",
      "        [-1.40680,  1.56893],\n",
      "        [ 1.68071, -1.92326],\n",
      "        [ 0.80350, -1.04513],\n",
      "        [-0.93385,  1.16648]], device='cuda:0', grad_fn=<AddmmBackward>)\n",
      "[1 0 0 0 1 0 0 1] 609\n",
      "torch.Size([8, 1, 10, 10])\n",
      "tensor([[ 0.93817, -1.09568],\n",
      "        [-1.64293,  1.45903],\n",
      "        [ 0.67561, -0.92412],\n",
      "        [-0.96930,  0.90781],\n",
      "        [ 0.01378, -0.08504],\n",
      "        [ 0.65121, -0.82049],\n",
      "        [-1.00975,  1.02719],\n",
      "        [-1.01274,  0.92226]], device='cuda:0', grad_fn=<AddmmBackward>)\n",
      "[0 1 0 1 0 0 1 1] 615\n"
     ]
    },
    {
     "name": "stderr",
     "output_type": "stream",
     "text": [
      "\r",
      "val .... :  37%|██████████████████████████████████████████████▌                                                                               | 89/241 [00:13<00:20,  7.56it/s]"
     ]
    },
    {
     "name": "stdout",
     "output_type": "stream",
     "text": [
      "torch.Size([8, 1, 10, 10])\n",
      "tensor([[-0.74979,  0.64773],\n",
      "        [ 0.98407, -1.27525],\n",
      "        [-0.42882,  0.41178],\n",
      "        [-1.25095,  1.21575],\n",
      "        [ 0.85010, -1.13389],\n",
      "        [-3.17585,  3.28730],\n",
      "        [ 0.56813, -0.82010],\n",
      "        [ 0.91903, -1.18360]], device='cuda:0', grad_fn=<AddmmBackward>)\n",
      "[1 0 1 1 0 1 0 0] 621\n"
     ]
    },
    {
     "name": "stderr",
     "output_type": "stream",
     "text": [
      "val .... :  38%|████████████████████████████████████████████████                                                                              | 92/241 [00:14<00:19,  7.51it/s]"
     ]
    },
    {
     "name": "stdout",
     "output_type": "stream",
     "text": [
      "torch.Size([8, 1, 10, 10])\n",
      "tensor([[-3.10857,  3.43803],\n",
      "        [ 0.99086, -1.21399],\n",
      "        [-0.12718,  0.06787],\n",
      "        [ 1.76640, -1.86749],\n",
      "        [-0.04352, -0.07534],\n",
      "        [-1.29424,  1.18614],\n",
      "        [ 0.12243, -0.22043],\n",
      "        [ 2.31045, -2.56991]], device='cuda:0', grad_fn=<AddmmBackward>)\n",
      "[1 0 1 0 0 1 0 0] 628\n",
      "torch.Size([8, 1, 10, 10])\n",
      "tensor([[ 0.18223, -0.32692],\n",
      "        [-1.82654,  1.94674],\n",
      "        [ 0.72889, -0.89189],\n",
      "        [ 2.81505, -2.94111],\n",
      "        [-2.22111,  1.97055],\n",
      "        [ 1.13042, -1.26404],\n",
      "        [ 0.35167, -0.59313],\n",
      "        [-2.52202,  2.76193]], device='cuda:0', grad_fn=<AddmmBackward>)\n",
      "[0 1 0 0 1 0 0 1] 636\n",
      "torch.Size([8, 1, 10, 10])\n",
      "tensor([[-1.30469,  1.44009],\n",
      "        [-2.25376,  2.40670],\n",
      "        [-3.00522,  3.60581],\n",
      "        [-0.41073,  0.16312],\n",
      "        [-2.59665,  2.59602],\n",
      "        [-0.57699,  0.53612],\n",
      "        [ 1.23945, -1.50491],\n",
      "        [-1.84829,  1.46611]], device='cuda:0', grad_fn=<AddmmBackward>)\n",
      "[1 1 1 1 1 1 0 1] 641\n"
     ]
    },
    {
     "name": "stderr",
     "output_type": "stream",
     "text": [
      "\r",
      "val .... :  39%|█████████████████████████████████████████████████▏                                                                            | 94/241 [00:14<00:17,  8.52it/s]"
     ]
    },
    {
     "name": "stdout",
     "output_type": "stream",
     "text": [
      "torch.Size([8, 1, 10, 10])\n",
      "tensor([[-0.43681,  0.42970],\n",
      "        [-1.34837,  1.30130],\n",
      "        [ 1.34453, -1.52676],\n",
      "        [ 1.48721, -1.62856],\n",
      "        [ 0.75700, -0.93712],\n",
      "        [ 0.69760, -0.87664],\n",
      "        [ 1.02825, -1.18329],\n",
      "        [ 1.44348, -1.50451]], device='cuda:0', grad_fn=<AddmmBackward>)\n",
      "[1 1 0 0 0 0 0 0] 647\n",
      "torch.Size([8, 1, 10, 10])\n",
      "tensor([[-0.49185,  0.38373],\n",
      "        [ 1.69784, -1.92907],\n",
      "        [-0.87471,  0.81753],\n",
      "        [-0.75653,  0.54484],\n",
      "        [ 0.15614, -0.31951],\n",
      "        [-0.28124,  0.26250],\n",
      "        [ 0.39180, -0.44534],\n",
      "        [-2.24046,  2.52513]], device='cuda:0', grad_fn=<AddmmBackward>)\n",
      "[1 0 1 1 0 1 0 1] 652\n",
      "torch.Size([8, 1, 10, 10])\n",
      "tensor([[-2.63889,  2.87709],\n",
      "        [-1.06281,  0.93733],\n",
      "        [ 1.65253, -1.94199],\n",
      "        [ 2.13875, -2.35687],\n",
      "        [-3.27651,  3.56288],\n",
      "        [-0.74312,  0.75103],\n",
      "        [-0.16296,  0.02808],\n",
      "        [ 0.51989, -0.71626]], device='cuda:0', grad_fn=<AddmmBackward>)\n",
      "[1 1 0 0 1 1 1 0] 658\n"
     ]
    },
    {
     "name": "stderr",
     "output_type": "stream",
     "text": [
      "val .... :  40%|██████████████████████████████████████████████████▋                                                                           | 97/241 [00:14<00:16,  8.68it/s]"
     ]
    },
    {
     "name": "stdout",
     "output_type": "stream",
     "text": [
      "torch.Size([8, 1, 10, 10])\n",
      "tensor([[-0.42558,  0.43243],\n",
      "        [ 1.76584, -1.92045],\n",
      "        [-0.78521,  0.68430],\n",
      "        [-0.74363,  0.71868],\n",
      "        [-2.53474,  2.74617],\n",
      "        [ 0.20101, -0.44571],\n",
      "        [-1.73592,  1.74520],\n",
      "        [-2.05981,  2.21626]], device='cuda:0', grad_fn=<AddmmBackward>)\n",
      "[1 0 1 1 1 0 1 1] 664\n",
      "torch.Size([8, 1, 10, 10])\n",
      "tensor([[ 1.40056, -1.52036],\n",
      "        [ 1.02370, -1.12648],\n",
      "        [ 0.18119, -0.41499],\n",
      "        [-3.58152,  4.08535],\n",
      "        [ 0.61813, -0.73898],\n",
      "        [ 0.86578, -1.02141],\n",
      "        [-3.99052,  4.42472],\n",
      "        [-1.43186,  1.52757]], device='cuda:0', grad_fn=<AddmmBackward>)\n",
      "[0 0 0 1 0 0 1 1] 670\n",
      "torch.Size([8, 1, 10, 10])\n",
      "tensor([[-0.56558,  0.62660],\n",
      "        [ 0.86204, -1.04119],\n",
      "        [-3.66821,  3.53726],\n",
      "        [-0.11629,  0.02010],\n",
      "        [ 0.37758, -0.41644],\n",
      "        [ 1.09501, -1.23894],\n",
      "        [ 1.23071, -1.42604],\n",
      "        [ 1.00688, -1.09147]], device='cuda:0', grad_fn=<AddmmBackward>)\n",
      "[1 0 1 1 0 0 0 0] 676\n"
     ]
    },
    {
     "name": "stderr",
     "output_type": "stream",
     "text": [
      "\r",
      "val .... :  41%|███████████████████████████████████████████████████▊                                                                          | 99/241 [00:14<00:14,  9.83it/s]"
     ]
    },
    {
     "name": "stdout",
     "output_type": "stream",
     "text": [
      "torch.Size([8, 1, 10, 10])\n",
      "tensor([[-1.61699,  1.64203],\n",
      "        [-0.29707,  0.26632],\n",
      "        [ 0.54792, -0.57237],\n",
      "        [-0.55902,  0.56374],\n",
      "        [ 1.17751, -1.44277],\n",
      "        [ 0.91355, -1.04014],\n",
      "        [ 0.41024, -0.49126],\n",
      "        [ 0.23827, -0.32052]], device='cuda:0', grad_fn=<AddmmBackward>)\n",
      "[1 1 0 1 0 0 0 0] 684\n",
      "torch.Size([8, 1, 10, 10])\n",
      "tensor([[-2.60516,  2.26734],\n",
      "        [ 1.01627, -1.24605],\n",
      "        [-1.52447,  1.63064],\n",
      "        [ 1.89268, -2.14180],\n",
      "        [-3.12510,  3.55524],\n",
      "        [-2.16917,  2.29422],\n",
      "        [-1.02637,  0.77057],\n",
      "        [ 0.89456, -1.14838]], device='cuda:0', grad_fn=<AddmmBackward>)\n",
      "[1 0 1 0 1 1 1 0] 692\n"
     ]
    },
    {
     "name": "stderr",
     "output_type": "stream",
     "text": [
      "\r",
      "val .... :  42%|████████████████████████████████████████████████████▍                                                                        | 101/241 [00:15<00:20,  6.69it/s]"
     ]
    },
    {
     "name": "stdout",
     "output_type": "stream",
     "text": [
      "torch.Size([8, 1, 10, 10])\n",
      "tensor([[-0.48625,  0.32597],\n",
      "        [-2.86652,  3.31463],\n",
      "        [-0.60919,  0.55412],\n",
      "        [-3.02817,  3.41251],\n",
      "        [-0.46035,  0.31015],\n",
      "        [-2.92382,  3.13886],\n",
      "        [-2.17531,  2.20911],\n",
      "        [-0.43327,  0.35717]], device='cuda:0', grad_fn=<AddmmBackward>)\n",
      "[1 1 1 1 1 1 1 1] 698\n",
      "torch.Size([8, 1, 10, 10])\n",
      "tensor([[ 0.79304, -0.91955],\n",
      "        [-1.02543,  1.21688],\n",
      "        [-1.35486,  1.49818],\n",
      "        [-2.86284,  3.19960],\n",
      "        [-4.10230,  4.77872],\n",
      "        [-2.85723,  3.15227],\n",
      "        [ 1.66008, -1.92994],\n",
      "        [-1.22469,  1.48868]], device='cuda:0', grad_fn=<AddmmBackward>)\n",
      "[0 1 1 1 1 1 0 1] 704\n"
     ]
    },
    {
     "name": "stderr",
     "output_type": "stream",
     "text": [
      "val .... :  44%|██████████████████████████████████████████████████████▍                                                                      | 105/241 [00:15<00:16,  8.44it/s]"
     ]
    },
    {
     "name": "stdout",
     "output_type": "stream",
     "text": [
      "torch.Size([8, 1, 10, 10])\n",
      "tensor([[-1.76569,  1.87155],\n",
      "        [-1.12223,  1.19533],\n",
      "        [ 0.73077, -0.90763],\n",
      "        [ 1.30883, -1.51381],\n",
      "        [-2.12151,  2.05384],\n",
      "        [ 0.22911, -0.45133],\n",
      "        [-3.49316,  3.25724],\n",
      "        [ 0.82208, -0.95414]], device='cuda:0', grad_fn=<AddmmBackward>)\n",
      "[1 1 0 0 1 0 1 0] 712\n",
      "torch.Size([8, 1, 10, 10])\n",
      "tensor([[ 0.05511, -0.02542],\n",
      "        [ 0.11355, -0.23744],\n",
      "        [-2.05174,  2.03077],\n",
      "        [-1.32684,  1.24447],\n",
      "        [-2.40620,  2.57334],\n",
      "        [-1.86057,  1.84954],\n",
      "        [-0.30070,  0.08120],\n",
      "        [-1.05662,  0.89232]], device='cuda:0', grad_fn=<AddmmBackward>)\n",
      "[0 0 1 1 1 1 1 1] 718\n",
      "torch.Size([8, 1, 10, 10])\n",
      "tensor([[-0.72889,  0.80834],\n",
      "        [-2.17273,  2.15801],\n",
      "        [-0.07097, -0.02345],\n",
      "        [-1.82328,  1.94337],\n",
      "        [ 0.91498, -1.09149],\n",
      "        [-1.79566,  1.98472],\n",
      "        [ 1.66702, -1.91257],\n",
      "        [-3.91560,  4.35182]], device='cuda:0', grad_fn=<AddmmBackward>)\n",
      "[1 1 1 1 0 1 0 1] 724\n",
      "torch.Size([8, 1, 10, 10])\n",
      "tensor([[ 2.39537, -2.55207],\n",
      "        [-0.34884,  0.21970],\n",
      "        [-2.21914,  2.24854],\n",
      "        [-0.43152,  0.28295],\n",
      "        [-0.38982,  0.45441],\n",
      "        [-1.25580,  1.24040],\n",
      "        [-1.70468,  1.37609],\n",
      "        [ 0.49326, -0.67683]], device='cuda:0', grad_fn=<AddmmBackward>)\n",
      "[0 1 1 1 1 1 1 0] 729\n"
     ]
    },
    {
     "name": "stderr",
     "output_type": "stream",
     "text": [
      "\r",
      "val .... :  44%|███████████████████████████████████████████████████████▍                                                                     | 107/241 [00:15<00:15,  8.88it/s]"
     ]
    },
    {
     "name": "stdout",
     "output_type": "stream",
     "text": [
      "torch.Size([8, 1, 10, 10])\n",
      "tensor([[ 1.04274, -1.28852],\n",
      "        [ 0.82080, -1.03721],\n",
      "        [ 0.83506, -1.03769],\n",
      "        [-2.08533,  2.38721],\n",
      "        [-3.35169,  3.86401],\n",
      "        [ 0.02546, -0.03527],\n",
      "        [ 0.73563, -0.85308],\n",
      "        [ 0.38729, -0.58306]], device='cuda:0', grad_fn=<AddmmBackward>)\n",
      "[0 0 0 1 1 0 0 0] 736\n",
      "torch.Size([8, 1, 10, 10])\n",
      "tensor([[-1.05436e+00,  1.02773e+00],\n",
      "        [-1.45379e+00,  1.49911e+00],\n",
      "        [ 1.38578e+00, -1.51509e+00],\n",
      "        [ 1.65748e-01, -3.02073e-01],\n",
      "        [-2.51315e+00,  2.37407e+00],\n",
      "        [ 1.47311e-03, -1.04205e-01],\n",
      "        [ 3.15794e-01, -4.26329e-01],\n",
      "        [-2.47484e+00,  2.44067e+00]], device='cuda:0', grad_fn=<AddmmBackward>)\n",
      "[1 1 0 0 1 0 0 1] 743\n"
     ]
    },
    {
     "name": "stderr",
     "output_type": "stream",
     "text": [
      "\r",
      "val .... :  45%|████████████████████████████████████████████████████████▌                                                                    | 109/241 [00:16<00:15,  8.47it/s]"
     ]
    },
    {
     "name": "stdout",
     "output_type": "stream",
     "text": [
      "torch.Size([8, 1, 10, 10])\n",
      "tensor([[-2.73151,  2.95488],\n",
      "        [-2.92768,  3.29059],\n",
      "        [-3.12691,  3.40673],\n",
      "        [-2.65404,  3.19024],\n",
      "        [ 0.34747, -0.39272],\n",
      "        [ 0.02137, -0.18445],\n",
      "        [-2.39587,  2.25039],\n",
      "        [ 1.01114, -1.22405]], device='cuda:0', grad_fn=<AddmmBackward>)\n",
      "[1 1 1 1 0 0 1 0] 750\n",
      "torch.Size([8, 1, 10, 10])\n",
      "tensor([[ 1.64662, -1.82858],\n",
      "        [-3.67777,  4.23476],\n",
      "        [-1.43425,  1.40729],\n",
      "        [ 0.62066, -0.67845],\n",
      "        [ 0.74095, -0.76507],\n",
      "        [-0.55831,  0.67229],\n",
      "        [ 1.44400, -1.62536],\n",
      "        [-1.85972,  1.52508]], device='cuda:0', grad_fn=<AddmmBackward>)\n",
      "[0 1 1 0 0 1 0 1] 757\n"
     ]
    },
    {
     "name": "stderr",
     "output_type": "stream",
     "text": [
      "\r",
      "val .... :  46%|█████████████████████████████████████████████████████████▌                                                                   | 111/241 [00:16<00:17,  7.53it/s]"
     ]
    },
    {
     "name": "stdout",
     "output_type": "stream",
     "text": [
      "torch.Size([8, 1, 10, 10])\n",
      "tensor([[-2.68730,  2.89123],\n",
      "        [ 0.05851, -0.13936],\n",
      "        [ 1.16847, -1.38656],\n",
      "        [ 0.52640, -0.69707],\n",
      "        [-2.83494,  3.08025],\n",
      "        [-1.79231,  1.93566],\n",
      "        [ 0.39014, -0.57322],\n",
      "        [ 0.23324, -0.49599]], device='cuda:0', grad_fn=<AddmmBackward>)\n",
      "[1 0 0 0 1 1 0 0] 763\n"
     ]
    },
    {
     "name": "stderr",
     "output_type": "stream",
     "text": [
      "val .... :  47%|██████████████████████████████████████████████████████████▌                                                                  | 113/241 [00:16<00:20,  6.20it/s]"
     ]
    },
    {
     "name": "stdout",
     "output_type": "stream",
     "text": [
      "torch.Size([8, 1, 10, 10])\n",
      "tensor([[-1.79292,  1.78517],\n",
      "        [-0.50892,  0.31605],\n",
      "        [ 2.19313, -2.25674],\n",
      "        [-1.65069,  1.82956],\n",
      "        [ 0.55744, -0.67470],\n",
      "        [-1.39596,  1.40427],\n",
      "        [-3.66129,  4.01248],\n",
      "        [-0.75691,  0.60602]], device='cuda:0', grad_fn=<AddmmBackward>)\n",
      "[1 1 0 1 0 1 1 1] 770\n",
      "torch.Size([8, 1, 10, 10])\n",
      "tensor([[ 1.51888, -1.76418],\n",
      "        [-2.02300,  2.06180],\n",
      "        [-2.99650,  3.13111],\n",
      "        [ 0.39240, -0.49708],\n",
      "        [ 1.86676, -2.04072],\n",
      "        [-4.43960,  4.88183],\n",
      "        [ 0.42979, -0.44857],\n",
      "        [ 1.58009, -1.85402]], device='cuda:0', grad_fn=<AddmmBackward>)\n",
      "[0 1 1 0 0 1 0 0] 778\n"
     ]
    },
    {
     "name": "stderr",
     "output_type": "stream",
     "text": [
      "val .... :  48%|████████████████████████████████████████████████████████████▏                                                                | 116/241 [00:17<00:16,  7.47it/s]"
     ]
    },
    {
     "name": "stdout",
     "output_type": "stream",
     "text": [
      "torch.Size([8, 1, 10, 10])\n",
      "tensor([[-2.89287,  3.23119],\n",
      "        [ 1.42695, -1.71077],\n",
      "        [-0.36482,  0.22882],\n",
      "        [ 0.22733, -0.22070],\n",
      "        [-1.24918,  1.26877],\n",
      "        [ 1.86876, -2.06007],\n",
      "        [ 1.79768, -1.89821],\n",
      "        [ 0.60647, -0.81741]], device='cuda:0', grad_fn=<AddmmBackward>)\n",
      "[1 0 1 0 1 0 0 0] 786\n",
      "torch.Size([8, 1, 10, 10])\n",
      "tensor([[ 1.55269, -1.75953],\n",
      "        [ 1.27859, -1.36818],\n",
      "        [-5.62056,  5.45787],\n",
      "        [-0.13931,  0.04469],\n",
      "        [ 1.42866, -1.61889],\n",
      "        [-1.68939,  1.54206],\n",
      "        [-0.50062,  0.59297],\n",
      "        [-1.17008,  1.13032]], device='cuda:0', grad_fn=<AddmmBackward>)\n",
      "[0 0 1 1 0 1 1 1] 794\n",
      "torch.Size([8, 1, 10, 10])\n",
      "tensor([[-3.22303,  3.61853],\n",
      "        [-1.07792,  1.16420],\n",
      "        [-1.67811,  1.69277],\n",
      "        [ 0.75474, -0.84153],\n",
      "        [-2.86472,  3.13633],\n",
      "        [-0.65536,  0.65789],\n",
      "        [ 1.17551, -1.37557],\n",
      "        [-1.41288,  1.46091]], device='cuda:0', grad_fn=<AddmmBackward>)\n",
      "[1 1 1 0 1 1 0 1] 802\n"
     ]
    },
    {
     "name": "stderr",
     "output_type": "stream",
     "text": [
      "\r",
      "val .... :  49%|████████████████████████████████████████████████████████████▋                                                                | 117/241 [00:17<00:16,  7.34it/s]"
     ]
    },
    {
     "name": "stdout",
     "output_type": "stream",
     "text": [
      "torch.Size([8, 1, 10, 10])\n",
      "tensor([[ 0.92599, -0.97278],\n",
      "        [-1.08514,  0.99977],\n",
      "        [ 1.25145, -1.46785],\n",
      "        [-0.64819,  0.87550],\n",
      "        [ 1.47568, -1.61172],\n",
      "        [ 1.08730, -1.25947],\n",
      "        [-3.55167,  3.70218],\n",
      "        [ 0.01362, -0.19223]], device='cuda:0', grad_fn=<AddmmBackward>)\n",
      "[0 1 0 1 0 0 1 0] 809\n",
      "torch.Size([8, 1, 10, 10])\n",
      "tensor([[-0.48597,  0.37940],\n",
      "        [ 0.88311, -0.93125],\n",
      "        [-1.24727,  0.92747],\n",
      "        [ 1.60856, -1.81778],\n",
      "        [-0.45571,  0.34234],\n",
      "        [-1.18133,  1.29185],\n",
      "        [-2.77944,  3.03500],\n",
      "        [-1.42234,  1.49661]], device='cuda:0', grad_fn=<AddmmBackward>)\n",
      "[1 0 1 0 1 1 1 1] 817\n"
     ]
    },
    {
     "name": "stderr",
     "output_type": "stream",
     "text": [
      "val .... :  50%|██████████████████████████████████████████████████████████████▏                                                              | 120/241 [00:17<00:16,  7.52it/s]"
     ]
    },
    {
     "name": "stdout",
     "output_type": "stream",
     "text": [
      "torch.Size([8, 1, 10, 10])\n",
      "tensor([[-1.38847,  1.28571],\n",
      "        [-0.66883,  0.54693],\n",
      "        [ 0.59211, -0.76493],\n",
      "        [ 0.60146, -0.67418],\n",
      "        [-0.96617,  0.78564],\n",
      "        [ 0.50745, -0.65902],\n",
      "        [ 0.76655, -0.89710],\n",
      "        [ 0.07882, -0.40297]], device='cuda:0', grad_fn=<AddmmBackward>)\n",
      "[1 1 0 0 1 0 0 0] 825\n",
      "torch.Size([8, 1, 10, 10])\n",
      "tensor([[-0.85164,  0.89484],\n",
      "        [ 1.42164, -1.59246],\n",
      "        [ 0.81686, -0.95747],\n",
      "        [ 0.19286, -0.28823],\n",
      "        [-2.65255,  2.90878],\n",
      "        [-0.70848,  0.69132],\n",
      "        [ 0.92192, -0.96377],\n",
      "        [-0.59278,  0.61505]], device='cuda:0', grad_fn=<AddmmBackward>)\n",
      "[1 0 0 0 1 1 0 1] 829\n"
     ]
    },
    {
     "name": "stderr",
     "output_type": "stream",
     "text": [
      "\r",
      "val .... :  51%|███████████████████████████████████████████████████████████████▎                                                             | 122/241 [00:17<00:13,  8.81it/s]"
     ]
    },
    {
     "name": "stdout",
     "output_type": "stream",
     "text": [
      "torch.Size([8, 1, 10, 10])\n",
      "tensor([[ 0.33221, -0.57233],\n",
      "        [-0.84380,  0.96400],\n",
      "        [-3.38706,  3.76281],\n",
      "        [ 2.02002, -2.27774],\n",
      "        [-0.26754,  0.24936],\n",
      "        [ 1.36986, -1.58664],\n",
      "        [ 0.88161, -0.84349],\n",
      "        [-1.84692,  1.74065]], device='cuda:0', grad_fn=<AddmmBackward>)\n",
      "[0 1 1 0 1 0 0 1] 836\n",
      "torch.Size([8, 1, 10, 10])\n",
      "tensor([[ 1.70273, -1.98117],\n",
      "        [-0.60491,  0.62497],\n",
      "        [-0.71849,  0.63922],\n",
      "        [ 0.75246, -0.83730],\n",
      "        [-1.33331,  1.31621],\n",
      "        [-1.00789,  0.78893],\n",
      "        [ 1.07659, -1.27697],\n",
      "        [-3.20072,  3.51765]], device='cuda:0', grad_fn=<AddmmBackward>)\n",
      "[0 1 1 0 1 1 0 1] 844\n"
     ]
    },
    {
     "name": "stderr",
     "output_type": "stream",
     "text": [
      "val .... :  52%|████████████████████████████████████████████████████████████████▊                                                            | 125/241 [00:18<00:12,  9.13it/s]"
     ]
    },
    {
     "name": "stdout",
     "output_type": "stream",
     "text": [
      "torch.Size([8, 1, 10, 10])\n",
      "tensor([[-1.05073,  1.12576],\n",
      "        [ 1.97450, -2.23207],\n",
      "        [-1.83174,  1.66915],\n",
      "        [ 0.67336, -0.75084],\n",
      "        [ 0.18036, -0.39394],\n",
      "        [-4.04961,  3.58860],\n",
      "        [ 1.75786, -1.98343],\n",
      "        [-2.11231,  1.83241]], device='cuda:0', grad_fn=<AddmmBackward>)\n",
      "[1 0 1 0 0 1 0 1] 851\n",
      "torch.Size([8, 1, 10, 10])\n",
      "tensor([[ 0.33298, -0.49307],\n",
      "        [-1.10147,  1.09102],\n",
      "        [-1.67475,  1.63041],\n",
      "        [-3.84412,  4.29601],\n",
      "        [-0.30722,  0.17727],\n",
      "        [-2.07623,  2.22195],\n",
      "        [-0.46066,  0.33174],\n",
      "        [-1.27125,  1.15238]], device='cuda:0', grad_fn=<AddmmBackward>)\n",
      "[0 1 1 1 1 1 1 1] 859\n",
      "torch.Size([8, 1, 10, 10])\n",
      "tensor([[ 1.10446, -1.28235],\n",
      "        [ 1.18911, -1.44282],\n",
      "        [ 1.09412, -1.34916],\n",
      "        [-1.41529,  1.28110],\n",
      "        [-0.89551,  0.71123],\n",
      "        [-1.53247,  1.61438],\n",
      "        [-2.14091,  2.39653],\n",
      "        [-2.77677,  3.20513]], device='cuda:0', grad_fn=<AddmmBackward>)\n",
      "[0 0 0 1 1 1 1 1] 866\n"
     ]
    },
    {
     "name": "stderr",
     "output_type": "stream",
     "text": [
      "val .... :  53%|██████████████████████████████████████████████████████████████████▍                                                          | 128/241 [00:18<00:14,  7.56it/s]"
     ]
    },
    {
     "name": "stdout",
     "output_type": "stream",
     "text": [
      "torch.Size([8, 1, 10, 10])\n",
      "tensor([[ 1.31168, -1.51230],\n",
      "        [-1.30824,  1.40192],\n",
      "        [-1.77053,  1.93191],\n",
      "        [-0.32698,  0.20708],\n",
      "        [ 0.72746, -0.86011],\n",
      "        [-0.55282,  0.50862],\n",
      "        [-0.15553, -0.15537],\n",
      "        [ 1.56240, -1.82872]], device='cuda:0', grad_fn=<AddmmBackward>)\n",
      "[0 1 1 1 0 1 1 0] 871\n",
      "torch.Size([8, 1, 10, 10])\n",
      "tensor([[ 1.33034, -1.54311],\n",
      "        [-1.45603,  1.63847],\n",
      "        [-0.63346,  0.58075],\n",
      "        [-1.49716,  1.69915],\n",
      "        [ 0.76968, -0.93973],\n",
      "        [-0.92080,  0.65297],\n",
      "        [-0.59091,  0.78257],\n",
      "        [ 1.51842, -1.60152]], device='cuda:0', grad_fn=<AddmmBackward>)\n",
      "[0 1 1 1 0 1 1 0] 879\n",
      "torch.Size([8, 1, 10, 10])\n",
      "tensor([[ 1.09431, -1.33690],\n",
      "        [ 1.06173, -1.32991],\n",
      "        [ 0.17532, -0.33467],\n",
      "        [-3.30071,  3.68396],\n",
      "        [-1.41994,  0.96085],\n",
      "        [ 1.49725, -1.58704],\n",
      "        [ 0.54812, -0.82168],\n",
      "        [-2.70185,  2.95333]], device='cuda:0', grad_fn=<AddmmBackward>)\n",
      "[0 0 0 1 1 0 0 1] 885\n"
     ]
    },
    {
     "name": "stderr",
     "output_type": "stream",
     "text": [
      "\r",
      "val .... :  54%|██████████████████████████████████████████████████████████████████▉                                                          | 129/241 [00:18<00:14,  7.64it/s]"
     ]
    },
    {
     "name": "stdout",
     "output_type": "stream",
     "text": [
      "torch.Size([8, 1, 10, 10])\n",
      "tensor([[-0.85243,  0.75576],\n",
      "        [-2.20056,  2.40131],\n",
      "        [-4.35948,  4.96787],\n",
      "        [ 0.47286, -0.46920],\n",
      "        [-0.58471,  0.48040],\n",
      "        [ 0.17041, -0.46306],\n",
      "        [-0.69416,  0.69860],\n",
      "        [-2.30346,  2.33214]], device='cuda:0', grad_fn=<AddmmBackward>)\n",
      "[1 1 1 0 1 0 1 1] 891\n"
     ]
    },
    {
     "name": "stderr",
     "output_type": "stream",
     "text": [
      "\r",
      "val .... :  54%|███████████████████████████████████████████████████████████████████▍                                                         | 130/241 [00:19<00:18,  6.08it/s]"
     ]
    },
    {
     "name": "stdout",
     "output_type": "stream",
     "text": [
      "torch.Size([8, 1, 10, 10])\n",
      "tensor([[ 0.51549, -0.77941],\n",
      "        [ 1.08895, -1.24078],\n",
      "        [-1.60346,  1.70896],\n",
      "        [-1.91023,  1.78208],\n",
      "        [-1.53368,  1.47719],\n",
      "        [ 1.70463, -1.95295],\n",
      "        [ 0.94219, -1.22139],\n",
      "        [ 1.14740, -1.26345]], device='cuda:0', grad_fn=<AddmmBackward>)\n",
      "[0 0 1 1 1 0 0 0] 898\n",
      "torch.Size([8, 1, 10, 10])\n",
      "tensor([[-1.60793,  1.77859],\n",
      "        [-0.61211,  0.52030],\n",
      "        [ 1.48900, -1.75209],\n",
      "        [ 0.61620, -0.82758],\n",
      "        [-1.15668,  1.21128],\n",
      "        [ 0.88476, -1.03514],\n",
      "        [-1.17310,  1.14440],\n",
      "        [ 0.50512, -0.77073]], device='cuda:0', grad_fn=<AddmmBackward>)\n",
      "[1 1 0 0 1 0 1 0] 904\n"
     ]
    },
    {
     "name": "stderr",
     "output_type": "stream",
     "text": [
      "\r",
      "val .... :  55%|████████████████████████████████████████████████████████████████████▍                                                        | 132/241 [00:19<00:17,  6.33it/s]"
     ]
    },
    {
     "name": "stdout",
     "output_type": "stream",
     "text": [
      "torch.Size([8, 1, 10, 10])\n",
      "tensor([[ 0.09846, -0.09661],\n",
      "        [ 1.17086, -1.35568],\n",
      "        [ 1.63561, -1.91611],\n",
      "        [ 0.64267, -0.93342],\n",
      "        [ 0.01959, -0.11845],\n",
      "        [ 1.33342, -1.53217],\n",
      "        [ 2.34646, -2.64177],\n",
      "        [-1.64207,  1.43947]], device='cuda:0', grad_fn=<AddmmBackward>)\n",
      "[0 0 0 0 0 0 0 1] 911\n"
     ]
    },
    {
     "name": "stderr",
     "output_type": "stream",
     "text": [
      "val .... :  56%|█████████████████████████████████████████████████████████████████████▌                                                       | 134/241 [00:19<00:17,  5.96it/s]"
     ]
    },
    {
     "name": "stdout",
     "output_type": "stream",
     "text": [
      "torch.Size([8, 1, 10, 10])\n",
      "tensor([[-1.03171,  1.08958],\n",
      "        [ 1.38824, -1.51035],\n",
      "        [ 1.38475, -1.50569],\n",
      "        [ 0.01909, -0.12001],\n",
      "        [-1.67822,  1.88061],\n",
      "        [ 0.13521, -0.37949],\n",
      "        [ 1.05608, -1.26213],\n",
      "        [ 1.74229, -1.94384]], device='cuda:0', grad_fn=<AddmmBackward>)\n",
      "[1 0 0 0 1 0 0 0] 917\n",
      "torch.Size([8, 1, 10, 10])\n",
      "tensor([[ 0.62684, -0.69240],\n",
      "        [ 1.20514, -1.29859],\n",
      "        [-0.85082,  0.88201],\n",
      "        [ 0.80365, -1.03203],\n",
      "        [-1.75838,  1.76585],\n",
      "        [ 0.06728, -0.14334],\n",
      "        [-0.26579,  0.23224],\n",
      "        [ 1.20812, -1.43721]], device='cuda:0', grad_fn=<AddmmBackward>)\n",
      "[0 0 1 0 1 0 1 0] 924\n"
     ]
    },
    {
     "name": "stderr",
     "output_type": "stream",
     "text": [
      "\r",
      "val .... :  56%|██████████████████████████████████████████████████████████████████████▌                                                      | 136/241 [00:19<00:13,  7.85it/s]"
     ]
    },
    {
     "name": "stdout",
     "output_type": "stream",
     "text": [
      "torch.Size([8, 1, 10, 10])\n",
      "tensor([[-1.85622,  1.77437],\n",
      "        [ 0.19880, -0.26359],\n",
      "        [-2.83000,  3.13204],\n",
      "        [-1.89357,  2.08979],\n",
      "        [-1.28181,  1.40373],\n",
      "        [ 1.77026, -1.97471],\n",
      "        [ 1.32115, -1.40047],\n",
      "        [ 1.12687, -1.33489]], device='cuda:0', grad_fn=<AddmmBackward>)\n",
      "[1 0 1 1 1 0 0 0] 931\n",
      "torch.Size([8, 1, 10, 10])\n",
      "tensor([[-1.78924e+00,  1.97054e+00],\n",
      "        [-3.08338e+00,  3.49072e+00],\n",
      "        [ 9.79505e-01, -1.18564e+00],\n",
      "        [ 1.78543e+00, -1.91262e+00],\n",
      "        [ 3.17173e-03, -1.21168e-01],\n",
      "        [ 6.57261e-02, -2.18264e-01],\n",
      "        [-1.80529e+00,  1.69803e+00],\n",
      "        [ 4.64303e-01, -7.26436e-01]], device='cuda:0', grad_fn=<AddmmBackward>)\n",
      "[1 1 0 0 0 0 1 0] 937\n",
      "torch.Size([8, 1, 10, 10])\n",
      "tensor([[ 0.30320, -0.49494],\n",
      "        [ 0.89358, -1.10570],\n",
      "        [-1.79999,  1.90880],\n",
      "        [-0.74392,  0.68825],\n",
      "        [-2.78070,  2.92428],\n",
      "        [-0.08329,  0.13921],\n",
      "        [-0.75179,  0.80403],\n",
      "        [-1.20123,  1.36129]], device='cuda:0', grad_fn=<AddmmBackward>)\n",
      "[0 0 1 1 1 1 1 1] 943\n"
     ]
    },
    {
     "name": "stderr",
     "output_type": "stream",
     "text": [
      "\r",
      "val .... :  57%|███████████████████████████████████████████████████████████████████████▌                                                     | 138/241 [00:20<00:10,  9.49it/s]"
     ]
    },
    {
     "name": "stdout",
     "output_type": "stream",
     "text": [
      "torch.Size([8, 1, 10, 10])\n",
      "tensor([[ 0.65075, -0.86213],\n",
      "        [ 2.43029, -2.71029],\n",
      "        [ 0.69760, -0.87664],\n",
      "        [ 1.25636, -1.51765],\n",
      "        [-1.22872,  1.20240],\n",
      "        [-2.77815,  3.02297],\n",
      "        [-1.70039,  1.85462],\n",
      "        [ 0.83015, -0.97550]], device='cuda:0', grad_fn=<AddmmBackward>)\n",
      "[0 0 0 0 1 1 1 0] 951\n",
      "torch.Size([8, 1, 10, 10])\n",
      "tensor([[ 0.04757, -0.18500],\n",
      "        [ 0.78424, -1.01062],\n",
      "        [-1.77737,  1.85881],\n",
      "        [ 1.67553, -1.81781],\n",
      "        [-2.03643,  2.17346],\n",
      "        [ 2.07536, -2.32191],\n",
      "        [ 0.34621, -0.52391],\n",
      "        [-0.89105,  0.61165]], device='cuda:0', grad_fn=<AddmmBackward>)\n",
      "[0 0 1 0 1 0 0 1] 959\n"
     ]
    },
    {
     "name": "stderr",
     "output_type": "stream",
     "text": [
      "val .... :  59%|█████████████████████████████████████████████████████████████████████████▏                                                   | 141/241 [00:20<00:12,  7.70it/s]"
     ]
    },
    {
     "name": "stdout",
     "output_type": "stream",
     "text": [
      "torch.Size([8, 1, 10, 10])\n",
      "tensor([[ 0.50343, -0.67992],\n",
      "        [-1.98441,  2.15732],\n",
      "        [ 1.63645, -1.93538],\n",
      "        [ 0.28414, -0.40025],\n",
      "        [ 1.50385, -1.73353],\n",
      "        [ 0.23902, -0.27309],\n",
      "        [-0.53617,  0.74645],\n",
      "        [ 0.17949, -0.19913]], device='cuda:0', grad_fn=<AddmmBackward>)\n",
      "[0 1 0 0 0 0 1 0] 967\n",
      "torch.Size([8, 1, 10, 10])\n",
      "tensor([[ 2.18795, -2.40124],\n",
      "        [ 0.52294, -0.67994],\n",
      "        [-2.55440,  2.73470],\n",
      "        [-0.67539,  0.81108],\n",
      "        [-1.84996,  1.74130],\n",
      "        [-4.96984,  5.31773],\n",
      "        [ 0.61864, -0.80543],\n",
      "        [ 0.30122, -0.44582]], device='cuda:0', grad_fn=<AddmmBackward>)\n",
      "[0 0 1 1 1 1 0 0] 974\n",
      "torch.Size([8, 1, 10, 10])\n",
      "tensor([[-1.49513e+00,  1.36258e+00],\n",
      "        [ 5.04866e-04, -1.66040e-01],\n",
      "        [ 7.12176e-01, -8.31121e-01],\n",
      "        [ 3.65187e-01, -4.04412e-01],\n",
      "        [-6.04272e-01,  5.31779e-01],\n",
      "        [ 2.42505e+00, -2.64590e+00],\n",
      "        [ 1.41781e+00, -1.63993e+00],\n",
      "        [ 1.57174e+00, -1.67696e+00]], device='cuda:0', grad_fn=<AddmmBackward>)\n",
      "[1 0 0 0 1 0 0 0] 980\n"
     ]
    },
    {
     "name": "stderr",
     "output_type": "stream",
     "text": [
      "val .... :  60%|██████████████████████████████████████████████████████████████████████████▋                                                  | 144/241 [00:20<00:11,  8.63it/s]"
     ]
    },
    {
     "name": "stdout",
     "output_type": "stream",
     "text": [
      "torch.Size([8, 1, 10, 10])\n",
      "tensor([[ 1.22662, -1.39623],\n",
      "        [-0.76306,  0.67459],\n",
      "        [ 0.13185, -0.35929],\n",
      "        [-0.99514,  0.97531],\n",
      "        [-3.77909,  4.23091],\n",
      "        [ 0.45880, -0.70800],\n",
      "        [ 0.16948, -0.34552],\n",
      "        [-3.17632,  2.80512]], device='cuda:0', grad_fn=<AddmmBackward>)\n",
      "[0 1 0 1 1 0 0 1] 985\n",
      "torch.Size([8, 1, 10, 10])\n",
      "tensor([[-2.96682,  3.22205],\n",
      "        [-1.64136,  1.76812],\n",
      "        [ 1.06375, -1.21090],\n",
      "        [ 1.55685, -1.74059],\n",
      "        [-0.08850,  0.09466],\n",
      "        [ 1.81394, -2.10356],\n",
      "        [ 1.12276, -1.30833],\n",
      "        [ 1.65470, -1.86108]], device='cuda:0', grad_fn=<AddmmBackward>)\n",
      "[1 1 0 0 1 0 0 0] 993\n"
     ]
    },
    {
     "name": "stderr",
     "output_type": "stream",
     "text": [
      "\r",
      "val .... :  61%|███████████████████████████████████████████████████████████████████████████▋                                                 | 146/241 [00:21<00:11,  7.96it/s]"
     ]
    },
    {
     "name": "stdout",
     "output_type": "stream",
     "text": [
      "torch.Size([8, 1, 10, 10])\n",
      "tensor([[-0.11283, -0.03799],\n",
      "        [-0.67118,  0.55672],\n",
      "        [ 0.03450, -0.17313],\n",
      "        [ 0.19388, -0.37715],\n",
      "        [-1.38993,  0.95723],\n",
      "        [ 0.51560, -0.65017],\n",
      "        [ 1.59949, -1.78926],\n",
      "        [-0.17157, -0.06552]], device='cuda:0', grad_fn=<AddmmBackward>)\n",
      "[1 1 0 0 1 0 0 1] 998\n",
      "torch.Size([8, 1, 10, 10])\n",
      "tensor([[-1.24316,  1.35410],\n",
      "        [ 0.63559, -0.84140],\n",
      "        [-0.01657, -0.09914],\n",
      "        [ 1.69543, -1.90467],\n",
      "        [-1.46041,  1.57523],\n",
      "        [-0.62764,  0.58279],\n",
      "        [-0.78251,  0.91583],\n",
      "        [ 0.72438, -0.91511]], device='cuda:0', grad_fn=<AddmmBackward>)\n",
      "[1 0 0 0 1 1 1 0] 1005\n"
     ]
    },
    {
     "name": "stderr",
     "output_type": "stream",
     "text": [
      "val .... :  62%|█████████████████████████████████████████████████████████████████████████████▎                                               | 149/241 [00:21<00:10,  8.41it/s]"
     ]
    },
    {
     "name": "stdout",
     "output_type": "stream",
     "text": [
      "torch.Size([8, 1, 10, 10])\n",
      "tensor([[ 2.17173, -2.39609],\n",
      "        [ 0.63334, -0.75379],\n",
      "        [ 0.57481, -0.81993],\n",
      "        [-0.02138, -0.18114],\n",
      "        [ 0.92415, -1.16650],\n",
      "        [-1.71687,  2.06122],\n",
      "        [ 0.95538, -0.93823],\n",
      "        [ 0.88526, -0.90448]], device='cuda:0', grad_fn=<AddmmBackward>)\n",
      "[0 0 0 0 0 1 0 0] 1013\n",
      "torch.Size([8, 1, 10, 10])\n",
      "tensor([[ 2.01024, -2.20133],\n",
      "        [ 0.76539, -0.87022],\n",
      "        [ 0.39251, -0.51868],\n",
      "        [ 1.78496, -1.98887],\n",
      "        [ 1.88081, -2.08361],\n",
      "        [-2.18143,  2.26869],\n",
      "        [-1.78266,  1.79432],\n",
      "        [ 0.77105, -0.98332]], device='cuda:0', grad_fn=<AddmmBackward>)\n",
      "[0 0 0 0 0 1 1 0] 1020\n",
      "torch.Size([8, 1, 10, 10])\n",
      "tensor([[-2.45101,  2.65142],\n",
      "        [ 0.87271, -1.14710],\n",
      "        [-1.37940,  1.27965],\n",
      "        [-0.85510,  0.86915],\n",
      "        [ 1.12199, -1.27020],\n",
      "        [-0.65185,  0.57954],\n",
      "        [ 1.44793, -1.70267],\n",
      "        [ 1.44218, -1.66683]], device='cuda:0', grad_fn=<AddmmBackward>)\n",
      "[1 0 1 1 0 1 0 0] 1028\n"
     ]
    },
    {
     "name": "stderr",
     "output_type": "stream",
     "text": [
      "val .... :  63%|██████████████████████████████████████████████████████████████████████████████▎                                              | 151/241 [00:21<00:10,  8.37it/s]"
     ]
    },
    {
     "name": "stdout",
     "output_type": "stream",
     "text": [
      "torch.Size([8, 1, 10, 10])\n",
      "tensor([[ 1.23876, -1.45950],\n",
      "        [-3.02311,  3.26183],\n",
      "        [ 2.30081, -2.52394],\n",
      "        [-2.17813,  2.27709],\n",
      "        [-1.89412,  1.98946],\n",
      "        [ 0.93357, -1.13834],\n",
      "        [-2.00069,  2.27029],\n",
      "        [-0.24545,  0.14705]], device='cuda:0', grad_fn=<AddmmBackward>)\n",
      "[0 1 0 1 1 0 1 1] 1035\n",
      "torch.Size([8, 1, 10, 10])\n",
      "tensor([[-1.31463,  1.42414],\n",
      "        [ 0.33944, -0.43777],\n",
      "        [-0.73523,  0.68405],\n",
      "        [-0.09810, -0.11344],\n",
      "        [ 0.60842, -0.77005],\n",
      "        [-1.61265,  1.66880],\n",
      "        [-1.24577,  1.17523],\n",
      "        [-0.20141,  0.05381]], device='cuda:0', grad_fn=<AddmmBackward>)\n",
      "[1 0 1 0 0 1 1 1] 1043\n"
     ]
    },
    {
     "name": "stderr",
     "output_type": "stream",
     "text": [
      "val .... :  63%|███████████████████████████████████████████████████████████████████████████████▎                                             | 153/241 [00:22<00:11,  7.98it/s]"
     ]
    },
    {
     "name": "stdout",
     "output_type": "stream",
     "text": [
      "torch.Size([8, 1, 10, 10])\n",
      "tensor([[-2.96904,  3.31532],\n",
      "        [ 0.75117, -0.98546],\n",
      "        [ 1.48963, -1.73204],\n",
      "        [-2.94244,  2.75070],\n",
      "        [ 0.67461, -0.87042],\n",
      "        [ 1.21482, -1.43802],\n",
      "        [-0.00873, -0.14752],\n",
      "        [ 1.36497, -1.51606]], device='cuda:0', grad_fn=<AddmmBackward>)\n",
      "[1 0 0 1 0 0 0 0] 1050\n",
      "torch.Size([8, 1, 10, 10])\n",
      "tensor([[ 1.87945, -2.08026],\n",
      "        [-0.31557,  0.25997],\n",
      "        [ 0.19334, -0.30836],\n",
      "        [-3.67978,  4.11794],\n",
      "        [-2.35352,  2.57992],\n",
      "        [-1.52414,  1.23827],\n",
      "        [-3.49629,  3.83421],\n",
      "        [-2.01934,  2.20795]], device='cuda:0', grad_fn=<AddmmBackward>)\n",
      "[0 1 0 1 1 1 1 1] 1057\n",
      "torch.Size([8, 1, 10, 10])\n",
      "tensor([[ 1.22030, -1.50187],\n",
      "        [ 0.39549, -0.57236],\n",
      "        [ 0.13996, -0.14135],\n",
      "        [-2.07648,  2.14891],\n",
      "        [-0.79648,  0.78451],\n",
      "        [-2.61900,  2.73022],\n",
      "        [-1.01370,  1.09260],\n",
      "        [ 1.45526, -1.56191]], device='cuda:0', grad_fn=<AddmmBackward>)\n",
      "[0 0 0 1 1 1 1 0] 1063\n"
     ]
    },
    {
     "name": "stderr",
     "output_type": "stream",
     "text": [
      "\r",
      "val .... :  64%|████████████████████████████████████████████████████████████████████████████████▍                                            | 155/241 [00:22<00:08,  9.89it/s]"
     ]
    },
    {
     "name": "stdout",
     "output_type": "stream",
     "text": [
      "torch.Size([8, 1, 10, 10])\n",
      "tensor([[-0.41058,  0.13723],\n",
      "        [-1.02007,  0.92591],\n",
      "        [ 0.65811, -0.81874],\n",
      "        [ 1.21237, -1.45796],\n",
      "        [ 1.21165, -1.41891],\n",
      "        [ 0.15576, -0.36633],\n",
      "        [ 1.29228, -1.39319],\n",
      "        [ 0.57988, -0.62646]], device='cuda:0', grad_fn=<AddmmBackward>)\n",
      "[1 1 0 0 0 0 0 0] 1071\n",
      "torch.Size([8, 1, 10, 10])\n",
      "tensor([[ 0.45242, -0.60092],\n",
      "        [ 1.22064, -1.43379],\n",
      "        [ 1.21247, -1.41879],\n",
      "        [-0.13569, -0.07074],\n",
      "        [-4.78799,  5.18870],\n",
      "        [-0.44198,  0.33813],\n",
      "        [ 0.94306, -1.15297],\n",
      "        [-1.88981,  1.82941]], device='cuda:0', grad_fn=<AddmmBackward>)\n",
      "[0 0 0 1 1 1 0 1] 1079\n"
     ]
    },
    {
     "name": "stderr",
     "output_type": "stream",
     "text": [
      "val .... :  66%|██████████████████████████████████████████████████████████████████████████████████▍                                          | 159/241 [00:22<00:09,  8.43it/s]"
     ]
    },
    {
     "name": "stdout",
     "output_type": "stream",
     "text": [
      "torch.Size([8, 1, 10, 10])\n",
      "tensor([[-0.59727,  0.33872],\n",
      "        [-1.70431,  1.98323],\n",
      "        [ 1.11282, -1.32351],\n",
      "        [ 0.14489, -0.25368],\n",
      "        [ 1.52254, -1.72007],\n",
      "        [-0.55328,  0.28489],\n",
      "        [ 0.90951, -1.07303],\n",
      "        [ 0.41717, -0.56451]], device='cuda:0', grad_fn=<AddmmBackward>)\n",
      "[1 1 0 0 0 1 0 0] 1085\n",
      "torch.Size([8, 1, 10, 10])\n",
      "tensor([[ 0.63834, -0.83417],\n",
      "        [-1.63474,  1.59667],\n",
      "        [ 0.15747, -0.32568],\n",
      "        [ 0.96165, -1.05884],\n",
      "        [ 1.11217, -1.28751],\n",
      "        [ 1.27873, -1.46587],\n",
      "        [ 0.94761, -1.10607],\n",
      "        [-2.23318,  2.30332]], device='cuda:0', grad_fn=<AddmmBackward>)\n",
      "[0 1 0 0 0 0 0 1] 1092\n",
      "torch.Size([8, 1, 10, 10])\n",
      "tensor([[ 0.37542, -0.44999],\n",
      "        [ 1.30459, -1.48119],\n",
      "        [ 0.44901, -0.72479],\n",
      "        [-3.20350,  3.65495],\n",
      "        [-1.63320,  1.43721],\n",
      "        [ 1.88308, -2.13210],\n",
      "        [-1.90417,  1.92377],\n",
      "        [ 1.85324, -1.93937]], device='cuda:0', grad_fn=<AddmmBackward>)\n",
      "[0 0 0 1 1 0 1 0] 1099\n"
     ]
    },
    {
     "name": "stderr",
     "output_type": "stream",
     "text": [
      "val .... :  67%|████████████████████████████████████████████████████████████████████████████████████                                         | 162/241 [00:23<00:09,  8.73it/s]"
     ]
    },
    {
     "name": "stdout",
     "output_type": "stream",
     "text": [
      "torch.Size([8, 1, 10, 10])\n",
      "tensor([[ 1.80373, -2.05245],\n",
      "        [ 1.17122, -1.41547],\n",
      "        [ 0.21559, -0.24493],\n",
      "        [-0.16388,  0.05134],\n",
      "        [ 0.19724, -0.31520],\n",
      "        [ 1.04032, -1.19247],\n",
      "        [ 1.12243, -1.22321],\n",
      "        [-0.54852,  0.45667]], device='cuda:0', grad_fn=<AddmmBackward>)\n",
      "[0 0 0 1 0 0 0 1] 1107\n",
      "torch.Size([8, 1, 10, 10])\n",
      "tensor([[-3.53225,  3.42212],\n",
      "        [-0.50355,  0.34255],\n",
      "        [-1.02703,  0.84716],\n",
      "        [-2.83603,  2.99121],\n",
      "        [-0.64923,  0.56388],\n",
      "        [-3.35922,  3.64639],\n",
      "        [-2.71808,  3.10060],\n",
      "        [ 1.21905, -1.37124]], device='cuda:0', grad_fn=<AddmmBackward>)\n",
      "[1 1 1 1 1 1 1 0] 1114\n",
      "torch.Size([8, 1, 10, 10])\n",
      "tensor([[ 0.34488, -0.54561],\n",
      "        [ 0.42567, -0.58881],\n",
      "        [-3.99226,  4.13056],\n",
      "        [-0.56352,  0.50207],\n",
      "        [-1.76375,  1.73039],\n",
      "        [-3.08449,  2.81686],\n",
      "        [ 1.81588, -2.09254],\n",
      "        [-1.07284,  1.22044]], device='cuda:0', grad_fn=<AddmmBackward>)\n",
      "[0 0 1 1 1 1 0 1] 1121\n",
      "torch.Size([8, 1, 10, 10])\n",
      "tensor([[-1.48179,  1.59432],\n",
      "        [ 0.08280, -0.06509],\n",
      "        [ 1.70154, -1.86321],\n",
      "        [ 0.38110, -0.59419],\n",
      "        [-1.54672,  1.68913],\n",
      "        [-1.51467,  1.65640],\n",
      "        [-1.60160,  1.78899],\n",
      "        [-0.20734, -0.03954]], device='cuda:0', grad_fn=<AddmmBackward>)\n",
      "[1 0 0 0 1 1 1 1] 1126\n"
     ]
    },
    {
     "name": "stderr",
     "output_type": "stream",
     "text": [
      "val .... :  68%|█████████████████████████████████████████████████████████████████████████████████████▌                                       | 165/241 [00:23<00:09,  7.72it/s]"
     ]
    },
    {
     "name": "stdout",
     "output_type": "stream",
     "text": [
      "torch.Size([8, 1, 10, 10])\n",
      "tensor([[-1.22355,  1.45381],\n",
      "        [ 0.45249, -0.57176],\n",
      "        [-4.62919,  4.98856],\n",
      "        [-0.91437,  0.81070],\n",
      "        [-0.55839,  0.51719],\n",
      "        [ 0.85410, -1.00161],\n",
      "        [ 0.91435, -0.95817],\n",
      "        [ 1.31025, -1.44349]], device='cuda:0', grad_fn=<AddmmBackward>)\n",
      "[1 0 1 1 1 0 0 0] 1132\n",
      "torch.Size([8, 1, 10, 10])\n",
      "tensor([[-0.18544, -0.10279],\n",
      "        [ 0.39558, -0.50854],\n",
      "        [ 0.97111, -1.06042],\n",
      "        [-0.95965,  0.58811],\n",
      "        [-0.58096,  0.46647],\n",
      "        [ 0.95374, -1.25112],\n",
      "        [-0.62417,  0.73329],\n",
      "        [-0.85191,  0.90356]], device='cuda:0', grad_fn=<AddmmBackward>)\n",
      "[1 0 0 1 1 0 1 1] 1138\n"
     ]
    },
    {
     "name": "stderr",
     "output_type": "stream",
     "text": [
      "val .... :  70%|███████████████████████████████████████████████████████████████████████████████████████▏                                     | 168/241 [00:23<00:08,  8.56it/s]"
     ]
    },
    {
     "name": "stdout",
     "output_type": "stream",
     "text": [
      "torch.Size([8, 1, 10, 10])\n",
      "tensor([[ 0.73068, -0.83109],\n",
      "        [-0.40372,  0.23985],\n",
      "        [ 1.33696, -1.55471],\n",
      "        [ 0.16067, -0.32753],\n",
      "        [-0.57149,  0.48621],\n",
      "        [ 1.36753, -1.54544],\n",
      "        [-0.83577,  0.82489],\n",
      "        [-2.88382,  3.10936]], device='cuda:0', grad_fn=<AddmmBackward>)\n",
      "[0 1 0 0 1 0 1 1] 1144\n",
      "torch.Size([8, 1, 10, 10])\n",
      "tensor([[-1.37424,  1.42507],\n",
      "        [ 0.79975, -1.02055],\n",
      "        [-2.09798,  2.21437],\n",
      "        [-3.34582,  3.87597],\n",
      "        [-2.52103,  2.65732],\n",
      "        [-1.75780,  1.80584],\n",
      "        [-1.71525,  1.68308],\n",
      "        [-0.77771,  0.54457]], device='cuda:0', grad_fn=<AddmmBackward>)\n",
      "[1 0 1 1 1 1 1 1] 1150\n",
      "torch.Size([8, 1, 10, 10])\n",
      "tensor([[-0.78202,  0.62057],\n",
      "        [-2.23991,  2.27439],\n",
      "        [-1.22463,  1.05686],\n",
      "        [ 0.04829, -0.09181],\n",
      "        [ 1.27313, -1.51588],\n",
      "        [ 1.13907, -1.33936],\n",
      "        [-0.84332,  0.50579],\n",
      "        [-2.92967,  3.20501]], device='cuda:0', grad_fn=<AddmmBackward>)\n",
      "[1 1 1 0 0 0 1 1] 1157\n"
     ]
    },
    {
     "name": "stderr",
     "output_type": "stream",
     "text": [
      "\r",
      "val .... :  71%|████████████████████████████████████████████████████████████████████████████████████████▏                                    | 170/241 [00:24<00:07, 10.00it/s]"
     ]
    },
    {
     "name": "stdout",
     "output_type": "stream",
     "text": [
      "torch.Size([8, 1, 10, 10])\n",
      "tensor([[-1.05293,  1.04678],\n",
      "        [-2.18529,  2.28734],\n",
      "        [-1.80502,  1.95307],\n",
      "        [ 0.78132, -0.96063],\n",
      "        [ 1.52022, -1.79723],\n",
      "        [ 1.32048, -1.52589],\n",
      "        [ 0.67817, -0.83816],\n",
      "        [-3.77780,  4.08970]], device='cuda:0', grad_fn=<AddmmBackward>)\n",
      "[1 1 1 0 0 0 0 1] 1165\n",
      "torch.Size([8, 1, 10, 10])\n",
      "tensor([[ 0.98322, -1.20541],\n",
      "        [-1.03284,  0.56470],\n",
      "        [ 1.48537, -1.76837],\n",
      "        [ 0.45639, -0.69362],\n",
      "        [ 2.18883, -2.37420],\n",
      "        [-0.60919,  0.32532],\n",
      "        [ 0.65804, -0.89274],\n",
      "        [ 0.63134, -0.82355]], device='cuda:0', grad_fn=<AddmmBackward>)\n",
      "[0 1 0 0 0 1 0 0] 1173\n",
      "torch.Size([8, 1, 10, 10])\n",
      "tensor([[ 1.77362, -1.97080],\n",
      "        [ 1.54273, -1.72370],\n",
      "        [ 0.45404, -0.67006],\n",
      "        [-1.71843,  1.92541],\n",
      "        [-3.75902,  4.26771],\n",
      "        [-1.80712,  1.80759],\n",
      "        [ 0.78316, -0.80484],\n",
      "        [-2.11885,  2.29596]], device='cuda:0', grad_fn=<AddmmBackward>)\n",
      "[0 0 0 1 1 1 0 1] 1180\n"
     ]
    },
    {
     "name": "stderr",
     "output_type": "stream",
     "text": [
      "\r",
      "val .... :  71%|█████████████████████████████████████████████████████████████████████████████████████████▏                                   | 172/241 [00:24<00:06, 10.10it/s]"
     ]
    },
    {
     "name": "stdout",
     "output_type": "stream",
     "text": [
      "torch.Size([8, 1, 10, 10])\n",
      "tensor([[ 2.04822e+00, -2.32007e+00],\n",
      "        [-2.29487e+00,  2.43490e+00],\n",
      "        [-4.37952e-01,  1.82641e-01],\n",
      "        [-3.22580e-01,  2.17840e-01],\n",
      "        [ 2.99916e-01, -3.35033e-01],\n",
      "        [-8.58396e-04, -1.89093e-01],\n",
      "        [-3.06742e+00,  3.40547e+00],\n",
      "        [ 1.64399e+00, -1.86479e+00]], device='cuda:0', grad_fn=<AddmmBackward>)\n",
      "[0 1 1 1 0 0 1 0] 1187\n",
      "torch.Size([8, 1, 10, 10])\n",
      "tensor([[ 0.46608, -0.66646],\n",
      "        [ 0.05706, -0.15338],\n",
      "        [-0.46398,  0.30234],\n",
      "        [ 0.51253, -0.75785],\n",
      "        [-2.71489,  2.82575],\n",
      "        [ 0.57000, -0.78361],\n",
      "        [-1.15084,  0.97614],\n",
      "        [-1.16763,  1.32015]], device='cuda:0', grad_fn=<AddmmBackward>)\n",
      "[0 0 1 0 1 0 1 1] 1194\n"
     ]
    },
    {
     "name": "stderr",
     "output_type": "stream",
     "text": [
      "val .... :  73%|███████████████████████████████████████████████████████████████████████████████████████████▎                                 | 176/241 [00:25<00:09,  6.91it/s]"
     ]
    },
    {
     "name": "stdout",
     "output_type": "stream",
     "text": [
      "torch.Size([8, 1, 10, 10])\n",
      "tensor([[ 0.58734, -0.75465],\n",
      "        [-2.19663,  2.25703],\n",
      "        [-1.20527,  1.16778],\n",
      "        [ 0.75597, -0.99274],\n",
      "        [-1.85276,  1.78538],\n",
      "        [ 0.81339, -0.98631],\n",
      "        [-0.08710, -0.02525],\n",
      "        [ 0.22412, -0.25752]], device='cuda:0', grad_fn=<AddmmBackward>)\n",
      "[0 1 1 0 1 0 1 0] 1200\n",
      "torch.Size([8, 1, 10, 10])\n",
      "tensor([[-2.21672,  2.13713],\n",
      "        [-1.91881,  2.19588],\n",
      "        [ 0.97973, -1.04544],\n",
      "        [-2.35477,  2.38567],\n",
      "        [-0.60759,  0.77075],\n",
      "        [ 1.21578, -1.41797],\n",
      "        [-1.95950,  2.06862],\n",
      "        [-1.76201,  1.54213]], device='cuda:0', grad_fn=<AddmmBackward>)\n",
      "[1 1 0 1 1 0 1 1] 1207\n",
      "torch.Size([8, 1, 10, 10])\n",
      "tensor([[-2.73191,  2.91478],\n",
      "        [ 1.40951, -1.67393],\n",
      "        [-1.37556,  1.52588],\n",
      "        [ 0.19430, -0.37536],\n",
      "        [ 1.29218, -1.38849],\n",
      "        [-0.94962,  1.16245],\n",
      "        [-2.20787,  2.02998],\n",
      "        [-1.85923,  1.71800]], device='cuda:0', grad_fn=<AddmmBackward>)\n",
      "[1 0 1 0 0 1 1 1] 1214\n"
     ]
    },
    {
     "name": "stderr",
     "output_type": "stream",
     "text": [
      "\r",
      "val .... :  74%|████████████████████████████████████████████████████████████████████████████████████████████▎                                | 178/241 [00:25<00:07,  8.21it/s]"
     ]
    },
    {
     "name": "stdout",
     "output_type": "stream",
     "text": [
      "torch.Size([8, 1, 10, 10])\n",
      "tensor([[ 1.64785, -1.82893],\n",
      "        [ 0.64721, -0.81030],\n",
      "        [-1.08816,  1.20879],\n",
      "        [-1.37876,  1.14175],\n",
      "        [-2.68743,  2.59442],\n",
      "        [ 0.71579, -0.91716],\n",
      "        [-0.52990,  0.50418],\n",
      "        [-2.43694,  2.65811]], device='cuda:0', grad_fn=<AddmmBackward>)\n",
      "[0 0 1 1 1 0 1 1] 1222\n",
      "torch.Size([8, 1, 10, 10])\n",
      "tensor([[ 0.91264, -0.97861],\n",
      "        [ 0.24927, -0.39435],\n",
      "        [-0.52143,  0.37570],\n",
      "        [-1.34772,  1.27223],\n",
      "        [-0.38279,  0.25603],\n",
      "        [-1.62713,  1.65990],\n",
      "        [-0.55547,  0.55947],\n",
      "        [ 1.76808, -1.97163]], device='cuda:0', grad_fn=<AddmmBackward>)\n",
      "[0 0 1 1 1 1 1 0] 1227\n",
      "torch.Size([8, 1, 10, 10])\n",
      "tensor([[-1.96069,  2.09822],\n",
      "        [ 0.75030, -0.87579],\n",
      "        [-1.48721,  1.46860],\n",
      "        [ 0.41846, -0.59845],\n",
      "        [ 0.41920, -0.59272],\n",
      "        [ 1.70854, -1.84014],\n",
      "        [ 2.08021, -2.22210],\n",
      "        [ 0.53214, -0.69628]], device='cuda:0', grad_fn=<AddmmBackward>)\n",
      "[1 0 1 0 0 0 0 0] 1234\n"
     ]
    },
    {
     "name": "stderr",
     "output_type": "stream",
     "text": [
      "\r",
      "val .... :  75%|█████████████████████████████████████████████████████████████████████████████████████████████▎                               | 180/241 [00:25<00:07,  8.60it/s]"
     ]
    },
    {
     "name": "stdout",
     "output_type": "stream",
     "text": [
      "torch.Size([8, 1, 10, 10])\n",
      "tensor([[-4.59299,  5.09780],\n",
      "        [ 0.49404, -0.74231],\n",
      "        [ 0.58685, -0.73939],\n",
      "        [ 1.42206, -1.58226],\n",
      "        [-0.04571,  0.04015],\n",
      "        [ 1.47537, -1.71528],\n",
      "        [ 1.42482, -1.66740],\n",
      "        [-0.88841,  1.00133]], device='cuda:0', grad_fn=<AddmmBackward>)\n",
      "[1 0 0 0 1 0 0 1] 1240\n",
      "torch.Size([8, 1, 10, 10])\n",
      "tensor([[-2.31296,  2.48484],\n",
      "        [-0.95296,  1.01089],\n",
      "        [-1.72397,  1.74248],\n",
      "        [ 1.03043, -1.20141],\n",
      "        [-2.50117,  2.48680],\n",
      "        [-1.55440,  1.58775],\n",
      "        [-3.16589,  2.97834],\n",
      "        [-2.70375,  3.15824]], device='cuda:0', grad_fn=<AddmmBackward>)\n",
      "[1 1 1 0 1 1 1 1] 1248\n"
     ]
    },
    {
     "name": "stderr",
     "output_type": "stream",
     "text": [
      "val .... :  76%|██████████████████████████████████████████████████████████████████████████████████████████████▉                              | 183/241 [00:25<00:07,  7.67it/s]"
     ]
    },
    {
     "name": "stdout",
     "output_type": "stream",
     "text": [
      "torch.Size([8, 1, 10, 10])\n",
      "tensor([[-0.00765, -0.03374],\n",
      "        [-2.14640,  2.38652],\n",
      "        [-1.32385,  1.21382],\n",
      "        [-2.63179,  2.17866],\n",
      "        [-2.38452,  2.50521],\n",
      "        [ 0.72292, -0.90135],\n",
      "        [-3.68371,  4.11103],\n",
      "        [-2.07675,  2.41785]], device='cuda:0', grad_fn=<AddmmBackward>)\n",
      "[0 1 1 1 1 0 1 1] 1256\n",
      "torch.Size([8, 1, 10, 10])\n",
      "tensor([[-2.97361,  3.24062],\n",
      "        [-2.82304,  3.12566],\n",
      "        [-0.89099,  0.69886],\n",
      "        [-0.82457,  0.67330],\n",
      "        [ 0.86410, -1.06235],\n",
      "        [ 0.62001, -0.72562],\n",
      "        [-0.19766,  0.19243],\n",
      "        [ 0.86275, -0.92757]], device='cuda:0', grad_fn=<AddmmBackward>)\n",
      "[1 1 1 1 0 0 1 0] 1263\n"
     ]
    },
    {
     "name": "stderr",
     "output_type": "stream",
     "text": [
      "val .... :  77%|███████████████████████████████████████████████████████████████████████████████████████████████▉                             | 185/241 [00:26<00:07,  7.09it/s]"
     ]
    },
    {
     "name": "stdout",
     "output_type": "stream",
     "text": [
      "torch.Size([8, 1, 10, 10])\n",
      "tensor([[ 1.90712, -2.11473],\n",
      "        [ 0.36021, -0.53737],\n",
      "        [ 0.99429, -1.11807],\n",
      "        [-1.56048,  1.57456],\n",
      "        [-1.03894,  0.94017],\n",
      "        [ 0.79663, -0.94640],\n",
      "        [ 0.65255, -0.91279],\n",
      "        [ 0.94748, -1.04467]], device='cuda:0', grad_fn=<AddmmBackward>)\n",
      "[0 0 0 1 1 0 0 0] 1271\n",
      "torch.Size([8, 1, 10, 10])\n",
      "tensor([[-1.16697,  0.98523],\n",
      "        [-0.38073,  0.39349],\n",
      "        [ 0.03409, -0.21252],\n",
      "        [-0.56664,  0.36552],\n",
      "        [-0.75016,  0.62753],\n",
      "        [-1.27737,  1.17713],\n",
      "        [-0.04739,  0.04010],\n",
      "        [ 0.81771, -0.97611]], device='cuda:0', grad_fn=<AddmmBackward>)\n",
      "[1 1 0 1 1 1 1 0] 1278\n"
     ]
    },
    {
     "name": "stderr",
     "output_type": "stream",
     "text": [
      "val .... :  78%|████████████████████████████████████████████████████████████████████████████████████████████████▉                            | 187/241 [00:26<00:10,  5.12it/s]"
     ]
    },
    {
     "name": "stdout",
     "output_type": "stream",
     "text": [
      "torch.Size([8, 1, 10, 10])\n",
      "tensor([[ 0.85818, -1.08284],\n",
      "        [ 1.50724, -1.78041],\n",
      "        [-0.70717,  0.47192],\n",
      "        [ 2.00510, -2.23323],\n",
      "        [-0.33337,  0.18677],\n",
      "        [-2.89748,  3.20178],\n",
      "        [ 1.15323, -1.34776],\n",
      "        [ 0.60112, -0.87055]], device='cuda:0', grad_fn=<AddmmBackward>)\n",
      "[0 0 1 0 1 1 0 0] 1284\n",
      "torch.Size([8, 1, 10, 10])\n",
      "tensor([[-2.03437,  2.41521],\n",
      "        [ 0.39434, -0.45790],\n",
      "        [-1.44387,  1.45061],\n",
      "        [-0.49867,  0.45137],\n",
      "        [ 0.50979, -0.62051],\n",
      "        [-1.19034,  1.22482],\n",
      "        [-2.08904,  2.27090],\n",
      "        [-1.08533,  1.10006]], device='cuda:0', grad_fn=<AddmmBackward>)\n",
      "[1 0 1 1 0 1 1 1] 1290\n",
      "torch.Size([8, 1, 10, 10])\n",
      "tensor([[ 1.10638, -1.34624],\n",
      "        [-1.34598,  1.17774],\n",
      "        [-1.51920,  1.76151],\n",
      "        [ 0.01138, -0.04184],\n",
      "        [-2.99497,  2.98506],\n",
      "        [-2.20158,  2.31868],\n",
      "        [ 0.95274, -1.12103],\n",
      "        [ 2.33135, -2.58175]], device='cuda:0', grad_fn=<AddmmBackward>)\n",
      "[0 1 1 0 1 1 0 0] 1297\n"
     ]
    },
    {
     "name": "stderr",
     "output_type": "stream",
     "text": [
      "\r",
      "val .... :  78%|██████████████████████████████████████████████████████████████████████████████████████████████████                           | 189/241 [00:27<00:09,  5.69it/s]"
     ]
    },
    {
     "name": "stdout",
     "output_type": "stream",
     "text": [
      "torch.Size([8, 1, 10, 10])\n",
      "tensor([[-2.74808,  2.90282],\n",
      "        [ 1.03043, -1.20601],\n",
      "        [-1.59411,  1.65291],\n",
      "        [ 1.48052, -1.77380],\n",
      "        [-0.70642,  0.73807],\n",
      "        [ 0.20111, -0.36278],\n",
      "        [ 0.75099, -0.86729],\n",
      "        [ 1.39427, -1.55872]], device='cuda:0', grad_fn=<AddmmBackward>)\n",
      "[1 0 1 0 1 0 0 0] 1304\n"
     ]
    },
    {
     "name": "stderr",
     "output_type": "stream",
     "text": [
      "val .... :  80%|███████████████████████████████████████████████████████████████████████████████████████████████████▌                         | 192/241 [00:27<00:07,  6.55it/s]"
     ]
    },
    {
     "name": "stdout",
     "output_type": "stream",
     "text": [
      "torch.Size([8, 1, 10, 10])\n",
      "tensor([[ 0.75454, -0.91231],\n",
      "        [ 0.57688, -0.73536],\n",
      "        [ 1.18876, -1.42342],\n",
      "        [-1.55960,  1.48309],\n",
      "        [-1.98304,  2.17185],\n",
      "        [-3.33004,  3.76242],\n",
      "        [ 1.74565, -1.97273],\n",
      "        [ 0.68897, -0.84378]], device='cuda:0', grad_fn=<AddmmBackward>)\n",
      "[0 0 0 1 1 1 0 0] 1312\n",
      "torch.Size([8, 1, 10, 10])\n",
      "tensor([[-1.90950,  1.92440],\n",
      "        [-1.60973,  1.70493],\n",
      "        [ 0.78585, -1.00637],\n",
      "        [ 2.02865, -2.20807],\n",
      "        [-0.30628,  0.06770],\n",
      "        [ 0.97500, -1.13284],\n",
      "        [ 1.37280, -1.54729],\n",
      "        [-2.57951,  2.60485]], device='cuda:0', grad_fn=<AddmmBackward>)\n",
      "[1 1 0 0 1 0 0 1] 1319\n",
      "torch.Size([8, 1, 10, 10])\n",
      "tensor([[-1.23464,  1.32291],\n",
      "        [-2.53675,  2.34023],\n",
      "        [ 0.10809, -0.33429],\n",
      "        [ 0.35650, -0.51783],\n",
      "        [-3.03801,  3.27012],\n",
      "        [-0.65889,  0.56407],\n",
      "        [-2.11846,  2.40117],\n",
      "        [ 1.64551, -1.89419]], device='cuda:0', grad_fn=<AddmmBackward>)\n",
      "[1 1 0 0 1 1 1 0] 1324\n"
     ]
    },
    {
     "name": "stderr",
     "output_type": "stream",
     "text": [
      "\r",
      "val .... :  80%|████████████████████████████████████████████████████████████████████████████████████████████████████▌                        | 194/241 [00:27<00:06,  6.88it/s]"
     ]
    },
    {
     "name": "stdout",
     "output_type": "stream",
     "text": [
      "torch.Size([8, 1, 10, 10])\n",
      "tensor([[ 2.57636, -2.73841],\n",
      "        [ 1.52715, -1.67345],\n",
      "        [-2.12981,  2.36723],\n",
      "        [ 1.23065, -1.28792],\n",
      "        [-3.63024,  3.91016],\n",
      "        [ 0.92091, -1.10517],\n",
      "        [ 0.96659, -1.05122],\n",
      "        [-2.47440,  2.58621]], device='cuda:0', grad_fn=<AddmmBackward>)\n",
      "[0 0 1 0 1 0 0 1] 1332\n",
      "torch.Size([8, 1, 10, 10])\n",
      "tensor([[ 0.14366, -0.37188],\n",
      "        [-3.70951,  3.92160],\n",
      "        [-2.37021,  2.41964],\n",
      "        [-0.82466,  0.77753],\n",
      "        [-0.11505,  0.05627],\n",
      "        [ 1.53939, -1.82362],\n",
      "        [-0.73016,  0.74416],\n",
      "        [ 1.38207, -1.61510]], device='cuda:0', grad_fn=<AddmmBackward>)\n",
      "[0 1 1 1 1 0 1 0] 1338\n"
     ]
    },
    {
     "name": "stderr",
     "output_type": "stream",
     "text": [
      "\r",
      "val .... :  81%|█████████████████████████████████████████████████████████████████████████████████████████████████████▋                       | 196/241 [00:27<00:05,  8.25it/s]"
     ]
    },
    {
     "name": "stdout",
     "output_type": "stream",
     "text": [
      "torch.Size([8, 1, 10, 10])\n",
      "tensor([[ 1.21887, -1.42217],\n",
      "        [ 2.75004, -2.97229],\n",
      "        [ 1.86709, -2.12413],\n",
      "        [ 0.75906, -1.07060],\n",
      "        [-3.87438,  4.31291],\n",
      "        [ 1.04068, -1.15383],\n",
      "        [-0.05792, -0.09522],\n",
      "        [-2.16909,  2.34194]], device='cuda:0', grad_fn=<AddmmBackward>)\n",
      "[0 0 0 0 1 0 0 1] 1345\n",
      "torch.Size([8, 1, 10, 10])\n",
      "tensor([[-4.09277,  4.41199],\n",
      "        [-1.42591,  1.57300],\n",
      "        [ 0.64959, -0.90379],\n",
      "        [ 1.99956, -2.23146],\n",
      "        [-0.51002,  0.72583],\n",
      "        [ 1.44888, -1.70873],\n",
      "        [-2.85522,  3.13847],\n",
      "        [-1.86779,  2.09521]], device='cuda:0', grad_fn=<AddmmBackward>)\n",
      "[1 1 0 0 1 0 1 1] 1352\n"
     ]
    },
    {
     "name": "stderr",
     "output_type": "stream",
     "text": [
      "val .... :  82%|██████████████████████████████████████████████████████████████████████████████████████████████████████▋                      | 198/241 [00:28<00:06,  6.46it/s]"
     ]
    },
    {
     "name": "stdout",
     "output_type": "stream",
     "text": [
      "torch.Size([8, 1, 10, 10])\n",
      "tensor([[ 1.41290, -1.61363],\n",
      "        [-1.49423,  1.38351],\n",
      "        [-1.75860,  1.78480],\n",
      "        [-0.58980,  0.39555],\n",
      "        [-2.43739,  2.47602],\n",
      "        [ 0.37314, -0.56274],\n",
      "        [ 2.20821, -2.42626],\n",
      "        [-0.23308,  0.04882]], device='cuda:0', grad_fn=<AddmmBackward>)\n",
      "[0 1 1 1 1 0 0 1] 1360\n",
      "torch.Size([8, 1, 10, 10])\n",
      "tensor([[ 0.81993, -1.06569],\n",
      "        [ 1.45645, -1.57705],\n",
      "        [ 2.09534, -2.15768],\n",
      "        [-2.93800,  3.18915],\n",
      "        [-0.38651,  0.34585],\n",
      "        [ 0.84992, -0.92609],\n",
      "        [-2.19886,  2.45688],\n",
      "        [ 0.43705, -0.43354]], device='cuda:0', grad_fn=<AddmmBackward>)\n",
      "[0 0 0 1 1 0 1 0] 1367\n",
      "torch.Size([8, 1, 10, 10])\n",
      "tensor([[ 1.48089, -1.76180],\n",
      "        [-0.10907,  0.05506],\n",
      "        [-1.09873,  1.19394],\n",
      "        [-3.23464,  3.73144],\n",
      "        [ 1.30769, -1.40674],\n",
      "        [ 1.32879, -1.54056],\n",
      "        [ 1.15190, -1.34478],\n",
      "        [ 1.92954, -2.17344]], device='cuda:0', grad_fn=<AddmmBackward>)\n",
      "[0 1 1 1 0 0 0 0] 1374\n"
     ]
    },
    {
     "name": "stderr",
     "output_type": "stream",
     "text": [
      "\r",
      "val .... :  83%|███████████████████████████████████████████████████████████████████████████████████████████████████████▋                     | 200/241 [00:28<00:06,  6.43it/s]"
     ]
    },
    {
     "name": "stdout",
     "output_type": "stream",
     "text": [
      "torch.Size([8, 1, 10, 10])\n",
      "tensor([[ 1.48591, -1.53274],\n",
      "        [ 0.31186, -0.52167],\n",
      "        [-0.74676,  0.70544],\n",
      "        [-0.57700,  0.45307],\n",
      "        [-0.36504,  0.38213],\n",
      "        [ 1.58684, -1.80541],\n",
      "        [-0.18066,  0.36427],\n",
      "        [ 1.28033, -1.44534]], device='cuda:0', grad_fn=<AddmmBackward>)\n",
      "[0 0 1 1 1 0 1 0] 1380\n"
     ]
    },
    {
     "name": "stderr",
     "output_type": "stream",
     "text": [
      "val .... :  84%|█████████████████████████████████████████████████████████████████████████████████████████████████████████▎                   | 203/241 [00:29<00:05,  7.30it/s]"
     ]
    },
    {
     "name": "stdout",
     "output_type": "stream",
     "text": [
      "torch.Size([8, 1, 10, 10])\n",
      "tensor([[ 1.81662, -2.06411],\n",
      "        [ 0.07418, -0.24207],\n",
      "        [-3.12701,  3.47360],\n",
      "        [-0.28113,  0.27450],\n",
      "        [-1.90871,  2.02675],\n",
      "        [-3.22571,  2.78772],\n",
      "        [-0.85824,  0.91244],\n",
      "        [ 0.17401, -0.33046]], device='cuda:0', grad_fn=<AddmmBackward>)\n",
      "[0 0 1 1 1 1 1 0] 1386\n",
      "torch.Size([8, 1, 10, 10])\n",
      "tensor([[ 1.93407, -2.19362],\n",
      "        [ 1.44233, -1.56793],\n",
      "        [-0.76975,  0.83452],\n",
      "        [ 1.05766, -1.13581],\n",
      "        [ 1.12675, -1.20070],\n",
      "        [ 1.25364, -1.45623],\n",
      "        [ 1.93040, -2.12542],\n",
      "        [-3.36062,  3.72194]], device='cuda:0', grad_fn=<AddmmBackward>)\n",
      "[0 0 1 0 0 0 0 1] 1394\n",
      "torch.Size([8, 1, 10, 10])\n",
      "tensor([[ 0.61407, -0.74278],\n",
      "        [ 0.72699, -0.88736],\n",
      "        [ 1.56862, -1.80709],\n",
      "        [-1.10415,  0.94173],\n",
      "        [-1.93704,  1.97220],\n",
      "        [ 1.46448, -1.58714],\n",
      "        [ 1.45398, -1.50779],\n",
      "        [ 1.36765, -1.61789]], device='cuda:0', grad_fn=<AddmmBackward>)\n",
      "[0 0 0 1 1 0 0 0] 1402\n"
     ]
    },
    {
     "name": "stderr",
     "output_type": "stream",
     "text": [
      "\r",
      "val .... :  85%|██████████████████████████████████████████████████████████████████████████████████████████████████████████▎                  | 205/241 [00:29<00:04,  8.55it/s]"
     ]
    },
    {
     "name": "stdout",
     "output_type": "stream",
     "text": [
      "torch.Size([8, 1, 10, 10])\n",
      "tensor([[-0.89747,  0.78651],\n",
      "        [-0.78994,  0.41159],\n",
      "        [ 1.09326, -1.19842],\n",
      "        [ 0.95400, -1.15348],\n",
      "        [ 0.52847, -0.67537],\n",
      "        [ 0.18650, -0.43117],\n",
      "        [ 0.34333, -0.45030],\n",
      "        [ 1.08183, -1.34875]], device='cuda:0', grad_fn=<AddmmBackward>)\n",
      "[1 1 0 0 0 0 0 0] 1410\n",
      "torch.Size([8, 1, 10, 10])\n",
      "tensor([[-1.75622,  1.66410],\n",
      "        [-2.10343,  2.22224],\n",
      "        [-0.62348,  0.53753],\n",
      "        [ 1.20743, -1.38454],\n",
      "        [ 1.29355, -1.46602],\n",
      "        [ 1.40783, -1.49506],\n",
      "        [-3.18981,  3.41168],\n",
      "        [ 0.63280, -0.86483]], device='cuda:0', grad_fn=<AddmmBackward>)\n",
      "[1 1 1 0 0 0 1 0] 1416\n",
      "torch.Size([8, 1, 10, 10])\n",
      "tensor([[-0.19347,  0.32992],\n",
      "        [ 0.20930, -0.32173],\n",
      "        [ 0.57766, -0.58299],\n",
      "        [-0.18355,  0.07515],\n",
      "        [-0.51024,  0.59809],\n",
      "        [-2.09820,  2.26764],\n",
      "        [-1.11465,  1.14791],\n",
      "        [ 0.26511, -0.51149]], device='cuda:0', grad_fn=<AddmmBackward>)\n",
      "[1 0 0 1 1 1 1 0] 1423\n"
     ]
    },
    {
     "name": "stderr",
     "output_type": "stream",
     "text": [
      "val .... :  87%|████████████████████████████████████████████████████████████████████████████████████████████████████████████▍                | 209/241 [00:29<00:03, 10.01it/s]"
     ]
    },
    {
     "name": "stdout",
     "output_type": "stream",
     "text": [
      "torch.Size([8, 1, 10, 10])\n",
      "tensor([[ 1.02666, -1.22756],\n",
      "        [ 1.51621, -1.60108],\n",
      "        [-0.03325, -0.20317],\n",
      "        [-0.03399, -0.11170],\n",
      "        [-0.85006,  0.77777],\n",
      "        [-3.02182,  3.23249],\n",
      "        [ 1.35318, -1.60426],\n",
      "        [ 0.92049, -1.14093]], device='cuda:0', grad_fn=<AddmmBackward>)\n",
      "[0 0 0 0 1 1 0 0] 1431\n",
      "torch.Size([8, 1, 10, 10])\n",
      "tensor([[ 0.28854, -0.52142],\n",
      "        [ 1.74754, -1.81724],\n",
      "        [ 2.04292, -2.25610],\n",
      "        [ 1.13540, -1.28079],\n",
      "        [-2.01664,  2.28332],\n",
      "        [-1.64590,  1.72157],\n",
      "        [-2.92494,  3.21910],\n",
      "        [ 0.91780, -1.13533]], device='cuda:0', grad_fn=<AddmmBackward>)\n",
      "[0 0 0 0 1 1 1 0] 1438\n",
      "torch.Size([8, 1, 10, 10])\n",
      "tensor([[ 1.93959, -2.10134],\n",
      "        [-0.96723,  0.93817],\n",
      "        [-3.04782,  2.96058],\n",
      "        [-1.25767,  1.33381],\n",
      "        [ 1.53974, -1.61984],\n",
      "        [ 1.59402, -1.77001],\n",
      "        [ 0.32784, -0.47110],\n",
      "        [-0.49481,  0.33629]], device='cuda:0', grad_fn=<AddmmBackward>)\n",
      "[0 1 1 1 0 0 0 1] 1446\n"
     ]
    },
    {
     "name": "stderr",
     "output_type": "stream",
     "text": [
      "\r",
      "val .... :  88%|█████████████████████████████████████████████████████████████████████████████████████████████████████████████▍               | 211/241 [00:29<00:03,  9.26it/s]"
     ]
    },
    {
     "name": "stdout",
     "output_type": "stream",
     "text": [
      "torch.Size([8, 1, 10, 10])\n",
      "tensor([[-1.25715e+00,  1.24772e+00],\n",
      "        [ 6.04479e-01, -8.48916e-01],\n",
      "        [-3.22109e+00,  3.53607e+00],\n",
      "        [ 1.67151e+00, -1.95892e+00],\n",
      "        [-4.70065e-01,  2.81699e-01],\n",
      "        [ 5.02328e-01, -6.93856e-01],\n",
      "        [-7.21097e-04, -2.08652e-01],\n",
      "        [ 1.00147e+00, -1.18693e+00]], device='cuda:0', grad_fn=<AddmmBackward>)\n",
      "[1 0 1 0 1 0 0 0] 1453\n",
      "torch.Size([8, 1, 10, 10])\n",
      "tensor([[-3.96562,  4.31114],\n",
      "        [ 2.09392, -2.34453],\n",
      "        [ 1.13016, -1.36006],\n",
      "        [-0.99493,  0.77981],\n",
      "        [ 1.77169, -1.96322],\n",
      "        [-1.83069,  1.93880],\n",
      "        [ 0.29713, -0.43189],\n",
      "        [-0.08671, -0.06957]], device='cuda:0', grad_fn=<AddmmBackward>)\n",
      "[1 0 0 1 0 1 0 1] 1459\n",
      "torch.Size([8, 1, 10, 10])\n",
      "tensor([[ 0.84683, -1.03158],\n",
      "        [-1.43068,  1.41819],\n",
      "        [-0.53053,  0.58002],\n",
      "        [-2.92971,  2.90532],\n",
      "        [-0.86906,  0.97283],\n",
      "        [ 0.55458, -0.77137],\n",
      "        [-1.43937,  1.52503],\n",
      "        [-0.65768,  0.65040]], device='cuda:0', grad_fn=<AddmmBackward>)\n",
      "[0 1 1 1 1 0 1 1] 1465\n"
     ]
    },
    {
     "name": "stderr",
     "output_type": "stream",
     "text": [
      "val .... :  89%|██████████████████████████████████████████████████████████████████████████████████████████████████████████████▉              | 214/241 [00:30<00:03,  7.90it/s]"
     ]
    },
    {
     "name": "stdout",
     "output_type": "stream",
     "text": [
      "torch.Size([8, 1, 10, 10])\n",
      "tensor([[ 1.83214, -2.06121],\n",
      "        [-1.94014,  2.11107],\n",
      "        [ 1.43962, -1.62170],\n",
      "        [-3.08913,  3.37133],\n",
      "        [ 1.57730, -1.67693],\n",
      "        [ 0.18538, -0.34800],\n",
      "        [-0.59359,  0.67524],\n",
      "        [ 1.74867, -1.89627]], device='cuda:0', grad_fn=<AddmmBackward>)\n",
      "[0 1 0 1 0 0 1 0] 1471\n",
      "torch.Size([8, 1, 10, 10])\n",
      "tensor([[ 0.88218, -1.03979],\n",
      "        [-1.40438,  1.47702],\n",
      "        [-2.19924,  2.06169],\n",
      "        [ 1.15865, -1.33574],\n",
      "        [-3.95124,  4.44914],\n",
      "        [-0.06290, -0.08306],\n",
      "        [-1.06934,  1.17688],\n",
      "        [ 1.55462, -1.64718]], device='cuda:0', grad_fn=<AddmmBackward>)\n",
      "[0 1 1 0 1 0 1 0] 1478\n"
     ]
    },
    {
     "name": "stderr",
     "output_type": "stream",
     "text": [
      "val .... :  90%|████████████████████████████████████████████████████████████████████████████████████████████████████████████████             | 216/241 [00:30<00:03,  7.00it/s]"
     ]
    },
    {
     "name": "stdout",
     "output_type": "stream",
     "text": [
      "torch.Size([8, 1, 10, 10])\n",
      "tensor([[ 0.42207, -0.64986],\n",
      "        [-0.15707, -0.17856],\n",
      "        [-1.06054,  1.15115],\n",
      "        [ 0.57998, -0.72192],\n",
      "        [ 1.09122, -1.34892],\n",
      "        [ 0.96922, -1.10455],\n",
      "        [-0.29701,  0.19930],\n",
      "        [-0.47513,  0.31710]], device='cuda:0', grad_fn=<AddmmBackward>)\n",
      "[0 0 1 0 0 0 1 1] 1484\n",
      "torch.Size([8, 1, 10, 10])\n",
      "tensor([[ 1.32995, -1.53081],\n",
      "        [-3.58000,  3.93506],\n",
      "        [-1.61486,  1.72882],\n",
      "        [ 2.37449, -2.58319],\n",
      "        [ 0.31419, -0.26910],\n",
      "        [ 0.14894, -0.33663],\n",
      "        [-0.22148, -0.14205],\n",
      "        [ 0.07714, -0.24340]], device='cuda:0', grad_fn=<AddmmBackward>)\n",
      "[0 1 1 0 0 0 1 0] 1491\n",
      "torch.Size([8, 1, 10, 10])\n",
      "tensor([[ 2.15356, -2.35074],\n",
      "        [-0.59993,  0.60830],\n",
      "        [-1.90252,  1.82010],\n",
      "        [ 1.16721, -1.35266],\n",
      "        [-1.50138,  1.50554],\n",
      "        [-0.29413,  0.29957],\n",
      "        [-1.13616,  0.97776],\n",
      "        [ 0.75778, -0.98992]], device='cuda:0', grad_fn=<AddmmBackward>)\n",
      "[0 1 1 0 1 1 1 0] 1499\n"
     ]
    },
    {
     "name": "stderr",
     "output_type": "stream",
     "text": [
      "val .... :  91%|██████████████████████████████████████████████████████████████████████████████████████████████████████████████████           | 220/241 [00:31<00:02,  7.55it/s]"
     ]
    },
    {
     "name": "stdout",
     "output_type": "stream",
     "text": [
      "torch.Size([8, 1, 10, 10])\n",
      "tensor([[ 0.61155, -0.86855],\n",
      "        [ 0.64057, -0.77161],\n",
      "        [ 1.94759, -2.18419],\n",
      "        [ 0.28423, -0.54843],\n",
      "        [ 0.05768, -0.24013],\n",
      "        [ 1.16505, -1.41535],\n",
      "        [-1.60300,  1.81351],\n",
      "        [ 1.06981, -1.29190]], device='cuda:0', grad_fn=<AddmmBackward>)\n",
      "[0 0 0 0 0 0 1 0] 1507\n",
      "torch.Size([8, 1, 10, 10])\n",
      "tensor([[-2.73386,  3.14750],\n",
      "        [ 0.64951, -0.89254],\n",
      "        [ 0.61785, -0.79233],\n",
      "        [-3.58154,  3.37280],\n",
      "        [ 1.16341, -1.43203],\n",
      "        [-3.30179,  3.27063],\n",
      "        [ 0.98976, -1.19829],\n",
      "        [-0.35295,  0.23319]], device='cuda:0', grad_fn=<AddmmBackward>)\n",
      "[1 0 0 1 0 1 0 1] 1514\n",
      "torch.Size([8, 1, 10, 10])\n",
      "tensor([[-3.07992,  2.99694],\n",
      "        [-0.43623,  0.34960],\n",
      "        [-0.30060,  0.18228],\n",
      "        [ 1.76462, -1.99180],\n",
      "        [ 1.05837, -1.26467],\n",
      "        [-3.52528,  3.91556],\n",
      "        [-1.35534,  1.07740],\n",
      "        [-3.51555,  3.87871]], device='cuda:0', grad_fn=<AddmmBackward>)\n",
      "[1 1 1 0 0 1 1 1] 1521\n",
      "torch.Size([8, 1, 10, 10])\n",
      "tensor([[-1.84740,  1.75100],\n",
      "        [-2.80835,  2.97487],\n",
      "        [ 1.17270, -1.26225],\n",
      "        [-1.30425,  1.12506],\n",
      "        [ 0.55566, -0.62427],\n",
      "        [-1.27799,  1.18230],\n",
      "        [-1.32958,  1.37392],\n",
      "        [-1.41176,  1.49820]], device='cuda:0', grad_fn=<AddmmBackward>)\n",
      "[1 1 0 1 0 1 1 1] 1529\n"
     ]
    },
    {
     "name": "stderr",
     "output_type": "stream",
     "text": [
      "val .... :  93%|████████████████████████████████████████████████████████████████████████████████████████████████████████████████████▏        | 224/241 [00:31<00:01,  8.51it/s]"
     ]
    },
    {
     "name": "stdout",
     "output_type": "stream",
     "text": [
      "torch.Size([8, 1, 10, 10])\n",
      "tensor([[-1.75502,  1.71729],\n",
      "        [-0.55987,  0.53946],\n",
      "        [ 1.96079, -2.20471],\n",
      "        [-1.39640,  1.46207],\n",
      "        [ 2.06884, -2.30025],\n",
      "        [ 1.24063, -1.45363],\n",
      "        [ 1.34936, -1.59866],\n",
      "        [-1.83244,  2.09642]], device='cuda:0', grad_fn=<AddmmBackward>)\n",
      "[1 1 0 1 0 0 0 1] 1535\n",
      "torch.Size([8, 1, 10, 10])\n",
      "tensor([[-0.28380,  0.23101],\n",
      "        [-0.93723,  0.85349],\n",
      "        [ 0.51084, -0.67761],\n",
      "        [-1.31734,  1.46815],\n",
      "        [-1.39523,  1.61732],\n",
      "        [-3.02377,  3.38804],\n",
      "        [ 0.41934, -0.75818],\n",
      "        [-1.31973,  1.42361]], device='cuda:0', grad_fn=<AddmmBackward>)\n",
      "[1 1 0 1 1 1 0 1] 1542\n",
      "torch.Size([8, 1, 10, 10])\n",
      "tensor([[ 1.59112, -1.76721],\n",
      "        [-2.04124,  2.28122],\n",
      "        [-1.02682,  0.89212],\n",
      "        [-2.24836,  2.26385],\n",
      "        [ 1.65691, -1.88064],\n",
      "        [ 1.54042, -1.65847],\n",
      "        [-1.89461,  2.06936],\n",
      "        [-2.79917,  3.17598]], device='cuda:0', grad_fn=<AddmmBackward>)\n",
      "[0 1 1 1 0 0 1 1] 1550\n",
      "torch.Size([8, 1, 10, 10])\n",
      "tensor([[-3.30843,  3.64080],\n",
      "        [ 0.81137, -0.99854],\n",
      "        [ 2.12871, -2.38656],\n",
      "        [-2.17144,  2.40246],\n",
      "        [-2.96026,  3.29821],\n",
      "        [-0.07076, -0.17631],\n",
      "        [-0.76787,  0.56516],\n",
      "        [ 1.94891, -2.20238]], device='cuda:0', grad_fn=<AddmmBackward>)\n",
      "[1 0 0 1 1 0 1 0] 1558\n"
     ]
    },
    {
     "name": "stderr",
     "output_type": "stream",
     "text": [
      "\r",
      "val .... :  94%|█████████████████████████████████████████████████████████████████████████████████████████████████████████████████████▏       | 226/241 [00:31<00:02,  7.19it/s]"
     ]
    },
    {
     "name": "stdout",
     "output_type": "stream",
     "text": [
      "torch.Size([8, 1, 10, 10])\n",
      "tensor([[-0.62145,  0.71924],\n",
      "        [ 0.11665, -0.13729],\n",
      "        [ 0.96924, -1.12927],\n",
      "        [ 1.39504, -1.64413],\n",
      "        [ 1.75889, -1.96942],\n",
      "        [ 0.41846, -0.64267],\n",
      "        [-1.88568,  2.01865],\n",
      "        [ 0.49175, -0.63347]], device='cuda:0', grad_fn=<AddmmBackward>)\n",
      "[1 0 0 0 0 0 1 0] 1565\n"
     ]
    },
    {
     "name": "stderr",
     "output_type": "stream",
     "text": [
      "val .... :  95%|██████████████████████████████████████████████████████████████████████████████████████████████████████████████████████▎      | 228/241 [00:32<00:02,  5.83it/s]"
     ]
    },
    {
     "name": "stdout",
     "output_type": "stream",
     "text": [
      "torch.Size([8, 1, 10, 10])\n",
      "tensor([[ 0.39826, -0.27401],\n",
      "        [ 1.00687, -1.24009],\n",
      "        [ 0.04717, -0.09029],\n",
      "        [ 0.13472, -0.18974],\n",
      "        [-3.47402,  4.00367],\n",
      "        [-1.81089,  1.95826],\n",
      "        [-0.20615,  0.12281],\n",
      "        [ 0.56468, -0.83300]], device='cuda:0', grad_fn=<AddmmBackward>)\n",
      "[0 0 0 0 1 1 1 0] 1571\n",
      "torch.Size([8, 1, 10, 10])\n",
      "tensor([[-2.36175,  2.54207],\n",
      "        [ 0.53470, -0.73035],\n",
      "        [ 2.42088, -2.68236],\n",
      "        [-0.15834,  0.28244],\n",
      "        [-3.99728,  4.34185],\n",
      "        [-0.35753,  0.19297],\n",
      "        [-1.61045,  1.60653],\n",
      "        [-0.88272,  0.81969]], device='cuda:0', grad_fn=<AddmmBackward>)\n",
      "[1 0 0 1 1 1 1 1] 1578\n"
     ]
    },
    {
     "name": "stderr",
     "output_type": "stream",
     "text": [
      "val .... :  95%|███████████████████████████████████████████████████████████████████████████████████████████████████████████████████████▎     | 230/241 [00:32<00:01,  6.10it/s]"
     ]
    },
    {
     "name": "stdout",
     "output_type": "stream",
     "text": [
      "torch.Size([8, 1, 10, 10])\n",
      "tensor([[ 1.22367, -1.28389],\n",
      "        [ 0.67785, -0.88542],\n",
      "        [-0.58126,  0.61841],\n",
      "        [-0.80351,  0.66949],\n",
      "        [-0.28640,  0.20116],\n",
      "        [ 0.38153, -0.56465],\n",
      "        [-3.67363,  4.05325],\n",
      "        [ 0.89606, -1.10044]], device='cuda:0', grad_fn=<AddmmBackward>)\n",
      "[0 0 1 1 1 0 1 0] 1584\n",
      "torch.Size([8, 1, 10, 10])\n",
      "tensor([[-2.16269,  2.22759],\n",
      "        [ 0.37196, -0.45895],\n",
      "        [ 0.93115, -0.91496],\n",
      "        [ 1.86027, -2.11023],\n",
      "        [-0.91177,  0.92626],\n",
      "        [-0.98865,  1.21874],\n",
      "        [ 1.07649, -1.26547],\n",
      "        [ 0.64492, -0.83667]], device='cuda:0', grad_fn=<AddmmBackward>)\n",
      "[1 0 0 0 1 1 0 0] 1589\n"
     ]
    },
    {
     "name": "stderr",
     "output_type": "stream",
     "text": [
      "val .... :  96%|████████████████████████████████████████████████████████████████████████████████████████████████████████████████████████▎    | 232/241 [00:33<00:01,  6.17it/s]"
     ]
    },
    {
     "name": "stdout",
     "output_type": "stream",
     "text": [
      "torch.Size([8, 1, 10, 10])\n",
      "tensor([[-3.33902,  3.53193],\n",
      "        [-1.52713,  1.62450],\n",
      "        [ 0.02868, -0.13103],\n",
      "        [-2.20421,  2.30046],\n",
      "        [ 0.88423, -0.96165],\n",
      "        [ 0.04718, -0.23162],\n",
      "        [-1.05507,  0.96256],\n",
      "        [-0.53966,  0.39285]], device='cuda:0', grad_fn=<AddmmBackward>)\n",
      "[1 1 0 1 0 0 1 1] 1595\n",
      "torch.Size([8, 1, 10, 10])\n",
      "tensor([[ 0.37364, -0.44875],\n",
      "        [-2.47266,  2.39078],\n",
      "        [-3.87001,  4.24730],\n",
      "        [-3.43656,  3.82695],\n",
      "        [-2.94537,  2.87166],\n",
      "        [ 0.30593, -0.56662],\n",
      "        [ 0.30053, -0.47252],\n",
      "        [-1.76377,  1.88658]], device='cuda:0', grad_fn=<AddmmBackward>)\n",
      "[0 1 1 1 1 0 0 1] 1603\n"
     ]
    },
    {
     "name": "stderr",
     "output_type": "stream",
     "text": [
      "\r",
      "val .... :  97%|████████████████████████████████████████████████████████████████████████████████████████████████████████████████████████▊    | 233/241 [00:33<00:01,  4.70it/s]"
     ]
    },
    {
     "name": "stdout",
     "output_type": "stream",
     "text": [
      "torch.Size([8, 1, 10, 10])\n",
      "tensor([[-0.43561,  0.13547],\n",
      "        [-0.49964,  0.49247],\n",
      "        [ 0.75489, -0.90810],\n",
      "        [ 1.32053, -1.50225],\n",
      "        [-1.49821,  1.66431],\n",
      "        [ 0.69609, -0.93383],\n",
      "        [-2.71972,  2.80742],\n",
      "        [-2.35241,  2.25854]], device='cuda:0', grad_fn=<AddmmBackward>)\n",
      "[1 1 0 0 1 0 1 1] 1608\n"
     ]
    },
    {
     "name": "stderr",
     "output_type": "stream",
     "text": [
      "val .... :  98%|█████████████████████████████████████████████████████████████████████████████████████████████████████████████████████████▉   | 235/241 [00:34<00:01,  3.84it/s]"
     ]
    },
    {
     "name": "stdout",
     "output_type": "stream",
     "text": [
      "torch.Size([8, 1, 10, 10])\n",
      "tensor([[ 1.03587, -1.18147],\n",
      "        [ 1.68822, -1.83953],\n",
      "        [ 1.65901, -1.88910],\n",
      "        [-0.85246,  0.73480],\n",
      "        [ 0.72848, -0.93395],\n",
      "        [ 0.23135, -0.35515],\n",
      "        [-0.33625,  0.38308],\n",
      "        [ 1.35886, -1.52165]], device='cuda:0', grad_fn=<AddmmBackward>)\n",
      "[0 0 0 1 0 0 1 0] 1615\n",
      "torch.Size([8, 1, 10, 10])\n",
      "tensor([[-0.61981,  0.62251],\n",
      "        [-3.60447,  3.75092],\n",
      "        [-2.17569,  2.22661],\n",
      "        [ 1.69044, -1.81831],\n",
      "        [ 0.92842, -1.10987],\n",
      "        [-4.53480,  4.60940],\n",
      "        [-2.41162,  2.40298],\n",
      "        [ 0.01093, -0.17816]], device='cuda:0', grad_fn=<AddmmBackward>)\n",
      "[1 1 1 0 0 1 1 0] 1622\n"
     ]
    },
    {
     "name": "stderr",
     "output_type": "stream",
     "text": [
      "\r",
      "val .... :  98%|██████████████████████████████████████████████████████████████████████████████████████████████████████████████████████████▉  | 237/241 [00:34<00:00,  5.02it/s]"
     ]
    },
    {
     "name": "stdout",
     "output_type": "stream",
     "text": [
      "torch.Size([8, 1, 10, 10])\n",
      "tensor([[-0.24188,  0.13451],\n",
      "        [-1.99521,  2.17864],\n",
      "        [ 0.89876, -1.01673],\n",
      "        [-1.09674,  1.08069],\n",
      "        [-1.75138,  1.85366],\n",
      "        [-0.75539,  0.66803],\n",
      "        [ 1.11806, -1.22840],\n",
      "        [-1.45591,  1.52054]], device='cuda:0', grad_fn=<AddmmBackward>)\n",
      "[1 1 0 1 1 1 0 1] 1629\n",
      "torch.Size([8, 1, 10, 10])\n",
      "tensor([[ 0.04828, -0.02452],\n",
      "        [ 1.47167, -1.67243],\n",
      "        [-1.87185,  1.95835],\n",
      "        [ 1.74070, -1.97390],\n",
      "        [-0.34531,  0.24597],\n",
      "        [-0.57345,  0.42199],\n",
      "        [-0.56041,  0.51055],\n",
      "        [ 1.66928, -1.92798]], device='cuda:0', grad_fn=<AddmmBackward>)\n",
      "[0 0 1 0 1 1 1 0] 1635\n"
     ]
    },
    {
     "name": "stderr",
     "output_type": "stream",
     "text": [
      "\r",
      "val .... :  99%|███████████████████████████████████████████████████████████████████████████████████████████████████████████████████████████▉ | 239/241 [00:34<00:00,  6.50it/s]"
     ]
    },
    {
     "name": "stdout",
     "output_type": "stream",
     "text": [
      "torch.Size([8, 1, 10, 10])\n",
      "tensor([[-1.63142,  1.59637],\n",
      "        [-0.87121,  0.56772],\n",
      "        [ 1.33268, -1.46776],\n",
      "        [ 1.25342, -1.50460],\n",
      "        [-0.87841,  0.68872],\n",
      "        [ 2.09015, -2.25061],\n",
      "        [-1.02472,  0.95106],\n",
      "        [ 0.11404, -0.32741]], device='cuda:0', grad_fn=<AddmmBackward>)\n",
      "[1 1 0 0 1 0 1 0] 1643\n",
      "torch.Size([8, 1, 10, 10])\n",
      "tensor([[ 1.08008, -1.22079],\n",
      "        [-1.18989,  1.21816],\n",
      "        [ 0.16606, -0.36895],\n",
      "        [-3.46051,  3.78452],\n",
      "        [ 2.35452, -2.46205],\n",
      "        [-0.43370,  0.41613],\n",
      "        [-1.10946,  1.11151],\n",
      "        [ 1.05450, -1.25601]], device='cuda:0', grad_fn=<AddmmBackward>)\n",
      "[0 1 0 1 0 1 1 0] 1650\n"
     ]
    },
    {
     "name": "stderr",
     "output_type": "stream",
     "text": [
      "val .... : 100%|█████████████████████████████████████████████████████████████████████████████████████████████████████████████████████████████| 241/241 [00:34<00:00,  6.93it/s]"
     ]
    },
    {
     "name": "stdout",
     "output_type": "stream",
     "text": [
      "torch.Size([8, 1, 10, 10])\n",
      "tensor([[ 0.85288, -1.14320],\n",
      "        [-2.25352,  2.16076],\n",
      "        [ 1.86126, -2.05356],\n",
      "        [ 0.60799, -0.87571],\n",
      "        [ 0.45348, -0.64977],\n",
      "        [-0.38903,  0.22006],\n",
      "        [-1.03520,  0.88417],\n",
      "        [-1.84767,  1.77745]], device='cuda:0', grad_fn=<AddmmBackward>)\n",
      "[0 1 0 0 0 1 1 1] 1655\n",
      "torch.Size([7, 1, 10, 10])\n",
      "tensor([[-1.36915,  1.51671],\n",
      "        [ 0.27259, -0.46564],\n",
      "        [-0.77187,  0.83403],\n",
      "        [ 0.13272, -0.33744],\n",
      "        [ 0.81577, -0.70313],\n",
      "        [-3.14932,  3.39883],\n",
      "        [-2.46933,  2.65976]], device='cuda:0', grad_fn=<AddmmBackward>)\n",
      "[1 0 1 0 0 1 1] 1661\n"
     ]
    },
    {
     "name": "stderr",
     "output_type": "stream",
     "text": [
      "\n"
     ]
    },
    {
     "data": {
      "text/plain": [
       "0.8619615983393877"
      ]
     },
     "execution_count": 107,
     "metadata": {},
     "output_type": "execute_result"
    }
   ],
   "source": [
    "checkpoint = torch.load('zoomin_model_exp1.pth')\n",
    "class_head.load_state_dict(checkpoint)\n",
    "\n",
    "model.to(device)\n",
    "validate(model,class_head,val_dataloader)"
   ]
  },
  {
   "cell_type": "code",
   "execution_count": 15,
   "id": "cd6a5572",
   "metadata": {},
   "outputs": [
    {
     "name": "stdout",
     "output_type": "stream",
     "text": [
      " Untitled.ipynb       'review hibrid.ipynb'    zoomin_data.csv\r\n",
      " debug-model.ipynb     runs\t\t       zoomin_model.pth\r\n",
      " not-zoomin.txt        tutorial.ipynb\t       zoomin_model_exp1.pth\r\n",
      " prune.ipynb\t       update_carpart.ipynb\r\n",
      " quantiazation.ipynb   zoomin-classify.ipynb\r\n"
     ]
    }
   ],
   "source": [
    "# !cp zoomin_model.pth zoomin_model_exp1.pth\n",
    "!ls"
   ]
  },
  {
   "cell_type": "code",
   "execution_count": 21,
   "id": "0a689ce0",
   "metadata": {},
   "outputs": [],
   "source": [
    "! cp ../coco/scratch/gen_images/https:__mc-vip.s3-ap-southeast-1.amazonaws.com_krug_krug-01-10k-img_SVP390060_R90.jpg ../coco/scratch/non_zoomin/"
   ]
  },
  {
   "cell_type": "code",
   "execution_count": 22,
   "id": "0cf4b9e0",
   "metadata": {},
   "outputs": [
    {
     "data": {
      "text/plain": [
       "array([[[ 24,  28,  29],\n",
       "        [ 24,  28,  29],\n",
       "        [ 25,  29,  30],\n",
       "        ...,\n",
       "        [ 16,   0, 143],\n",
       "        [ 19,   0, 149],\n",
       "        [ 17,   0, 151]],\n",
       "\n",
       "       [[ 24,  28,  29],\n",
       "        [ 25,  29,  30],\n",
       "        [ 26,  30,  31],\n",
       "        ...,\n",
       "        [ 28,   6, 148],\n",
       "        [ 28,   7, 153],\n",
       "        [ 25,   6, 153]],\n",
       "\n",
       "       [[ 23,  27,  28],\n",
       "        [ 24,  28,  29],\n",
       "        [ 26,  30,  31],\n",
       "        ...,\n",
       "        [ 38,  13, 147],\n",
       "        [ 38,  13, 151],\n",
       "        [ 33,  10, 149]],\n",
       "\n",
       "       ...,\n",
       "\n",
       "       [[157, 169, 179],\n",
       "        [156, 173, 182],\n",
       "        [168, 194, 201],\n",
       "        ...,\n",
       "        [191, 214, 222],\n",
       "        [175, 196, 204],\n",
       "        [168, 189, 197]],\n",
       "\n",
       "       [[185, 201, 208],\n",
       "        [185, 204, 211],\n",
       "        [193, 219, 225],\n",
       "        ...,\n",
       "        [185, 211, 218],\n",
       "        [183, 209, 216],\n",
       "        [188, 214, 221]],\n",
       "\n",
       "       [[140, 156, 162],\n",
       "        [159, 181, 186],\n",
       "        [166, 195, 199],\n",
       "        ...,\n",
       "        [162, 190, 197],\n",
       "        [165, 194, 201],\n",
       "        [157, 186, 193]]], dtype=uint8)"
      ]
     },
     "execution_count": 22,
     "metadata": {},
     "output_type": "execute_result"
    }
   ],
   "source": [
    "cv2.imread('../coco/scratch/non_zoomin/https:__mc-vip.s3-ap-southeast-1.amazonaws.com_krug_krug-01-10k-img_SVP390060_R90.jpg')"
   ]
  },
  {
   "cell_type": "code",
   "execution_count": 10,
   "id": "b8909f49",
   "metadata": {},
   "outputs": [],
   "source": [
    "# data = json.load(open('../coco/scratch/annotations/carpart-gen.json'))\n",
    "# print(len(data['images']))"
   ]
  },
  {
   "cell_type": "code",
   "execution_count": 109,
   "id": "eb8a9faf",
   "metadata": {},
   "outputs": [
    {
     "name": "stderr",
     "output_type": "stream",
     "text": [
      "100%|████████████████████████████████████████████████████████████████████████████████████████████████████████████████████████████████████████████| 51965/51965 [2:24:34<00:00,  5.99it/s]\n"
     ]
    }
   ],
   "source": [
    "# annos_by_img_ids = {}\n",
    "# for i in tqdm(data['images']):\n",
    "#     annos_by_img_ids[i['id']] = [a for a in data['annotations'] if a['image_id'] == i['id']]"
   ]
  },
  {
   "cell_type": "code",
   "execution_count": null,
   "id": "e44a5878",
   "metadata": {},
   "outputs": [
    {
     "name": "stderr",
     "output_type": "stream",
     "text": [
      " 11%|███████████████▎                                                                                                                               | 5579/51965 [01:05<26:31, 29.15it/s]"
     ]
    }
   ],
   "source": [
    "# for i in tqdm(data['images']):\n",
    "#     if len(annos_by_img_ids[i['id']]) > 8 :\n",
    "#         os.system('cp ../coco/scratch/gen_images/'+i['file_name']+ ' '+str(non_zoomin_folder))\n",
    "#         with open('not-zoomin.txt','a') as f :\n",
    "#             f.write(i['file_name']+'\\n')\n",
    "    "
   ]
  },
  {
   "cell_type": "code",
   "execution_count": 116,
   "id": "9d4fff4d",
   "metadata": {},
   "outputs": [],
   "source": [
    "# non_zoomin_folder = Path('../coco/scratch/non_zoomin')\n",
    "# zoomin_folder = Path('../coco/scratch/zoomin')\n",
    "# non_zoomin_folder.mkdir(parents=True, exist_ok =True)\n",
    "# zoomin_folder.mkdir(parents=True,exist_ok=True)"
   ]
  },
  {
   "cell_type": "code",
   "execution_count": 125,
   "id": "10b7f9b8",
   "metadata": {},
   "outputs": [
    {
     "name": "stdout",
     "output_type": "stream",
     "text": [
      "31980\n"
     ]
    }
   ],
   "source": [
    "## move zoomin image\n",
    "# files = glob('../coco/scratch/crop_gen_images/*')\n",
    "# print(len(files))\n",
    "# for file in files[:5000]:\n",
    "#     os.system('cp '+str(file)+ ' '+str(zoomin_folder))"
   ]
  },
  {
   "cell_type": "code",
   "execution_count": 23,
   "id": "d8676661",
   "metadata": {},
   "outputs": [],
   "source": [
    "# train.to_csv('train.csv')\n",
    "# val.to_csv('valid.csv')"
   ]
  },
  {
   "cell_type": "code",
   "execution_count": 109,
   "id": "7055b95f",
   "metadata": {},
   "outputs": [
    {
     "data": {
      "text/plain": [
       "<bound method Module.state_dict of DetectionModel(\n",
       "  (model): Sequential(\n",
       "    (0): Conv(\n",
       "      (conv): Conv2d(3, 25, kernel_size=(6, 6), stride=(2, 2), padding=(2, 2))\n",
       "      (act): SiLU(inplace=True)\n",
       "    )\n",
       "    (1): Conv(\n",
       "      (conv): Conv2d(25, 55, kernel_size=(3, 3), stride=(2, 2), padding=(1, 1))\n",
       "      (act): SiLU(inplace=True)\n",
       "    )\n",
       "    (2): C3(\n",
       "      (cv1): Conv(\n",
       "        (conv): Conv2d(55, 24, kernel_size=(1, 1), stride=(1, 1))\n",
       "        (act): SiLU(inplace=True)\n",
       "      )\n",
       "      (cv2): Conv(\n",
       "        (conv): Conv2d(55, 27, kernel_size=(1, 1), stride=(1, 1))\n",
       "        (act): SiLU(inplace=True)\n",
       "      )\n",
       "      (cv3): Conv(\n",
       "        (conv): Conv2d(51, 40, kernel_size=(1, 1), stride=(1, 1))\n",
       "        (act): SiLU(inplace=True)\n",
       "      )\n",
       "      (m): Sequential(\n",
       "        (0): Bottleneck(\n",
       "          (cv1): Conv(\n",
       "            (conv): Conv2d(24, 32, kernel_size=(1, 1), stride=(1, 1))\n",
       "            (act): SiLU(inplace=True)\n",
       "          )\n",
       "          (cv2): Conv(\n",
       "            (conv): Conv2d(32, 24, kernel_size=(3, 3), stride=(1, 1), padding=(1, 1))\n",
       "            (act): SiLU(inplace=True)\n",
       "          )\n",
       "        )\n",
       "      )\n",
       "    )\n",
       "    (3): Conv(\n",
       "      (conv): Conv2d(40, 117, kernel_size=(3, 3), stride=(2, 2), padding=(1, 1))\n",
       "      (act): SiLU(inplace=True)\n",
       "    )\n",
       "    (4): C3(\n",
       "      (cv1): Conv(\n",
       "        (conv): Conv2d(117, 58, kernel_size=(1, 1), stride=(1, 1))\n",
       "        (act): SiLU(inplace=True)\n",
       "      )\n",
       "      (cv2): Conv(\n",
       "        (conv): Conv2d(117, 60, kernel_size=(1, 1), stride=(1, 1))\n",
       "        (act): SiLU(inplace=True)\n",
       "      )\n",
       "      (cv3): Conv(\n",
       "        (conv): Conv2d(118, 110, kernel_size=(1, 1), stride=(1, 1))\n",
       "        (act): SiLU(inplace=True)\n",
       "      )\n",
       "      (m): Sequential(\n",
       "        (0): Bottleneck(\n",
       "          (cv1): Conv(\n",
       "            (conv): Conv2d(58, 64, kernel_size=(1, 1), stride=(1, 1))\n",
       "            (act): SiLU(inplace=True)\n",
       "          )\n",
       "          (cv2): Conv(\n",
       "            (conv): Conv2d(64, 58, kernel_size=(3, 3), stride=(1, 1), padding=(1, 1))\n",
       "            (act): SiLU(inplace=True)\n",
       "          )\n",
       "        )\n",
       "        (1): Bottleneck(\n",
       "          (cv1): Conv(\n",
       "            (conv): Conv2d(58, 64, kernel_size=(1, 1), stride=(1, 1))\n",
       "            (act): SiLU(inplace=True)\n",
       "          )\n",
       "          (cv2): Conv(\n",
       "            (conv): Conv2d(64, 58, kernel_size=(3, 3), stride=(1, 1), padding=(1, 1))\n",
       "            (act): SiLU(inplace=True)\n",
       "          )\n",
       "        )\n",
       "      )\n",
       "    )\n",
       "    (5): Conv(\n",
       "      (conv): Conv2d(110, 255, kernel_size=(3, 3), stride=(2, 2), padding=(1, 1))\n",
       "      (act): SiLU(inplace=True)\n",
       "    )\n",
       "    (6): C3(\n",
       "      (cv1): Conv(\n",
       "        (conv): Conv2d(255, 127, kernel_size=(1, 1), stride=(1, 1))\n",
       "        (act): SiLU(inplace=True)\n",
       "      )\n",
       "      (cv2): Conv(\n",
       "        (conv): Conv2d(255, 127, kernel_size=(1, 1), stride=(1, 1))\n",
       "        (act): SiLU(inplace=True)\n",
       "      )\n",
       "      (cv3): Conv(\n",
       "        (conv): Conv2d(254, 252, kernel_size=(1, 1), stride=(1, 1))\n",
       "        (act): SiLU(inplace=True)\n",
       "      )\n",
       "      (m): Sequential(\n",
       "        (0): Bottleneck(\n",
       "          (cv1): Conv(\n",
       "            (conv): Conv2d(127, 128, kernel_size=(1, 1), stride=(1, 1))\n",
       "            (act): SiLU(inplace=True)\n",
       "          )\n",
       "          (cv2): Conv(\n",
       "            (conv): Conv2d(128, 127, kernel_size=(3, 3), stride=(1, 1), padding=(1, 1))\n",
       "            (act): SiLU(inplace=True)\n",
       "          )\n",
       "        )\n",
       "        (1): Bottleneck(\n",
       "          (cv1): Conv(\n",
       "            (conv): Conv2d(127, 128, kernel_size=(1, 1), stride=(1, 1))\n",
       "            (act): SiLU(inplace=True)\n",
       "          )\n",
       "          (cv2): Conv(\n",
       "            (conv): Conv2d(128, 127, kernel_size=(3, 3), stride=(1, 1), padding=(1, 1))\n",
       "            (act): SiLU(inplace=True)\n",
       "          )\n",
       "        )\n",
       "        (2): Bottleneck(\n",
       "          (cv1): Conv(\n",
       "            (conv): Conv2d(127, 128, kernel_size=(1, 1), stride=(1, 1))\n",
       "            (act): SiLU(inplace=True)\n",
       "          )\n",
       "          (cv2): Conv(\n",
       "            (conv): Conv2d(128, 127, kernel_size=(3, 3), stride=(1, 1), padding=(1, 1))\n",
       "            (act): SiLU(inplace=True)\n",
       "          )\n",
       "        )\n",
       "      )\n",
       "    )\n",
       "    (7): Conv(\n",
       "      (conv): Conv2d(252, 512, kernel_size=(3, 3), stride=(2, 2), padding=(1, 1))\n",
       "      (act): SiLU(inplace=True)\n",
       "    )\n",
       "    (8): C3(\n",
       "      (cv1): Conv(\n",
       "        (conv): Conv2d(512, 254, kernel_size=(1, 1), stride=(1, 1))\n",
       "        (act): SiLU(inplace=True)\n",
       "      )\n",
       "      (cv2): Conv(\n",
       "        (conv): Conv2d(512, 256, kernel_size=(1, 1), stride=(1, 1))\n",
       "        (act): SiLU(inplace=True)\n",
       "      )\n",
       "      (cv3): Conv(\n",
       "        (conv): Conv2d(510, 500, kernel_size=(1, 1), stride=(1, 1))\n",
       "        (act): SiLU(inplace=True)\n",
       "      )\n",
       "      (m): Sequential(\n",
       "        (0): Bottleneck(\n",
       "          (cv1): Conv(\n",
       "            (conv): Conv2d(254, 256, kernel_size=(1, 1), stride=(1, 1))\n",
       "            (act): SiLU(inplace=True)\n",
       "          )\n",
       "          (cv2): Conv(\n",
       "            (conv): Conv2d(256, 254, kernel_size=(3, 3), stride=(1, 1), padding=(1, 1))\n",
       "            (act): SiLU(inplace=True)\n",
       "          )\n",
       "        )\n",
       "      )\n",
       "    )\n",
       "    (9): SPPF(\n",
       "      (cv1): Conv(\n",
       "        (conv): Conv2d(500, 242, kernel_size=(1, 1), stride=(1, 1))\n",
       "        (act): SiLU(inplace=True)\n",
       "      )\n",
       "      (cv2): Conv(\n",
       "        (conv): Conv2d(968, 501, kernel_size=(1, 1), stride=(1, 1))\n",
       "        (act): SiLU(inplace=True)\n",
       "      )\n",
       "      (m): MaxPool2d(kernel_size=5, stride=1, padding=2, dilation=1, ceil_mode=False)\n",
       "    )\n",
       "    (10): Conv(\n",
       "      (conv): Conv2d(501, 251, kernel_size=(1, 1), stride=(1, 1))\n",
       "      (act): SiLU(inplace=True)\n",
       "    )\n",
       "    (11): Upsample(scale_factor=2.0, mode=nearest)\n",
       "    (12): Concat()\n",
       "    (13): C3(\n",
       "      (cv1): Conv(\n",
       "        (conv): Conv2d(503, 128, kernel_size=(1, 1), stride=(1, 1))\n",
       "        (act): SiLU(inplace=True)\n",
       "      )\n",
       "      (cv2): Conv(\n",
       "        (conv): Conv2d(503, 128, kernel_size=(1, 1), stride=(1, 1))\n",
       "        (act): SiLU(inplace=True)\n",
       "      )\n",
       "      (cv3): Conv(\n",
       "        (conv): Conv2d(256, 232, kernel_size=(1, 1), stride=(1, 1))\n",
       "        (act): SiLU(inplace=True)\n",
       "      )\n",
       "      (m): Sequential(\n",
       "        (0): Bottleneck(\n",
       "          (cv1): Conv(\n",
       "            (conv): Conv2d(128, 128, kernel_size=(1, 1), stride=(1, 1))\n",
       "            (act): SiLU(inplace=True)\n",
       "          )\n",
       "          (cv2): Conv(\n",
       "            (conv): Conv2d(128, 128, kernel_size=(3, 3), stride=(1, 1), padding=(1, 1))\n",
       "            (act): SiLU(inplace=True)\n",
       "          )\n",
       "        )\n",
       "      )\n",
       "    )\n",
       "    (14): Conv(\n",
       "      (conv): Conv2d(232, 120, kernel_size=(1, 1), stride=(1, 1))\n",
       "      (act): SiLU(inplace=True)\n",
       "    )\n",
       "    (15): Upsample(scale_factor=2.0, mode=nearest)\n",
       "    (16): Concat()\n",
       "    (17): C3(\n",
       "      (cv1): Conv(\n",
       "        (conv): Conv2d(230, 60, kernel_size=(1, 1), stride=(1, 1))\n",
       "        (act): SiLU(inplace=True)\n",
       "      )\n",
       "      (cv2): Conv(\n",
       "        (conv): Conv2d(230, 62, kernel_size=(1, 1), stride=(1, 1))\n",
       "        (act): SiLU(inplace=True)\n",
       "      )\n",
       "      (cv3): Conv(\n",
       "        (conv): Conv2d(122, 85, kernel_size=(1, 1), stride=(1, 1))\n",
       "        (act): SiLU(inplace=True)\n",
       "      )\n",
       "      (m): Sequential(\n",
       "        (0): Bottleneck(\n",
       "          (cv1): Conv(\n",
       "            (conv): Conv2d(60, 64, kernel_size=(1, 1), stride=(1, 1))\n",
       "            (act): SiLU(inplace=True)\n",
       "          )\n",
       "          (cv2): Conv(\n",
       "            (conv): Conv2d(64, 60, kernel_size=(3, 3), stride=(1, 1), padding=(1, 1))\n",
       "            (act): SiLU(inplace=True)\n",
       "          )\n",
       "        )\n",
       "      )\n",
       "    )\n",
       "    (18): Conv(\n",
       "      (conv): Conv2d(85, 120, kernel_size=(3, 3), stride=(2, 2), padding=(1, 1))\n",
       "      (act): SiLU(inplace=True)\n",
       "    )\n",
       "    (19): Concat()\n",
       "    (20): C3(\n",
       "      (cv1): Conv(\n",
       "        (conv): Conv2d(240, 107, kernel_size=(1, 1), stride=(1, 1))\n",
       "        (act): SiLU(inplace=True)\n",
       "      )\n",
       "      (cv2): Conv(\n",
       "        (conv): Conv2d(240, 113, kernel_size=(1, 1), stride=(1, 1))\n",
       "        (act): SiLU(inplace=True)\n",
       "      )\n",
       "      (cv3): Conv(\n",
       "        (conv): Conv2d(220, 154, kernel_size=(1, 1), stride=(1, 1))\n",
       "        (act): SiLU(inplace=True)\n",
       "      )\n",
       "      (m): Sequential(\n",
       "        (0): Bottleneck(\n",
       "          (cv1): Conv(\n",
       "            (conv): Conv2d(107, 128, kernel_size=(1, 1), stride=(1, 1))\n",
       "            (act): SiLU(inplace=True)\n",
       "          )\n",
       "          (cv2): Conv(\n",
       "            (conv): Conv2d(128, 107, kernel_size=(3, 3), stride=(1, 1), padding=(1, 1))\n",
       "            (act): SiLU(inplace=True)\n",
       "          )\n",
       "        )\n",
       "      )\n",
       "    )\n",
       "    (21): Conv(\n",
       "      (conv): Conv2d(154, 207, kernel_size=(3, 3), stride=(2, 2), padding=(1, 1))\n",
       "      (act): SiLU(inplace=True)\n",
       "    )\n",
       "    (22): Concat()\n",
       "    (23): C3(\n",
       "      (cv1): Conv(\n",
       "        (conv): Conv2d(458, 217, kernel_size=(1, 1), stride=(1, 1))\n",
       "        (act): SiLU(inplace=True)\n",
       "      )\n",
       "      (cv2): Conv(\n",
       "        (conv): Conv2d(458, 224, kernel_size=(1, 1), stride=(1, 1))\n",
       "        (act): SiLU(inplace=True)\n",
       "      )\n",
       "      (cv3): Conv(\n",
       "        (conv): Conv2d(441, 229, kernel_size=(1, 1), stride=(1, 1))\n",
       "        (act): SiLU(inplace=True)\n",
       "      )\n",
       "      (m): Sequential(\n",
       "        (0): Bottleneck(\n",
       "          (cv1): Conv(\n",
       "            (conv): Conv2d(217, 256, kernel_size=(1, 1), stride=(1, 1))\n",
       "            (act): SiLU(inplace=True)\n",
       "          )\n",
       "          (cv2): Conv(\n",
       "            (conv): Conv2d(256, 217, kernel_size=(3, 3), stride=(1, 1), padding=(1, 1))\n",
       "            (act): SiLU(inplace=True)\n",
       "          )\n",
       "        )\n",
       "      )\n",
       "    )\n",
       "    (24): Detect(\n",
       "      (m): ModuleList(\n",
       "        (0): Conv2d(85, 33, kernel_size=(1, 1), stride=(1, 1))\n",
       "        (1): Conv2d(154, 33, kernel_size=(1, 1), stride=(1, 1))\n",
       "        (2): Conv2d(229, 33, kernel_size=(1, 1), stride=(1, 1))\n",
       "      )\n",
       "    )\n",
       "  )\n",
       ")>"
      ]
     },
     "execution_count": 109,
     "metadata": {},
     "output_type": "execute_result"
    }
   ],
   "source": [
    "model.state_dict"
   ]
  },
  {
   "cell_type": "code",
   "execution_count": null,
   "id": "66852243",
   "metadata": {},
   "outputs": [],
   "source": []
  }
 ],
 "metadata": {
  "kernelspec": {
   "display_name": "Python 3 (ipykernel)",
   "language": "python",
   "name": "python3"
  },
  "language_info": {
   "codemirror_mode": {
    "name": "ipython",
    "version": 3
   },
   "file_extension": ".py",
   "mimetype": "text/x-python",
   "name": "python",
   "nbconvert_exporter": "python",
   "pygments_lexer": "ipython3",
   "version": "3.8.10"
  }
 },
 "nbformat": 4,
 "nbformat_minor": 5
}
